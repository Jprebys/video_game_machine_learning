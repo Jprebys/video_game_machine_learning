{
 "cells": [
  {
   "cell_type": "markdown",
   "metadata": {},
   "source": [
    "# Final Report Notebook\n",
    "\n",
    "Here you will find a complete summary of my work for this project--this will include all of the code required to reproduce this project, as well as detailed descriptions and motivations for each step taken.\n",
    "\n",
    "First we will make the necessary imports:"
   ]
  },
  {
   "cell_type": "code",
   "execution_count": 22,
   "metadata": {},
   "outputs": [],
   "source": [
    "# General purpose\n",
    "import pandas as pd\n",
    "import matplotlib.pyplot as plt\n",
    "import string\n",
    "\n",
    "# Visualization formatting\n",
    "plt.rcParams['font.size'] = 24\n",
    "plt.style.use('fivethirtyeight')\n",
    "\n",
    "# Natural language processing\n",
    "from sklearn.feature_extraction.text import CountVectorizer, TfidfVectorizer\n",
    "from nltk.corpus import wordnet, stopwords\n",
    "stops = stopwords.words('english') + ['game', 'player', 'gameplay']\n",
    "from nltk import pos_tag\n",
    "from nltk.stem import WordNetLemmatizer\n",
    "\n",
    "# Modeling\n",
    "from sklearn.model_selection import train_test_split, cross_validate, GridSearchCV\n",
    "from sklearn.tree import DecisionTreeClassifier\n",
    "from sklearn.ensemble import RandomForestClassifier\n",
    "from sklearn.pipeline import Pipeline\n",
    "from sklearn.svm import SVC, NuSVC"
   ]
  },
  {
   "cell_type": "markdown",
   "metadata": {},
   "source": [
    "## Data Acquisition\n",
    "\n",
    "#### VGChartz\n",
    "\n",
    "The data in this project came from a few sources. First, we'll start with the scraped data from the video game database [VGChartz](https://www.vgchartz.com/).\n",
    "\n",
    "The actual scraping work can be found in the exploratory notebook [Initial Web Scraping](../notebooks/01_explore_scrape.ipynb).\n",
    "\n",
    "Below we will import the resulting data:"
   ]
  },
  {
   "cell_type": "code",
   "execution_count": 4,
   "metadata": {},
   "outputs": [
    {
     "data": {
      "text/plain": [
       "(16719, 16)"
      ]
     },
     "execution_count": 4,
     "metadata": {},
     "output_type": "execute_result"
    }
   ],
   "source": [
    "df = pd.read_csv('../data/nice_data.csv', low_memory=False)\n",
    "df.shape"
   ]
  },
  {
   "cell_type": "markdown",
   "metadata": {},
   "source": [
    "We end up with a ton of entries! Let's see how they look"
   ]
  },
  {
   "cell_type": "code",
   "execution_count": 5,
   "metadata": {},
   "outputs": [
    {
     "data": {
      "text/html": [
       "<div>\n",
       "<style scoped>\n",
       "    .dataframe tbody tr th:only-of-type {\n",
       "        vertical-align: middle;\n",
       "    }\n",
       "\n",
       "    .dataframe tbody tr th {\n",
       "        vertical-align: top;\n",
       "    }\n",
       "\n",
       "    .dataframe thead th {\n",
       "        text-align: right;\n",
       "    }\n",
       "</style>\n",
       "<table border=\"1\" class=\"dataframe\">\n",
       "  <thead>\n",
       "    <tr style=\"text-align: right;\">\n",
       "      <th></th>\n",
       "      <th>Name</th>\n",
       "      <th>Platform</th>\n",
       "      <th>Year_of_Release</th>\n",
       "      <th>Genre</th>\n",
       "      <th>Publisher</th>\n",
       "      <th>NA_Sales</th>\n",
       "      <th>EU_Sales</th>\n",
       "      <th>JP_Sales</th>\n",
       "      <th>Other_Sales</th>\n",
       "      <th>Global_Sales</th>\n",
       "      <th>Critic_Score</th>\n",
       "      <th>Critic_Count</th>\n",
       "      <th>User_Score</th>\n",
       "      <th>User_Count</th>\n",
       "      <th>Developer</th>\n",
       "      <th>Rating</th>\n",
       "    </tr>\n",
       "  </thead>\n",
       "  <tbody>\n",
       "    <tr>\n",
       "      <th>11507</th>\n",
       "      <td>Looney Tunes: Acme Arsenal</td>\n",
       "      <td>X360</td>\n",
       "      <td>2007.0</td>\n",
       "      <td>Action</td>\n",
       "      <td>Warner Bros. Interactive Entertainment</td>\n",
       "      <td>0.06</td>\n",
       "      <td>0.01</td>\n",
       "      <td>0.00</td>\n",
       "      <td>0.01</td>\n",
       "      <td>0.08</td>\n",
       "      <td>40.0</td>\n",
       "      <td>15.0</td>\n",
       "      <td>6.8</td>\n",
       "      <td>13.0</td>\n",
       "      <td>Red Tribe</td>\n",
       "      <td>E10+</td>\n",
       "    </tr>\n",
       "    <tr>\n",
       "      <th>2358</th>\n",
       "      <td>F1 2010</td>\n",
       "      <td>X360</td>\n",
       "      <td>2010.0</td>\n",
       "      <td>Racing</td>\n",
       "      <td>Codemasters</td>\n",
       "      <td>0.18</td>\n",
       "      <td>0.59</td>\n",
       "      <td>0.01</td>\n",
       "      <td>0.10</td>\n",
       "      <td>0.88</td>\n",
       "      <td>84.0</td>\n",
       "      <td>43.0</td>\n",
       "      <td>7.5</td>\n",
       "      <td>65.0</td>\n",
       "      <td>Codemasters Birmingham</td>\n",
       "      <td>E</td>\n",
       "    </tr>\n",
       "    <tr>\n",
       "      <th>13771</th>\n",
       "      <td>Ou to Maou to 7-nin no Himegimitachi: Shin Ous...</td>\n",
       "      <td>PSV</td>\n",
       "      <td>2012.0</td>\n",
       "      <td>Action</td>\n",
       "      <td>Konami Digital Entertainment</td>\n",
       "      <td>0.00</td>\n",
       "      <td>0.00</td>\n",
       "      <td>0.04</td>\n",
       "      <td>0.00</td>\n",
       "      <td>0.04</td>\n",
       "      <td>NaN</td>\n",
       "      <td>NaN</td>\n",
       "      <td>NaN</td>\n",
       "      <td>NaN</td>\n",
       "      <td>NaN</td>\n",
       "      <td>NaN</td>\n",
       "    </tr>\n",
       "  </tbody>\n",
       "</table>\n",
       "</div>"
      ],
      "text/plain": [
       "                                                    Name Platform  \\\n",
       "11507                         Looney Tunes: Acme Arsenal     X360   \n",
       "2358                                             F1 2010     X360   \n",
       "13771  Ou to Maou to 7-nin no Himegimitachi: Shin Ous...      PSV   \n",
       "\n",
       "       Year_of_Release   Genre                               Publisher  \\\n",
       "11507           2007.0  Action  Warner Bros. Interactive Entertainment   \n",
       "2358            2010.0  Racing                             Codemasters   \n",
       "13771           2012.0  Action            Konami Digital Entertainment   \n",
       "\n",
       "       NA_Sales  EU_Sales  JP_Sales  Other_Sales  Global_Sales  Critic_Score  \\\n",
       "11507      0.06      0.01      0.00         0.01          0.08          40.0   \n",
       "2358       0.18      0.59      0.01         0.10          0.88          84.0   \n",
       "13771      0.00      0.00      0.04         0.00          0.04           NaN   \n",
       "\n",
       "       Critic_Count User_Score  User_Count               Developer Rating  \n",
       "11507          15.0        6.8        13.0               Red Tribe   E10+  \n",
       "2358           43.0        7.5        65.0  Codemasters Birmingham      E  \n",
       "13771           NaN        NaN         NaN                     NaN    NaN  "
      ]
     },
     "execution_count": 5,
     "metadata": {},
     "output_type": "execute_result"
    }
   ],
   "source": [
    "df.sample(3)"
   ]
  },
  {
   "cell_type": "markdown",
   "metadata": {},
   "source": [
    "Alright, we have a lot of missing data here. We're most interested in the 'critic_score' column, so let's see how many entries are present"
   ]
  },
  {
   "cell_type": "code",
   "execution_count": 6,
   "metadata": {},
   "outputs": [
    {
     "name": "stdout",
     "output_type": "stream",
     "text": [
      "8137 out of 16719 possible critic scores are present\n"
     ]
    }
   ],
   "source": [
    "scores = df[df.Critic_Score.isna() == False].shape\n",
    "print(f'{scores[0]} out of {df.shape[0]} possible critic scores are present')"
   ]
  },
  {
   "cell_type": "markdown",
   "metadata": {},
   "source": [
    "Not too great, a majority of our entries have no critic score values--those will need to be dropped. However, we are still left with over 8,000 games, so we'll take them to the next step\n",
    "\n",
    "#### Wikipedia\n",
    "\n",
    "For the next step in acquiring the data, we turn to the Wikipedia API. Using the available python library, getting Wikipedia information is extremely easy. This is good for us, because we will need to make a lot of requests. \n",
    "\n",
    "To use the API, you supply the name of the relevant Wikipedia page, and it will return the text of any section you would like. So we send in all of our game titles, along with some variations on them, and we got back most of our entries.\n",
    "\n",
    "We'll import the resulting data below, but the full work can be found in the [Wikiscraping Notebook](../notebooks/02_wikiscraping.ipynb)"
   ]
  },
  {
   "cell_type": "code",
   "execution_count": 7,
   "metadata": {},
   "outputs": [
    {
     "data": {
      "text/plain": [
       "(5143, 17)"
      ]
     },
     "execution_count": 7,
     "metadata": {},
     "output_type": "execute_result"
    }
   ],
   "source": [
    "df = pd.read_csv('../data/final_plots.csv').drop('Unnamed: 0', axis=1)\n",
    "df.shape"
   ]
  },
  {
   "cell_type": "markdown",
   "metadata": {},
   "source": [
    "Now we have 5,143 entries with full Wikipedia descriptions and critic scores\n",
    "\n",
    "Let's see one of these descriptions"
   ]
  },
  {
   "cell_type": "code",
   "execution_count": 8,
   "metadata": {},
   "outputs": [
    {
     "name": "stdout",
     "output_type": "stream",
     "text": [
      "Master of Illusion puts the player in the role of an illusionist who must learn and perfect his tricks. The game has three basic modes: Solo Magic, Magic Show and Magic Training. The first one is a compilation of varied minigames, the other two being the \"meat of the game\", or the important part, according to reviewers. In both, the objective is to perform tricks and earn points, which grant the player more tricks and illusions. The system has a limit for the points a player can earn in a full day, though this can be bypassed by changing the date on the Nintendo DS system.\n"
     ]
    }
   ],
   "source": [
    "print(df.plots.sample(random_state=2).values[0])"
   ]
  },
  {
   "cell_type": "markdown",
   "metadata": {},
   "source": [
    "## Data Understanding\n",
    "\n",
    "A couple things to note about the game descriptions:\n",
    "- I'm getting my descriptions directly from Wikipedia, so I don't have to deal with too many errors in the corpus (e.g. spelling, grammar)\n",
    "- Some of these entries are plot synopses, and some of them are gameplay descriptions. It appears to depend on the type of game.\n",
    "\n",
    "Now I have all the data I will need, let's take a look at a complete sample entry and examine the columns:"
   ]
  },
  {
   "cell_type": "code",
   "execution_count": 9,
   "metadata": {},
   "outputs": [
    {
     "data": {
      "text/html": [
       "<div>\n",
       "<style scoped>\n",
       "    .dataframe tbody tr th:only-of-type {\n",
       "        vertical-align: middle;\n",
       "    }\n",
       "\n",
       "    .dataframe tbody tr th {\n",
       "        vertical-align: top;\n",
       "    }\n",
       "\n",
       "    .dataframe thead th {\n",
       "        text-align: right;\n",
       "    }\n",
       "</style>\n",
       "<table border=\"1\" class=\"dataframe\">\n",
       "  <thead>\n",
       "    <tr style=\"text-align: right;\">\n",
       "      <th></th>\n",
       "      <th>Name</th>\n",
       "      <th>Platform</th>\n",
       "      <th>Year_of_Release</th>\n",
       "      <th>Genre</th>\n",
       "      <th>Publisher</th>\n",
       "      <th>NA_Sales</th>\n",
       "      <th>EU_Sales</th>\n",
       "      <th>JP_Sales</th>\n",
       "      <th>Other_Sales</th>\n",
       "      <th>Global_Sales</th>\n",
       "      <th>Critic_Score</th>\n",
       "      <th>Critic_Count</th>\n",
       "      <th>User_Score</th>\n",
       "      <th>User_Count</th>\n",
       "      <th>Developer</th>\n",
       "      <th>Rating</th>\n",
       "      <th>plots</th>\n",
       "    </tr>\n",
       "  </thead>\n",
       "  <tbody>\n",
       "    <tr>\n",
       "      <th>2825</th>\n",
       "      <td>Risen 2: Dark Waters</td>\n",
       "      <td>PS3</td>\n",
       "      <td>2012.0</td>\n",
       "      <td>Role-Playing</td>\n",
       "      <td>Deep Silver</td>\n",
       "      <td>0.04</td>\n",
       "      <td>0.13</td>\n",
       "      <td>0.01</td>\n",
       "      <td>0.04</td>\n",
       "      <td>0.22</td>\n",
       "      <td>47.0</td>\n",
       "      <td>13.0</td>\n",
       "      <td>5.2</td>\n",
       "      <td>37.0</td>\n",
       "      <td>Piranha Bytes</td>\n",
       "      <td>M</td>\n",
       "      <td>The story begins in the Fortress of Crystal at...</td>\n",
       "    </tr>\n",
       "  </tbody>\n",
       "</table>\n",
       "</div>"
      ],
      "text/plain": [
       "                      Name Platform  Year_of_Release         Genre  \\\n",
       "2825  Risen 2: Dark Waters      PS3           2012.0  Role-Playing   \n",
       "\n",
       "        Publisher  NA_Sales  EU_Sales  JP_Sales  Other_Sales  Global_Sales  \\\n",
       "2825  Deep Silver      0.04      0.13      0.01         0.04          0.22   \n",
       "\n",
       "      Critic_Score  Critic_Count User_Score  User_Count      Developer Rating  \\\n",
       "2825          47.0          13.0        5.2        37.0  Piranha Bytes      M   \n",
       "\n",
       "                                                  plots  \n",
       "2825  The story begins in the Fortress of Crystal at...  "
      ]
     },
     "execution_count": 9,
     "metadata": {},
     "output_type": "execute_result"
    }
   ],
   "source": [
    "df.sample(random_state=3)"
   ]
  },
  {
   "cell_type": "markdown",
   "metadata": {},
   "source": [
    "\n",
    "**Name**\n",
    "\n",
    "- The official title of the game at release\n",
    "\n",
    "**Platform**\n",
    "\n",
    "- The game system this title was released for: uses the standard abbreviations for each system (e.g. PS3 = Playstation 3, GC = Nintendo GameCube)\n",
    "\n",
    "**Year of Release**\n",
    "\n",
    "- The original year the game was released in. This seems to be the earliest year if the release was staggered across regions\n",
    "\n",
    "**Genre**\n",
    "\n",
    "- A single genre designation for the game. These are very simple classifications like 'shooter' or 'role-playing'\n",
    "\n",
    "**Developer**\n",
    "\n",
    "- The name of the studio responsible for making the game: programming the game, creating the artwork, etc.\n",
    "\n",
    "**Publisher**\n",
    "\n",
    "- The name of the company that sells and distributes the game\n",
    "\n",
    "\n",
    "**NA/EU/JP/Other/Global Sales**\n",
    "\n",
    "- The number of *units* sold in millions, in each particular region. The global sales figure is the sum of the other four categories\n",
    "\n",
    "**Critic Score/Critic Count**\n",
    "\n",
    "- The average of the verified critic scores from Metacritic (these range from 0.0-100.0), as well as the number of reviews that make up that figure. At minimum the score is an average of 3 reviews\n",
    "\n",
    "**User Score/User Count**\n",
    "\n",
    "- The average user score on Metacritic (10 point scale), as well as the number of reviews. At minimum there are 4 scores for each game\n",
    "\n",
    "**Rating**\n",
    "\n",
    "- The ESRB rating of the game: this can be one of E, E10+, T, M, AO, or K-A\n",
    "\n",
    "Let's check out the distribution of our critic review scores:"
   ]
  },
  {
   "cell_type": "code",
   "execution_count": 10,
   "metadata": {},
   "outputs": [
    {
     "data": {
      "image/png": "[encoded data removed]",
      "text/plain": [
       "<Figure size 720x504 with 1 Axes>"
      ]
     },
     "metadata": {},
     "output_type": "display_data"
    }
   ],
   "source": [
    "df.Critic_Score.hist(figsize=(10,7), bins=20)\n",
    "plt.title('Distribution of Critic Scores');"
   ]
  },
  {
   "cell_type": "markdown",
   "metadata": {},
   "source": [
    "In my experience, this is a typical distribution for ratings: left-skewed with the median around 70%. Let's get our data cleaned up.\n",
    "\n",
    "## Data Cleaning\n",
    "\n",
    "#### Binning\n",
    "\n",
    "The first step I will take is getting the critic scores binned. I would like to make targeting the critic scores a classification rather than a regression problem for the following reason: It's not that meaningful to try to predict what *exact score* a game will recieve. No matter the amount of score averaging, the assigned critic sccore will still have some degree of arbitrariness. More generally I think we care about whether a game receives high, average, or low scores. For this reason I will be grouping the scores in the following three groups:\n",
    "\n",
    "| Designation | Class | Score Range | \n",
    "|:-------------:|:-------:|:-------------:|\n",
    "|     High    |   2   |  (75,100]  |  \n",
    "|   Average   |   1   |   (60,75]   |   \n",
    "|     Low     |   0   |    [0,60]   |   \n",
    "\n",
    "I will use the following function to do so:"
   ]
  },
  {
   "cell_type": "code",
   "execution_count": 11,
   "metadata": {},
   "outputs": [],
   "source": [
    "def bin_scores(score):\n",
    "    if score > 60:\n",
    "        if score > 75:\n",
    "            return 2\n",
    "        return 1\n",
    "    return 0\n",
    "\n",
    "df['success'] = df['Critic_Score'].apply(bin_scores)"
   ]
  },
  {
   "cell_type": "markdown",
   "metadata": {},
   "source": [
    "Let's quickly make sure that we have a decent class balance"
   ]
  },
  {
   "cell_type": "code",
   "execution_count": 12,
   "metadata": {},
   "outputs": [
    {
     "data": {
      "image/png": "[encoded data removed]",
      "text/plain": [
       "<Figure size 432x432 with 1 Axes>"
      ]
     },
     "metadata": {},
     "output_type": "display_data"
    }
   ],
   "source": [
    "plt.figure(figsize=(6,6))\n",
    "plt.pie(df.success.value_counts(), labels=[0,1,2], labeldistance=.6)\n",
    "plt.title('Critic Score Class Balance');"
   ]
  },
  {
   "cell_type": "markdown",
   "metadata": {},
   "source": [
    "Perfect. The classes have balance, and their designations align with the way people generally think of critical reception\n",
    "\n",
    "#### Text Processing\n",
    "\n",
    "Next, I have to take our plots/descriptions and make them a little more usable. This will involve removing punctuation, adjusting case, and maybe removing stopwords.\n",
    "\n",
    "The text handling libraries I am going to use will do some of this automatically, but it can't hurt to preprocess this way."
   ]
  },
  {
   "cell_type": "code",
   "execution_count": 13,
   "metadata": {},
   "outputs": [],
   "source": [
    "def clean_text(text):\n",
    "    \n",
    "    # Removes punctuation\n",
    "    words = [''.join(ch for ch in s if ch not in string.punctuation)\\\n",
    "             for s in text.split()]\n",
    "    \n",
    "    # Returns the lower-case string\n",
    "    return ' '.join(words).lower()\n",
    "\n",
    "df.plots = df.plots.apply(clean_text)"
   ]
  },
  {
   "cell_type": "markdown",
   "metadata": {},
   "source": [
    "Here's an example of the cleaned text"
   ]
  },
  {
   "cell_type": "code",
   "execution_count": 14,
   "metadata": {},
   "outputs": [
    {
     "name": "stdout",
     "output_type": "stream",
     "text": [
      "the player takes control of either kage the ninja from the first game armed with a katana and shuriken or chihoiro a kunoichi from iga raised by hanzo hattori armed with a kusarigama both are loyal to the shogun ieyasu tokugawa their mission is to rescue tokugawas daughter princess kirihime she has been kidnapped by the demonic warlord yoshiro kuyigusa and his aidedecamp the rogue samurai yukinosuke riko in an attempt to overthrow the tokugawa shogunate\n"
     ]
    }
   ],
   "source": [
    "print(df.plots.sample(random_state=42).values[0])"
   ]
  },
  {
   "cell_type": "markdown",
   "metadata": {},
   "source": [
    "# Modeling\n",
    "\n",
    "For my first model I will take the game descriptions, vectorize them, and then feed them into a support vector machine to see how they perform"
   ]
  },
  {
   "cell_type": "code",
   "execution_count": 15,
   "metadata": {},
   "outputs": [],
   "source": [
    "X = df['plots']\n",
    "y = df['success']\n",
    "X_train, X_test, y_train, y_test = train_test_split(X, y)"
   ]
  },
  {
   "cell_type": "markdown",
   "metadata": {},
   "source": [
    "Next I'll make a pipeline so I can cross-validate my models without worrying about data leakage.\n",
    "\n",
    "In this model I'm using a count vectorizer which turns each document into a vector where each element of the vector is the number of times a specific word appears in that document."
   ]
  },
  {
   "cell_type": "code",
   "execution_count": 16,
   "metadata": {},
   "outputs": [],
   "source": [
    "pipe = Pipeline([\n",
    "    ('cv', CountVectorizer()),\n",
    "    ('svc', SVC())\n",
    "])"
   ]
  },
  {
   "cell_type": "markdown",
   "metadata": {},
   "source": [
    "Let's see how this first model performs"
   ]
  },
  {
   "cell_type": "code",
   "execution_count": 17,
   "metadata": {},
   "outputs": [
    {
     "name": "stdout",
     "output_type": "stream",
     "text": [
      "The average accuracy for this model is 0.5257995470521427\n"
     ]
    }
   ],
   "source": [
    "cv = cross_validate(estimator=pipe, X=X_train, y=y_train.values)\n",
    "print('The average accuracy for this model is {}'.format(cv['test_score'].mean()))"
   ]
  },
  {
   "cell_type": "markdown",
   "metadata": {},
   "source": [
    "Alright, not a bad place to start for a first model, but using a count vectorizer has some issues. First, really long documents become vectors with an enormous magnitude. Also, I would like to pay less attention to words that appear in all game descriptions. Words like 'game', 'player', or 'controller' are very common words and probably don't mean much for this classification.\n",
    "\n",
    "For these reasons, I will next use a Tfidf vectorizer instead. This will give those common words less value, and it should also factor in the differing document lengths"
   ]
  },
  {
   "cell_type": "code",
   "execution_count": 18,
   "metadata": {},
   "outputs": [],
   "source": [
    "pipe_2 = Pipeline([\n",
    "    ('tf', TfidfVectorizer()),\n",
    "    ('svc', SVC())\n",
    "])"
   ]
  },
  {
   "cell_type": "code",
   "execution_count": 19,
   "metadata": {},
   "outputs": [
    {
     "name": "stdout",
     "output_type": "stream",
     "text": [
      "The average accuracy for this model is 0.6131784977453412\n"
     ]
    }
   ],
   "source": [
    "cv = cross_validate(estimator=pipe_2, X=X_train, y=y_train.values)\n",
    "print('The average accuracy for this model is {}'.format(cv['test_score'].mean()))"
   ]
  },
  {
   "cell_type": "markdown",
   "metadata": {},
   "source": [
    "Great! Just by using a more sophisticated vectorizer, I am getting about 15% fewer errors\n",
    "\n",
    "Next "
   ]
  },
  {
   "cell_type": "code",
   "execution_count": 20,
   "metadata": {},
   "outputs": [],
   "source": [
    "pipe_2 = Pipeline([\n",
    "    ('tf', TfidfVectorizer(stopwords='english')),\n",
    "    ('svc', NuSVC())\n",
    "])"
   ]
  },
  {
   "cell_type": "code",
   "execution_count": 21,
   "metadata": {},
   "outputs": [
    {
     "name": "stdout",
     "output_type": "stream",
     "text": [
      "The average accuracy for this model is 0.6194014905613462\n"
     ]
    }
   ],
   "source": [
    "cv = cross_validate(estimator=pipe_2, X=X_train, y=y_train.values)\n",
    "print('The average accuracy for this model is {}'.format(cv['test_score'].mean()))"
   ]
  },
  {
   "cell_type": "code",
   "execution_count": 23,
   "metadata": {},
   "outputs": [],
   "source": [
    "params = {\n",
    "    'tf__max_features': (100,500,1000),\n",
    "    'svc__nu': (.25, .5, 1),\n",
    "    'tf__ngram_range': ((1,1), (1,2)),\n",
    "    'svc__kernel': ('rbf', 'poly')\n",
    "    \n",
    "}"
   ]
  },
  {
   "cell_type": "code",
   "execution_count": 28,
   "metadata": {},
   "outputs": [],
   "source": [
    "gs = GridSearchCV(pipe_2, params, verbose=2, return_train_score=True)"
   ]
  },
  {
   "cell_type": "code",
   "execution_count": 29,
   "metadata": {
    "collapsed": true,
    "jupyter": {
     "outputs_hidden": true
    }
   },
   "outputs": [
    {
     "name": "stdout",
     "output_type": "stream",
     "text": [
      "Fitting 5 folds for each of 36 candidates, totalling 180 fits\n",
      "[CV] svc__kernel=rbf, svc__nu=0.25, tf__max_features=100, tf__ngram_range=(1, 1) \n"
     ]
    },
    {
     "name": "stderr",
     "output_type": "stream",
     "text": [
      "[Parallel(n_jobs=1)]: Using backend SequentialBackend with 1 concurrent workers.\n"
     ]
    },
    {
     "name": "stdout",
     "output_type": "stream",
     "text": [
      "[CV]  svc__kernel=rbf, svc__nu=0.25, tf__max_features=100, tf__ngram_range=(1, 1), total=   6.4s\n",
      "[CV] svc__kernel=rbf, svc__nu=0.25, tf__max_features=100, tf__ngram_range=(1, 1) \n"
     ]
    },
    {
     "name": "stderr",
     "output_type": "stream",
     "text": [
      "[Parallel(n_jobs=1)]: Done   1 out of   1 | elapsed:    9.8s remaining:    0.0s\n"
     ]
    },
    {
     "name": "stdout",
     "output_type": "stream",
     "text": [
      "[CV]  svc__kernel=rbf, svc__nu=0.25, tf__max_features=100, tf__ngram_range=(1, 1), total=   6.5s\n",
      "[CV] svc__kernel=rbf, svc__nu=0.25, tf__max_features=100, tf__ngram_range=(1, 1) \n",
      "[CV]  svc__kernel=rbf, svc__nu=0.25, tf__max_features=100, tf__ngram_range=(1, 1), total=   6.1s\n",
      "[CV] svc__kernel=rbf, svc__nu=0.25, tf__max_features=100, tf__ngram_range=(1, 1) \n",
      "[CV]  svc__kernel=rbf, svc__nu=0.25, tf__max_features=100, tf__ngram_range=(1, 1), total=   6.3s\n",
      "[CV] svc__kernel=rbf, svc__nu=0.25, tf__max_features=100, tf__ngram_range=(1, 1) \n",
      "[CV]  svc__kernel=rbf, svc__nu=0.25, tf__max_features=100, tf__ngram_range=(1, 1), total=   6.3s\n",
      "[CV] svc__kernel=rbf, svc__nu=0.25, tf__max_features=100, tf__ngram_range=(1, 2) \n",
      "[CV]  svc__kernel=rbf, svc__nu=0.25, tf__max_features=100, tf__ngram_range=(1, 2), total=   8.9s\n",
      "[CV] svc__kernel=rbf, svc__nu=0.25, tf__max_features=100, tf__ngram_range=(1, 2) \n",
      "[CV]  svc__kernel=rbf, svc__nu=0.25, tf__max_features=100, tf__ngram_range=(1, 2), total=   9.0s\n",
      "[CV] svc__kernel=rbf, svc__nu=0.25, tf__max_features=100, tf__ngram_range=(1, 2) \n",
      "[CV]  svc__kernel=rbf, svc__nu=0.25, tf__max_features=100, tf__ngram_range=(1, 2), total=   9.5s\n",
      "[CV] svc__kernel=rbf, svc__nu=0.25, tf__max_features=100, tf__ngram_range=(1, 2) \n",
      "[CV]  svc__kernel=rbf, svc__nu=0.25, tf__max_features=100, tf__ngram_range=(1, 2), total=   9.0s\n",
      "[CV] svc__kernel=rbf, svc__nu=0.25, tf__max_features=100, tf__ngram_range=(1, 2) \n",
      "[CV]  svc__kernel=rbf, svc__nu=0.25, tf__max_features=100, tf__ngram_range=(1, 2), total=   9.2s\n",
      "[CV] svc__kernel=rbf, svc__nu=0.25, tf__max_features=500, tf__ngram_range=(1, 1) \n",
      "[CV]  svc__kernel=rbf, svc__nu=0.25, tf__max_features=500, tf__ngram_range=(1, 1), total=  11.3s\n",
      "[CV] svc__kernel=rbf, svc__nu=0.25, tf__max_features=500, tf__ngram_range=(1, 1) \n",
      "[CV]  svc__kernel=rbf, svc__nu=0.25, tf__max_features=500, tf__ngram_range=(1, 1), total=  10.9s\n",
      "[CV] svc__kernel=rbf, svc__nu=0.25, tf__max_features=500, tf__ngram_range=(1, 1) \n",
      "[CV]  svc__kernel=rbf, svc__nu=0.25, tf__max_features=500, tf__ngram_range=(1, 1), total=  11.7s\n",
      "[CV] svc__kernel=rbf, svc__nu=0.25, tf__max_features=500, tf__ngram_range=(1, 1) \n",
      "[CV]  svc__kernel=rbf, svc__nu=0.25, tf__max_features=500, tf__ngram_range=(1, 1), total=  11.1s\n",
      "[CV] svc__kernel=rbf, svc__nu=0.25, tf__max_features=500, tf__ngram_range=(1, 1) \n",
      "[CV]  svc__kernel=rbf, svc__nu=0.25, tf__max_features=500, tf__ngram_range=(1, 1), total=  12.1s\n",
      "[CV] svc__kernel=rbf, svc__nu=0.25, tf__max_features=500, tf__ngram_range=(1, 2) \n",
      "[CV]  svc__kernel=rbf, svc__nu=0.25, tf__max_features=500, tf__ngram_range=(1, 2), total=  15.7s\n",
      "[CV] svc__kernel=rbf, svc__nu=0.25, tf__max_features=500, tf__ngram_range=(1, 2) \n",
      "[CV]  svc__kernel=rbf, svc__nu=0.25, tf__max_features=500, tf__ngram_range=(1, 2), total=  16.1s\n",
      "[CV] svc__kernel=rbf, svc__nu=0.25, tf__max_features=500, tf__ngram_range=(1, 2) \n",
      "[CV]  svc__kernel=rbf, svc__nu=0.25, tf__max_features=500, tf__ngram_range=(1, 2), total=  16.2s\n",
      "[CV] svc__kernel=rbf, svc__nu=0.25, tf__max_features=500, tf__ngram_range=(1, 2) \n",
      "[CV]  svc__kernel=rbf, svc__nu=0.25, tf__max_features=500, tf__ngram_range=(1, 2), total=  15.5s\n",
      "[CV] svc__kernel=rbf, svc__nu=0.25, tf__max_features=500, tf__ngram_range=(1, 2) \n",
      "[CV]  svc__kernel=rbf, svc__nu=0.25, tf__max_features=500, tf__ngram_range=(1, 2), total=  15.8s\n",
      "[CV] svc__kernel=rbf, svc__nu=0.25, tf__max_features=1000, tf__ngram_range=(1, 1) \n",
      "[CV]  svc__kernel=rbf, svc__nu=0.25, tf__max_features=1000, tf__ngram_range=(1, 1), total=  14.1s\n",
      "[CV] svc__kernel=rbf, svc__nu=0.25, tf__max_features=1000, tf__ngram_range=(1, 1) \n",
      "[CV]  svc__kernel=rbf, svc__nu=0.25, tf__max_features=1000, tf__ngram_range=(1, 1), total=  13.9s\n",
      "[CV] svc__kernel=rbf, svc__nu=0.25, tf__max_features=1000, tf__ngram_range=(1, 1) \n",
      "[CV]  svc__kernel=rbf, svc__nu=0.25, tf__max_features=1000, tf__ngram_range=(1, 1), total=  14.3s\n",
      "[CV] svc__kernel=rbf, svc__nu=0.25, tf__max_features=1000, tf__ngram_range=(1, 1) \n",
      "[CV]  svc__kernel=rbf, svc__nu=0.25, tf__max_features=1000, tf__ngram_range=(1, 1), total=  14.2s\n",
      "[CV] svc__kernel=rbf, svc__nu=0.25, tf__max_features=1000, tf__ngram_range=(1, 1) \n",
      "[CV]  svc__kernel=rbf, svc__nu=0.25, tf__max_features=1000, tf__ngram_range=(1, 1), total=  14.5s\n",
      "[CV] svc__kernel=rbf, svc__nu=0.25, tf__max_features=1000, tf__ngram_range=(1, 2) \n",
      "[CV]  svc__kernel=rbf, svc__nu=0.25, tf__max_features=1000, tf__ngram_range=(1, 2), total=  19.8s\n",
      "[CV] svc__kernel=rbf, svc__nu=0.25, tf__max_features=1000, tf__ngram_range=(1, 2) \n",
      "[CV]  svc__kernel=rbf, svc__nu=0.25, tf__max_features=1000, tf__ngram_range=(1, 2), total=  20.0s\n",
      "[CV] svc__kernel=rbf, svc__nu=0.25, tf__max_features=1000, tf__ngram_range=(1, 2) \n",
      "[CV]  svc__kernel=rbf, svc__nu=0.25, tf__max_features=1000, tf__ngram_range=(1, 2), total=  23.1s\n",
      "[CV] svc__kernel=rbf, svc__nu=0.25, tf__max_features=1000, tf__ngram_range=(1, 2) \n",
      "[CV]  svc__kernel=rbf, svc__nu=0.25, tf__max_features=1000, tf__ngram_range=(1, 2), total=  23.6s\n",
      "[CV] svc__kernel=rbf, svc__nu=0.25, tf__max_features=1000, tf__ngram_range=(1, 2) \n",
      "[CV]  svc__kernel=rbf, svc__nu=0.25, tf__max_features=1000, tf__ngram_range=(1, 2), total=  24.4s\n",
      "[CV] svc__kernel=rbf, svc__nu=0.5, tf__max_features=100, tf__ngram_range=(1, 1) \n",
      "[CV]  svc__kernel=rbf, svc__nu=0.5, tf__max_features=100, tf__ngram_range=(1, 1), total=   8.1s\n",
      "[CV] svc__kernel=rbf, svc__nu=0.5, tf__max_features=100, tf__ngram_range=(1, 1) \n",
      "[CV]  svc__kernel=rbf, svc__nu=0.5, tf__max_features=100, tf__ngram_range=(1, 1), total=   9.1s\n",
      "[CV] svc__kernel=rbf, svc__nu=0.5, tf__max_features=100, tf__ngram_range=(1, 1) \n",
      "[CV]  svc__kernel=rbf, svc__nu=0.5, tf__max_features=100, tf__ngram_range=(1, 1), total=   8.5s\n",
      "[CV] svc__kernel=rbf, svc__nu=0.5, tf__max_features=100, tf__ngram_range=(1, 1) \n",
      "[CV]  svc__kernel=rbf, svc__nu=0.5, tf__max_features=100, tf__ngram_range=(1, 1), total=   8.6s\n",
      "[CV] svc__kernel=rbf, svc__nu=0.5, tf__max_features=100, tf__ngram_range=(1, 1) \n",
      "[CV]  svc__kernel=rbf, svc__nu=0.5, tf__max_features=100, tf__ngram_range=(1, 1), total=   7.7s\n",
      "[CV] svc__kernel=rbf, svc__nu=0.5, tf__max_features=100, tf__ngram_range=(1, 2) \n",
      "[CV]  svc__kernel=rbf, svc__nu=0.5, tf__max_features=100, tf__ngram_range=(1, 2), total=  11.2s\n",
      "[CV] svc__kernel=rbf, svc__nu=0.5, tf__max_features=100, tf__ngram_range=(1, 2) \n",
      "[CV]  svc__kernel=rbf, svc__nu=0.5, tf__max_features=100, tf__ngram_range=(1, 2), total=  11.7s\n",
      "[CV] svc__kernel=rbf, svc__nu=0.5, tf__max_features=100, tf__ngram_range=(1, 2) \n",
      "[CV]  svc__kernel=rbf, svc__nu=0.5, tf__max_features=100, tf__ngram_range=(1, 2), total=  10.3s\n",
      "[CV] svc__kernel=rbf, svc__nu=0.5, tf__max_features=100, tf__ngram_range=(1, 2) \n",
      "[CV]  svc__kernel=rbf, svc__nu=0.5, tf__max_features=100, tf__ngram_range=(1, 2), total=  10.9s\n",
      "[CV] svc__kernel=rbf, svc__nu=0.5, tf__max_features=100, tf__ngram_range=(1, 2) \n",
      "[CV]  svc__kernel=rbf, svc__nu=0.5, tf__max_features=100, tf__ngram_range=(1, 2), total=  10.7s\n",
      "[CV] svc__kernel=rbf, svc__nu=0.5, tf__max_features=500, tf__ngram_range=(1, 1) \n",
      "[CV]  svc__kernel=rbf, svc__nu=0.5, tf__max_features=500, tf__ngram_range=(1, 1), total=  12.7s\n",
      "[CV] svc__kernel=rbf, svc__nu=0.5, tf__max_features=500, tf__ngram_range=(1, 1) \n",
      "[CV]  svc__kernel=rbf, svc__nu=0.5, tf__max_features=500, tf__ngram_range=(1, 1), total=  14.7s\n",
      "[CV] svc__kernel=rbf, svc__nu=0.5, tf__max_features=500, tf__ngram_range=(1, 1) \n",
      "[CV]  svc__kernel=rbf, svc__nu=0.5, tf__max_features=500, tf__ngram_range=(1, 1), total=  13.9s\n",
      "[CV] svc__kernel=rbf, svc__nu=0.5, tf__max_features=500, tf__ngram_range=(1, 1) \n",
      "[CV]  svc__kernel=rbf, svc__nu=0.5, tf__max_features=500, tf__ngram_range=(1, 1), total=  13.5s\n",
      "[CV] svc__kernel=rbf, svc__nu=0.5, tf__max_features=500, tf__ngram_range=(1, 1) \n",
      "[CV]  svc__kernel=rbf, svc__nu=0.5, tf__max_features=500, tf__ngram_range=(1, 1), total=  18.7s\n",
      "[CV] svc__kernel=rbf, svc__nu=0.5, tf__max_features=500, tf__ngram_range=(1, 2) \n",
      "[CV]  svc__kernel=rbf, svc__nu=0.5, tf__max_features=500, tf__ngram_range=(1, 2), total=  20.3s\n",
      "[CV] svc__kernel=rbf, svc__nu=0.5, tf__max_features=500, tf__ngram_range=(1, 2) \n",
      "[CV]  svc__kernel=rbf, svc__nu=0.5, tf__max_features=500, tf__ngram_range=(1, 2), total=  18.0s\n",
      "[CV] svc__kernel=rbf, svc__nu=0.5, tf__max_features=500, tf__ngram_range=(1, 2) \n",
      "[CV]  svc__kernel=rbf, svc__nu=0.5, tf__max_features=500, tf__ngram_range=(1, 2), total=  20.8s\n",
      "[CV] svc__kernel=rbf, svc__nu=0.5, tf__max_features=500, tf__ngram_range=(1, 2) \n",
      "[CV]  svc__kernel=rbf, svc__nu=0.5, tf__max_features=500, tf__ngram_range=(1, 2), total=  21.3s\n",
      "[CV] svc__kernel=rbf, svc__nu=0.5, tf__max_features=500, tf__ngram_range=(1, 2) \n",
      "[CV]  svc__kernel=rbf, svc__nu=0.5, tf__max_features=500, tf__ngram_range=(1, 2), total=  20.7s\n",
      "[CV] svc__kernel=rbf, svc__nu=0.5, tf__max_features=1000, tf__ngram_range=(1, 1) \n",
      "[CV]  svc__kernel=rbf, svc__nu=0.5, tf__max_features=1000, tf__ngram_range=(1, 1), total=  18.2s\n",
      "[CV] svc__kernel=rbf, svc__nu=0.5, tf__max_features=1000, tf__ngram_range=(1, 1) \n",
      "[CV]  svc__kernel=rbf, svc__nu=0.5, tf__max_features=1000, tf__ngram_range=(1, 1), total=  19.5s\n",
      "[CV] svc__kernel=rbf, svc__nu=0.5, tf__max_features=1000, tf__ngram_range=(1, 1) \n",
      "[CV]  svc__kernel=rbf, svc__nu=0.5, tf__max_features=1000, tf__ngram_range=(1, 1), total=  16.4s\n",
      "[CV] svc__kernel=rbf, svc__nu=0.5, tf__max_features=1000, tf__ngram_range=(1, 1) \n",
      "[CV]  svc__kernel=rbf, svc__nu=0.5, tf__max_features=1000, tf__ngram_range=(1, 1), total=  16.4s\n",
      "[CV] svc__kernel=rbf, svc__nu=0.5, tf__max_features=1000, tf__ngram_range=(1, 1) \n",
      "[CV]  svc__kernel=rbf, svc__nu=0.5, tf__max_features=1000, tf__ngram_range=(1, 1), total=  16.8s\n",
      "[CV] svc__kernel=rbf, svc__nu=0.5, tf__max_features=1000, tf__ngram_range=(1, 2) \n",
      "[CV]  svc__kernel=rbf, svc__nu=0.5, tf__max_features=1000, tf__ngram_range=(1, 2), total=  22.4s\n",
      "[CV] svc__kernel=rbf, svc__nu=0.5, tf__max_features=1000, tf__ngram_range=(1, 2) \n",
      "[CV]  svc__kernel=rbf, svc__nu=0.5, tf__max_features=1000, tf__ngram_range=(1, 2), total=  21.7s\n",
      "[CV] svc__kernel=rbf, svc__nu=0.5, tf__max_features=1000, tf__ngram_range=(1, 2) \n",
      "[CV]  svc__kernel=rbf, svc__nu=0.5, tf__max_features=1000, tf__ngram_range=(1, 2), total=  22.5s\n",
      "[CV] svc__kernel=rbf, svc__nu=0.5, tf__max_features=1000, tf__ngram_range=(1, 2) \n",
      "[CV]  svc__kernel=rbf, svc__nu=0.5, tf__max_features=1000, tf__ngram_range=(1, 2), total=  21.7s\n",
      "[CV] svc__kernel=rbf, svc__nu=0.5, tf__max_features=1000, tf__ngram_range=(1, 2) \n",
      "[CV]  svc__kernel=rbf, svc__nu=0.5, tf__max_features=1000, tf__ngram_range=(1, 2), total=  22.7s\n",
      "[CV] svc__kernel=rbf, svc__nu=1, tf__max_features=100, tf__ngram_range=(1, 1) \n"
     ]
    },
    {
     "name": "stderr",
     "output_type": "stream",
     "text": [
      "C:\\Users\\jaker\\anaconda3\\envs\\vgenv\\lib\\site-packages\\sklearn\\model_selection\\_validation.py:552: FitFailedWarning: Estimator fit failed. The score on this train-test partition for these parameters will be set to nan. Details: \n",
      "Traceback (most recent call last):\n",
      "  File \"C:\\Users\\jaker\\anaconda3\\envs\\vgenv\\lib\\site-packages\\sklearn\\model_selection\\_validation.py\", line 531, in _fit_and_score\n",
      "    estimator.fit(X_train, y_train, **fit_params)\n",
      "  File \"C:\\Users\\jaker\\anaconda3\\envs\\vgenv\\lib\\site-packages\\sklearn\\pipeline.py\", line 335, in fit\n",
      "    self._final_estimator.fit(Xt, y, **fit_params_last_step)\n",
      "  File \"C:\\Users\\jaker\\anaconda3\\envs\\vgenv\\lib\\site-packages\\sklearn\\svm\\_base.py\", line 217, in fit\n",
      "    fit(X, y, sample_weight, solver_type, kernel, random_seed=seed)\n",
      "  File \"C:\\Users\\jaker\\anaconda3\\envs\\vgenv\\lib\\site-packages\\sklearn\\svm\\_base.py\", line 298, in _sparse_fit\n",
      "    random_seed)\n",
      "  File \"sklearn\\svm\\_libsvm_sparse.pyx\", line 147, in sklearn.svm._libsvm_sparse.libsvm_sparse_train\n",
      "ValueError: b'specified nu is infeasible'\n",
      "\n",
      "  FitFailedWarning)\n"
     ]
    },
    {
     "name": "stdout",
     "output_type": "stream",
     "text": [
      "[CV]  svc__kernel=rbf, svc__nu=1, tf__max_features=100, tf__ngram_range=(1, 1), total=   1.5s\n",
      "[CV] svc__kernel=rbf, svc__nu=1, tf__max_features=100, tf__ngram_range=(1, 1) \n"
     ]
    },
    {
     "name": "stderr",
     "output_type": "stream",
     "text": [
      "C:\\Users\\jaker\\anaconda3\\envs\\vgenv\\lib\\site-packages\\sklearn\\model_selection\\_validation.py:552: FitFailedWarning: Estimator fit failed. The score on this train-test partition for these parameters will be set to nan. Details: \n",
      "Traceback (most recent call last):\n",
      "  File \"C:\\Users\\jaker\\anaconda3\\envs\\vgenv\\lib\\site-packages\\sklearn\\model_selection\\_validation.py\", line 531, in _fit_and_score\n",
      "    estimator.fit(X_train, y_train, **fit_params)\n",
      "  File \"C:\\Users\\jaker\\anaconda3\\envs\\vgenv\\lib\\site-packages\\sklearn\\pipeline.py\", line 335, in fit\n",
      "    self._final_estimator.fit(Xt, y, **fit_params_last_step)\n",
      "  File \"C:\\Users\\jaker\\anaconda3\\envs\\vgenv\\lib\\site-packages\\sklearn\\svm\\_base.py\", line 217, in fit\n",
      "    fit(X, y, sample_weight, solver_type, kernel, random_seed=seed)\n",
      "  File \"C:\\Users\\jaker\\anaconda3\\envs\\vgenv\\lib\\site-packages\\sklearn\\svm\\_base.py\", line 298, in _sparse_fit\n",
      "    random_seed)\n",
      "  File \"sklearn\\svm\\_libsvm_sparse.pyx\", line 147, in sklearn.svm._libsvm_sparse.libsvm_sparse_train\n",
      "ValueError: b'specified nu is infeasible'\n",
      "\n",
      "  FitFailedWarning)\n"
     ]
    },
    {
     "name": "stdout",
     "output_type": "stream",
     "text": [
      "[CV]  svc__kernel=rbf, svc__nu=1, tf__max_features=100, tf__ngram_range=(1, 1), total=   1.4s\n",
      "[CV] svc__kernel=rbf, svc__nu=1, tf__max_features=100, tf__ngram_range=(1, 1) \n"
     ]
    },
    {
     "name": "stderr",
     "output_type": "stream",
     "text": [
      "C:\\Users\\jaker\\anaconda3\\envs\\vgenv\\lib\\site-packages\\sklearn\\model_selection\\_validation.py:552: FitFailedWarning: Estimator fit failed. The score on this train-test partition for these parameters will be set to nan. Details: \n",
      "Traceback (most recent call last):\n",
      "  File \"C:\\Users\\jaker\\anaconda3\\envs\\vgenv\\lib\\site-packages\\sklearn\\model_selection\\_validation.py\", line 531, in _fit_and_score\n",
      "    estimator.fit(X_train, y_train, **fit_params)\n",
      "  File \"C:\\Users\\jaker\\anaconda3\\envs\\vgenv\\lib\\site-packages\\sklearn\\pipeline.py\", line 335, in fit\n",
      "    self._final_estimator.fit(Xt, y, **fit_params_last_step)\n",
      "  File \"C:\\Users\\jaker\\anaconda3\\envs\\vgenv\\lib\\site-packages\\sklearn\\svm\\_base.py\", line 217, in fit\n",
      "    fit(X, y, sample_weight, solver_type, kernel, random_seed=seed)\n",
      "  File \"C:\\Users\\jaker\\anaconda3\\envs\\vgenv\\lib\\site-packages\\sklearn\\svm\\_base.py\", line 298, in _sparse_fit\n",
      "    random_seed)\n",
      "  File \"sklearn\\svm\\_libsvm_sparse.pyx\", line 147, in sklearn.svm._libsvm_sparse.libsvm_sparse_train\n",
      "ValueError: b'specified nu is infeasible'\n",
      "\n",
      "  FitFailedWarning)\n"
     ]
    },
    {
     "name": "stdout",
     "output_type": "stream",
     "text": [
      "[CV]  svc__kernel=rbf, svc__nu=1, tf__max_features=100, tf__ngram_range=(1, 1), total=   1.4s\n",
      "[CV] svc__kernel=rbf, svc__nu=1, tf__max_features=100, tf__ngram_range=(1, 1) \n"
     ]
    },
    {
     "name": "stderr",
     "output_type": "stream",
     "text": [
      "C:\\Users\\jaker\\anaconda3\\envs\\vgenv\\lib\\site-packages\\sklearn\\model_selection\\_validation.py:552: FitFailedWarning: Estimator fit failed. The score on this train-test partition for these parameters will be set to nan. Details: \n",
      "Traceback (most recent call last):\n",
      "  File \"C:\\Users\\jaker\\anaconda3\\envs\\vgenv\\lib\\site-packages\\sklearn\\model_selection\\_validation.py\", line 531, in _fit_and_score\n",
      "    estimator.fit(X_train, y_train, **fit_params)\n",
      "  File \"C:\\Users\\jaker\\anaconda3\\envs\\vgenv\\lib\\site-packages\\sklearn\\pipeline.py\", line 335, in fit\n",
      "    self._final_estimator.fit(Xt, y, **fit_params_last_step)\n",
      "  File \"C:\\Users\\jaker\\anaconda3\\envs\\vgenv\\lib\\site-packages\\sklearn\\svm\\_base.py\", line 217, in fit\n",
      "    fit(X, y, sample_weight, solver_type, kernel, random_seed=seed)\n",
      "  File \"C:\\Users\\jaker\\anaconda3\\envs\\vgenv\\lib\\site-packages\\sklearn\\svm\\_base.py\", line 298, in _sparse_fit\n",
      "    random_seed)\n",
      "  File \"sklearn\\svm\\_libsvm_sparse.pyx\", line 147, in sklearn.svm._libsvm_sparse.libsvm_sparse_train\n",
      "ValueError: b'specified nu is infeasible'\n",
      "\n",
      "  FitFailedWarning)\n"
     ]
    },
    {
     "name": "stdout",
     "output_type": "stream",
     "text": [
      "[CV]  svc__kernel=rbf, svc__nu=1, tf__max_features=100, tf__ngram_range=(1, 1), total=   1.4s\n",
      "[CV] svc__kernel=rbf, svc__nu=1, tf__max_features=100, tf__ngram_range=(1, 1) \n"
     ]
    },
    {
     "name": "stderr",
     "output_type": "stream",
     "text": [
      "C:\\Users\\jaker\\anaconda3\\envs\\vgenv\\lib\\site-packages\\sklearn\\model_selection\\_validation.py:552: FitFailedWarning: Estimator fit failed. The score on this train-test partition for these parameters will be set to nan. Details: \n",
      "Traceback (most recent call last):\n",
      "  File \"C:\\Users\\jaker\\anaconda3\\envs\\vgenv\\lib\\site-packages\\sklearn\\model_selection\\_validation.py\", line 531, in _fit_and_score\n",
      "    estimator.fit(X_train, y_train, **fit_params)\n",
      "  File \"C:\\Users\\jaker\\anaconda3\\envs\\vgenv\\lib\\site-packages\\sklearn\\pipeline.py\", line 335, in fit\n",
      "    self._final_estimator.fit(Xt, y, **fit_params_last_step)\n",
      "  File \"C:\\Users\\jaker\\anaconda3\\envs\\vgenv\\lib\\site-packages\\sklearn\\svm\\_base.py\", line 217, in fit\n",
      "    fit(X, y, sample_weight, solver_type, kernel, random_seed=seed)\n",
      "  File \"C:\\Users\\jaker\\anaconda3\\envs\\vgenv\\lib\\site-packages\\sklearn\\svm\\_base.py\", line 298, in _sparse_fit\n",
      "    random_seed)\n",
      "  File \"sklearn\\svm\\_libsvm_sparse.pyx\", line 147, in sklearn.svm._libsvm_sparse.libsvm_sparse_train\n",
      "ValueError: b'specified nu is infeasible'\n",
      "\n",
      "  FitFailedWarning)\n"
     ]
    },
    {
     "name": "stdout",
     "output_type": "stream",
     "text": [
      "[CV]  svc__kernel=rbf, svc__nu=1, tf__max_features=100, tf__ngram_range=(1, 1), total=   1.6s\n",
      "[CV] svc__kernel=rbf, svc__nu=1, tf__max_features=100, tf__ngram_range=(1, 2) \n"
     ]
    },
    {
     "name": "stderr",
     "output_type": "stream",
     "text": [
      "C:\\Users\\jaker\\anaconda3\\envs\\vgenv\\lib\\site-packages\\sklearn\\model_selection\\_validation.py:552: FitFailedWarning: Estimator fit failed. The score on this train-test partition for these parameters will be set to nan. Details: \n",
      "Traceback (most recent call last):\n",
      "  File \"C:\\Users\\jaker\\anaconda3\\envs\\vgenv\\lib\\site-packages\\sklearn\\model_selection\\_validation.py\", line 531, in _fit_and_score\n",
      "    estimator.fit(X_train, y_train, **fit_params)\n",
      "  File \"C:\\Users\\jaker\\anaconda3\\envs\\vgenv\\lib\\site-packages\\sklearn\\pipeline.py\", line 335, in fit\n",
      "    self._final_estimator.fit(Xt, y, **fit_params_last_step)\n",
      "  File \"C:\\Users\\jaker\\anaconda3\\envs\\vgenv\\lib\\site-packages\\sklearn\\svm\\_base.py\", line 217, in fit\n",
      "    fit(X, y, sample_weight, solver_type, kernel, random_seed=seed)\n",
      "  File \"C:\\Users\\jaker\\anaconda3\\envs\\vgenv\\lib\\site-packages\\sklearn\\svm\\_base.py\", line 298, in _sparse_fit\n",
      "    random_seed)\n",
      "  File \"sklearn\\svm\\_libsvm_sparse.pyx\", line 147, in sklearn.svm._libsvm_sparse.libsvm_sparse_train\n",
      "ValueError: b'specified nu is infeasible'\n",
      "\n",
      "  FitFailedWarning)\n"
     ]
    },
    {
     "name": "stdout",
     "output_type": "stream",
     "text": [
      "[CV]  svc__kernel=rbf, svc__nu=1, tf__max_features=100, tf__ngram_range=(1, 2), total=   3.8s\n",
      "[CV] svc__kernel=rbf, svc__nu=1, tf__max_features=100, tf__ngram_range=(1, 2) \n"
     ]
    },
    {
     "name": "stderr",
     "output_type": "stream",
     "text": [
      "C:\\Users\\jaker\\anaconda3\\envs\\vgenv\\lib\\site-packages\\sklearn\\model_selection\\_validation.py:552: FitFailedWarning: Estimator fit failed. The score on this train-test partition for these parameters will be set to nan. Details: \n",
      "Traceback (most recent call last):\n",
      "  File \"C:\\Users\\jaker\\anaconda3\\envs\\vgenv\\lib\\site-packages\\sklearn\\model_selection\\_validation.py\", line 531, in _fit_and_score\n",
      "    estimator.fit(X_train, y_train, **fit_params)\n",
      "  File \"C:\\Users\\jaker\\anaconda3\\envs\\vgenv\\lib\\site-packages\\sklearn\\pipeline.py\", line 335, in fit\n",
      "    self._final_estimator.fit(Xt, y, **fit_params_last_step)\n",
      "  File \"C:\\Users\\jaker\\anaconda3\\envs\\vgenv\\lib\\site-packages\\sklearn\\svm\\_base.py\", line 217, in fit\n",
      "    fit(X, y, sample_weight, solver_type, kernel, random_seed=seed)\n",
      "  File \"C:\\Users\\jaker\\anaconda3\\envs\\vgenv\\lib\\site-packages\\sklearn\\svm\\_base.py\", line 298, in _sparse_fit\n",
      "    random_seed)\n",
      "  File \"sklearn\\svm\\_libsvm_sparse.pyx\", line 147, in sklearn.svm._libsvm_sparse.libsvm_sparse_train\n",
      "ValueError: b'specified nu is infeasible'\n",
      "\n",
      "  FitFailedWarning)\n"
     ]
    },
    {
     "name": "stdout",
     "output_type": "stream",
     "text": [
      "[CV]  svc__kernel=rbf, svc__nu=1, tf__max_features=100, tf__ngram_range=(1, 2), total=   4.2s\n",
      "[CV] svc__kernel=rbf, svc__nu=1, tf__max_features=100, tf__ngram_range=(1, 2) \n"
     ]
    },
    {
     "name": "stderr",
     "output_type": "stream",
     "text": [
      "C:\\Users\\jaker\\anaconda3\\envs\\vgenv\\lib\\site-packages\\sklearn\\model_selection\\_validation.py:552: FitFailedWarning: Estimator fit failed. The score on this train-test partition for these parameters will be set to nan. Details: \n",
      "Traceback (most recent call last):\n",
      "  File \"C:\\Users\\jaker\\anaconda3\\envs\\vgenv\\lib\\site-packages\\sklearn\\model_selection\\_validation.py\", line 531, in _fit_and_score\n",
      "    estimator.fit(X_train, y_train, **fit_params)\n",
      "  File \"C:\\Users\\jaker\\anaconda3\\envs\\vgenv\\lib\\site-packages\\sklearn\\pipeline.py\", line 335, in fit\n",
      "    self._final_estimator.fit(Xt, y, **fit_params_last_step)\n",
      "  File \"C:\\Users\\jaker\\anaconda3\\envs\\vgenv\\lib\\site-packages\\sklearn\\svm\\_base.py\", line 217, in fit\n",
      "    fit(X, y, sample_weight, solver_type, kernel, random_seed=seed)\n",
      "  File \"C:\\Users\\jaker\\anaconda3\\envs\\vgenv\\lib\\site-packages\\sklearn\\svm\\_base.py\", line 298, in _sparse_fit\n",
      "    random_seed)\n",
      "  File \"sklearn\\svm\\_libsvm_sparse.pyx\", line 147, in sklearn.svm._libsvm_sparse.libsvm_sparse_train\n",
      "ValueError: b'specified nu is infeasible'\n",
      "\n",
      "  FitFailedWarning)\n"
     ]
    },
    {
     "name": "stdout",
     "output_type": "stream",
     "text": [
      "[CV]  svc__kernel=rbf, svc__nu=1, tf__max_features=100, tf__ngram_range=(1, 2), total=   3.9s\n",
      "[CV] svc__kernel=rbf, svc__nu=1, tf__max_features=100, tf__ngram_range=(1, 2) \n"
     ]
    },
    {
     "name": "stderr",
     "output_type": "stream",
     "text": [
      "C:\\Users\\jaker\\anaconda3\\envs\\vgenv\\lib\\site-packages\\sklearn\\model_selection\\_validation.py:552: FitFailedWarning: Estimator fit failed. The score on this train-test partition for these parameters will be set to nan. Details: \n",
      "Traceback (most recent call last):\n",
      "  File \"C:\\Users\\jaker\\anaconda3\\envs\\vgenv\\lib\\site-packages\\sklearn\\model_selection\\_validation.py\", line 531, in _fit_and_score\n",
      "    estimator.fit(X_train, y_train, **fit_params)\n",
      "  File \"C:\\Users\\jaker\\anaconda3\\envs\\vgenv\\lib\\site-packages\\sklearn\\pipeline.py\", line 335, in fit\n",
      "    self._final_estimator.fit(Xt, y, **fit_params_last_step)\n",
      "  File \"C:\\Users\\jaker\\anaconda3\\envs\\vgenv\\lib\\site-packages\\sklearn\\svm\\_base.py\", line 217, in fit\n",
      "    fit(X, y, sample_weight, solver_type, kernel, random_seed=seed)\n",
      "  File \"C:\\Users\\jaker\\anaconda3\\envs\\vgenv\\lib\\site-packages\\sklearn\\svm\\_base.py\", line 298, in _sparse_fit\n",
      "    random_seed)\n",
      "  File \"sklearn\\svm\\_libsvm_sparse.pyx\", line 147, in sklearn.svm._libsvm_sparse.libsvm_sparse_train\n",
      "ValueError: b'specified nu is infeasible'\n",
      "\n",
      "  FitFailedWarning)\n"
     ]
    },
    {
     "name": "stdout",
     "output_type": "stream",
     "text": [
      "[CV]  svc__kernel=rbf, svc__nu=1, tf__max_features=100, tf__ngram_range=(1, 2), total=   3.9s\n",
      "[CV] svc__kernel=rbf, svc__nu=1, tf__max_features=100, tf__ngram_range=(1, 2) \n"
     ]
    },
    {
     "name": "stderr",
     "output_type": "stream",
     "text": [
      "C:\\Users\\jaker\\anaconda3\\envs\\vgenv\\lib\\site-packages\\sklearn\\model_selection\\_validation.py:552: FitFailedWarning: Estimator fit failed. The score on this train-test partition for these parameters will be set to nan. Details: \n",
      "Traceback (most recent call last):\n",
      "  File \"C:\\Users\\jaker\\anaconda3\\envs\\vgenv\\lib\\site-packages\\sklearn\\model_selection\\_validation.py\", line 531, in _fit_and_score\n",
      "    estimator.fit(X_train, y_train, **fit_params)\n",
      "  File \"C:\\Users\\jaker\\anaconda3\\envs\\vgenv\\lib\\site-packages\\sklearn\\pipeline.py\", line 335, in fit\n",
      "    self._final_estimator.fit(Xt, y, **fit_params_last_step)\n",
      "  File \"C:\\Users\\jaker\\anaconda3\\envs\\vgenv\\lib\\site-packages\\sklearn\\svm\\_base.py\", line 217, in fit\n",
      "    fit(X, y, sample_weight, solver_type, kernel, random_seed=seed)\n",
      "  File \"C:\\Users\\jaker\\anaconda3\\envs\\vgenv\\lib\\site-packages\\sklearn\\svm\\_base.py\", line 298, in _sparse_fit\n",
      "    random_seed)\n",
      "  File \"sklearn\\svm\\_libsvm_sparse.pyx\", line 147, in sklearn.svm._libsvm_sparse.libsvm_sparse_train\n",
      "ValueError: b'specified nu is infeasible'\n",
      "\n",
      "  FitFailedWarning)\n"
     ]
    },
    {
     "name": "stdout",
     "output_type": "stream",
     "text": [
      "[CV]  svc__kernel=rbf, svc__nu=1, tf__max_features=100, tf__ngram_range=(1, 2), total=   3.8s\n",
      "[CV] svc__kernel=rbf, svc__nu=1, tf__max_features=500, tf__ngram_range=(1, 1) \n"
     ]
    },
    {
     "name": "stderr",
     "output_type": "stream",
     "text": [
      "C:\\Users\\jaker\\anaconda3\\envs\\vgenv\\lib\\site-packages\\sklearn\\model_selection\\_validation.py:552: FitFailedWarning: Estimator fit failed. The score on this train-test partition for these parameters will be set to nan. Details: \n",
      "Traceback (most recent call last):\n",
      "  File \"C:\\Users\\jaker\\anaconda3\\envs\\vgenv\\lib\\site-packages\\sklearn\\model_selection\\_validation.py\", line 531, in _fit_and_score\n",
      "    estimator.fit(X_train, y_train, **fit_params)\n",
      "  File \"C:\\Users\\jaker\\anaconda3\\envs\\vgenv\\lib\\site-packages\\sklearn\\pipeline.py\", line 335, in fit\n",
      "    self._final_estimator.fit(Xt, y, **fit_params_last_step)\n",
      "  File \"C:\\Users\\jaker\\anaconda3\\envs\\vgenv\\lib\\site-packages\\sklearn\\svm\\_base.py\", line 217, in fit\n",
      "    fit(X, y, sample_weight, solver_type, kernel, random_seed=seed)\n",
      "  File \"C:\\Users\\jaker\\anaconda3\\envs\\vgenv\\lib\\site-packages\\sklearn\\svm\\_base.py\", line 298, in _sparse_fit\n",
      "    random_seed)\n",
      "  File \"sklearn\\svm\\_libsvm_sparse.pyx\", line 147, in sklearn.svm._libsvm_sparse.libsvm_sparse_train\n",
      "ValueError: b'specified nu is infeasible'\n",
      "\n",
      "  FitFailedWarning)\n"
     ]
    },
    {
     "name": "stdout",
     "output_type": "stream",
     "text": [
      "[CV]  svc__kernel=rbf, svc__nu=1, tf__max_features=500, tf__ngram_range=(1, 1), total=   1.4s\n",
      "[CV] svc__kernel=rbf, svc__nu=1, tf__max_features=500, tf__ngram_range=(1, 1) \n"
     ]
    },
    {
     "name": "stderr",
     "output_type": "stream",
     "text": [
      "C:\\Users\\jaker\\anaconda3\\envs\\vgenv\\lib\\site-packages\\sklearn\\model_selection\\_validation.py:552: FitFailedWarning: Estimator fit failed. The score on this train-test partition for these parameters will be set to nan. Details: \n",
      "Traceback (most recent call last):\n",
      "  File \"C:\\Users\\jaker\\anaconda3\\envs\\vgenv\\lib\\site-packages\\sklearn\\model_selection\\_validation.py\", line 531, in _fit_and_score\n",
      "    estimator.fit(X_train, y_train, **fit_params)\n",
      "  File \"C:\\Users\\jaker\\anaconda3\\envs\\vgenv\\lib\\site-packages\\sklearn\\pipeline.py\", line 335, in fit\n",
      "    self._final_estimator.fit(Xt, y, **fit_params_last_step)\n",
      "  File \"C:\\Users\\jaker\\anaconda3\\envs\\vgenv\\lib\\site-packages\\sklearn\\svm\\_base.py\", line 217, in fit\n",
      "    fit(X, y, sample_weight, solver_type, kernel, random_seed=seed)\n",
      "  File \"C:\\Users\\jaker\\anaconda3\\envs\\vgenv\\lib\\site-packages\\sklearn\\svm\\_base.py\", line 298, in _sparse_fit\n",
      "    random_seed)\n",
      "  File \"sklearn\\svm\\_libsvm_sparse.pyx\", line 147, in sklearn.svm._libsvm_sparse.libsvm_sparse_train\n",
      "ValueError: b'specified nu is infeasible'\n",
      "\n",
      "  FitFailedWarning)\n"
     ]
    },
    {
     "name": "stdout",
     "output_type": "stream",
     "text": [
      "[CV]  svc__kernel=rbf, svc__nu=1, tf__max_features=500, tf__ngram_range=(1, 1), total=   1.5s\n",
      "[CV] svc__kernel=rbf, svc__nu=1, tf__max_features=500, tf__ngram_range=(1, 1) \n"
     ]
    },
    {
     "name": "stderr",
     "output_type": "stream",
     "text": [
      "C:\\Users\\jaker\\anaconda3\\envs\\vgenv\\lib\\site-packages\\sklearn\\model_selection\\_validation.py:552: FitFailedWarning: Estimator fit failed. The score on this train-test partition for these parameters will be set to nan. Details: \n",
      "Traceback (most recent call last):\n",
      "  File \"C:\\Users\\jaker\\anaconda3\\envs\\vgenv\\lib\\site-packages\\sklearn\\model_selection\\_validation.py\", line 531, in _fit_and_score\n",
      "    estimator.fit(X_train, y_train, **fit_params)\n",
      "  File \"C:\\Users\\jaker\\anaconda3\\envs\\vgenv\\lib\\site-packages\\sklearn\\pipeline.py\", line 335, in fit\n",
      "    self._final_estimator.fit(Xt, y, **fit_params_last_step)\n",
      "  File \"C:\\Users\\jaker\\anaconda3\\envs\\vgenv\\lib\\site-packages\\sklearn\\svm\\_base.py\", line 217, in fit\n",
      "    fit(X, y, sample_weight, solver_type, kernel, random_seed=seed)\n",
      "  File \"C:\\Users\\jaker\\anaconda3\\envs\\vgenv\\lib\\site-packages\\sklearn\\svm\\_base.py\", line 298, in _sparse_fit\n",
      "    random_seed)\n",
      "  File \"sklearn\\svm\\_libsvm_sparse.pyx\", line 147, in sklearn.svm._libsvm_sparse.libsvm_sparse_train\n",
      "ValueError: b'specified nu is infeasible'\n",
      "\n",
      "  FitFailedWarning)\n"
     ]
    },
    {
     "name": "stdout",
     "output_type": "stream",
     "text": [
      "[CV]  svc__kernel=rbf, svc__nu=1, tf__max_features=500, tf__ngram_range=(1, 1), total=   1.5s\n",
      "[CV] svc__kernel=rbf, svc__nu=1, tf__max_features=500, tf__ngram_range=(1, 1) \n"
     ]
    },
    {
     "name": "stderr",
     "output_type": "stream",
     "text": [
      "C:\\Users\\jaker\\anaconda3\\envs\\vgenv\\lib\\site-packages\\sklearn\\model_selection\\_validation.py:552: FitFailedWarning: Estimator fit failed. The score on this train-test partition for these parameters will be set to nan. Details: \n",
      "Traceback (most recent call last):\n",
      "  File \"C:\\Users\\jaker\\anaconda3\\envs\\vgenv\\lib\\site-packages\\sklearn\\model_selection\\_validation.py\", line 531, in _fit_and_score\n",
      "    estimator.fit(X_train, y_train, **fit_params)\n",
      "  File \"C:\\Users\\jaker\\anaconda3\\envs\\vgenv\\lib\\site-packages\\sklearn\\pipeline.py\", line 335, in fit\n",
      "    self._final_estimator.fit(Xt, y, **fit_params_last_step)\n",
      "  File \"C:\\Users\\jaker\\anaconda3\\envs\\vgenv\\lib\\site-packages\\sklearn\\svm\\_base.py\", line 217, in fit\n",
      "    fit(X, y, sample_weight, solver_type, kernel, random_seed=seed)\n",
      "  File \"C:\\Users\\jaker\\anaconda3\\envs\\vgenv\\lib\\site-packages\\sklearn\\svm\\_base.py\", line 298, in _sparse_fit\n",
      "    random_seed)\n",
      "  File \"sklearn\\svm\\_libsvm_sparse.pyx\", line 147, in sklearn.svm._libsvm_sparse.libsvm_sparse_train\n",
      "ValueError: b'specified nu is infeasible'\n",
      "\n",
      "  FitFailedWarning)\n"
     ]
    },
    {
     "name": "stdout",
     "output_type": "stream",
     "text": [
      "[CV]  svc__kernel=rbf, svc__nu=1, tf__max_features=500, tf__ngram_range=(1, 1), total=   1.4s\n",
      "[CV] svc__kernel=rbf, svc__nu=1, tf__max_features=500, tf__ngram_range=(1, 1) \n"
     ]
    },
    {
     "name": "stderr",
     "output_type": "stream",
     "text": [
      "C:\\Users\\jaker\\anaconda3\\envs\\vgenv\\lib\\site-packages\\sklearn\\model_selection\\_validation.py:552: FitFailedWarning: Estimator fit failed. The score on this train-test partition for these parameters will be set to nan. Details: \n",
      "Traceback (most recent call last):\n",
      "  File \"C:\\Users\\jaker\\anaconda3\\envs\\vgenv\\lib\\site-packages\\sklearn\\model_selection\\_validation.py\", line 531, in _fit_and_score\n",
      "    estimator.fit(X_train, y_train, **fit_params)\n",
      "  File \"C:\\Users\\jaker\\anaconda3\\envs\\vgenv\\lib\\site-packages\\sklearn\\pipeline.py\", line 335, in fit\n",
      "    self._final_estimator.fit(Xt, y, **fit_params_last_step)\n",
      "  File \"C:\\Users\\jaker\\anaconda3\\envs\\vgenv\\lib\\site-packages\\sklearn\\svm\\_base.py\", line 217, in fit\n",
      "    fit(X, y, sample_weight, solver_type, kernel, random_seed=seed)\n",
      "  File \"C:\\Users\\jaker\\anaconda3\\envs\\vgenv\\lib\\site-packages\\sklearn\\svm\\_base.py\", line 298, in _sparse_fit\n",
      "    random_seed)\n",
      "  File \"sklearn\\svm\\_libsvm_sparse.pyx\", line 147, in sklearn.svm._libsvm_sparse.libsvm_sparse_train\n",
      "ValueError: b'specified nu is infeasible'\n",
      "\n",
      "  FitFailedWarning)\n"
     ]
    },
    {
     "name": "stdout",
     "output_type": "stream",
     "text": [
      "[CV]  svc__kernel=rbf, svc__nu=1, tf__max_features=500, tf__ngram_range=(1, 1), total=   1.5s\n",
      "[CV] svc__kernel=rbf, svc__nu=1, tf__max_features=500, tf__ngram_range=(1, 2) \n"
     ]
    },
    {
     "name": "stderr",
     "output_type": "stream",
     "text": [
      "C:\\Users\\jaker\\anaconda3\\envs\\vgenv\\lib\\site-packages\\sklearn\\model_selection\\_validation.py:552: FitFailedWarning: Estimator fit failed. The score on this train-test partition for these parameters will be set to nan. Details: \n",
      "Traceback (most recent call last):\n",
      "  File \"C:\\Users\\jaker\\anaconda3\\envs\\vgenv\\lib\\site-packages\\sklearn\\model_selection\\_validation.py\", line 531, in _fit_and_score\n",
      "    estimator.fit(X_train, y_train, **fit_params)\n",
      "  File \"C:\\Users\\jaker\\anaconda3\\envs\\vgenv\\lib\\site-packages\\sklearn\\pipeline.py\", line 335, in fit\n",
      "    self._final_estimator.fit(Xt, y, **fit_params_last_step)\n",
      "  File \"C:\\Users\\jaker\\anaconda3\\envs\\vgenv\\lib\\site-packages\\sklearn\\svm\\_base.py\", line 217, in fit\n",
      "    fit(X, y, sample_weight, solver_type, kernel, random_seed=seed)\n",
      "  File \"C:\\Users\\jaker\\anaconda3\\envs\\vgenv\\lib\\site-packages\\sklearn\\svm\\_base.py\", line 298, in _sparse_fit\n",
      "    random_seed)\n",
      "  File \"sklearn\\svm\\_libsvm_sparse.pyx\", line 147, in sklearn.svm._libsvm_sparse.libsvm_sparse_train\n",
      "ValueError: b'specified nu is infeasible'\n",
      "\n",
      "  FitFailedWarning)\n"
     ]
    },
    {
     "name": "stdout",
     "output_type": "stream",
     "text": [
      "[CV]  svc__kernel=rbf, svc__nu=1, tf__max_features=500, tf__ngram_range=(1, 2), total=   3.9s\n",
      "[CV] svc__kernel=rbf, svc__nu=1, tf__max_features=500, tf__ngram_range=(1, 2) \n"
     ]
    },
    {
     "name": "stderr",
     "output_type": "stream",
     "text": [
      "C:\\Users\\jaker\\anaconda3\\envs\\vgenv\\lib\\site-packages\\sklearn\\model_selection\\_validation.py:552: FitFailedWarning: Estimator fit failed. The score on this train-test partition for these parameters will be set to nan. Details: \n",
      "Traceback (most recent call last):\n",
      "  File \"C:\\Users\\jaker\\anaconda3\\envs\\vgenv\\lib\\site-packages\\sklearn\\model_selection\\_validation.py\", line 531, in _fit_and_score\n",
      "    estimator.fit(X_train, y_train, **fit_params)\n",
      "  File \"C:\\Users\\jaker\\anaconda3\\envs\\vgenv\\lib\\site-packages\\sklearn\\pipeline.py\", line 335, in fit\n",
      "    self._final_estimator.fit(Xt, y, **fit_params_last_step)\n",
      "  File \"C:\\Users\\jaker\\anaconda3\\envs\\vgenv\\lib\\site-packages\\sklearn\\svm\\_base.py\", line 217, in fit\n",
      "    fit(X, y, sample_weight, solver_type, kernel, random_seed=seed)\n",
      "  File \"C:\\Users\\jaker\\anaconda3\\envs\\vgenv\\lib\\site-packages\\sklearn\\svm\\_base.py\", line 298, in _sparse_fit\n",
      "    random_seed)\n",
      "  File \"sklearn\\svm\\_libsvm_sparse.pyx\", line 147, in sklearn.svm._libsvm_sparse.libsvm_sparse_train\n",
      "ValueError: b'specified nu is infeasible'\n",
      "\n",
      "  FitFailedWarning)\n"
     ]
    },
    {
     "name": "stdout",
     "output_type": "stream",
     "text": [
      "[CV]  svc__kernel=rbf, svc__nu=1, tf__max_features=500, tf__ngram_range=(1, 2), total=   3.9s\n",
      "[CV] svc__kernel=rbf, svc__nu=1, tf__max_features=500, tf__ngram_range=(1, 2) \n"
     ]
    },
    {
     "name": "stderr",
     "output_type": "stream",
     "text": [
      "C:\\Users\\jaker\\anaconda3\\envs\\vgenv\\lib\\site-packages\\sklearn\\model_selection\\_validation.py:552: FitFailedWarning: Estimator fit failed. The score on this train-test partition for these parameters will be set to nan. Details: \n",
      "Traceback (most recent call last):\n",
      "  File \"C:\\Users\\jaker\\anaconda3\\envs\\vgenv\\lib\\site-packages\\sklearn\\model_selection\\_validation.py\", line 531, in _fit_and_score\n",
      "    estimator.fit(X_train, y_train, **fit_params)\n",
      "  File \"C:\\Users\\jaker\\anaconda3\\envs\\vgenv\\lib\\site-packages\\sklearn\\pipeline.py\", line 335, in fit\n",
      "    self._final_estimator.fit(Xt, y, **fit_params_last_step)\n",
      "  File \"C:\\Users\\jaker\\anaconda3\\envs\\vgenv\\lib\\site-packages\\sklearn\\svm\\_base.py\", line 217, in fit\n",
      "    fit(X, y, sample_weight, solver_type, kernel, random_seed=seed)\n",
      "  File \"C:\\Users\\jaker\\anaconda3\\envs\\vgenv\\lib\\site-packages\\sklearn\\svm\\_base.py\", line 298, in _sparse_fit\n",
      "    random_seed)\n",
      "  File \"sklearn\\svm\\_libsvm_sparse.pyx\", line 147, in sklearn.svm._libsvm_sparse.libsvm_sparse_train\n",
      "ValueError: b'specified nu is infeasible'\n",
      "\n",
      "  FitFailedWarning)\n"
     ]
    },
    {
     "name": "stdout",
     "output_type": "stream",
     "text": [
      "[CV]  svc__kernel=rbf, svc__nu=1, tf__max_features=500, tf__ngram_range=(1, 2), total=   3.8s\n",
      "[CV] svc__kernel=rbf, svc__nu=1, tf__max_features=500, tf__ngram_range=(1, 2) \n"
     ]
    },
    {
     "name": "stderr",
     "output_type": "stream",
     "text": [
      "C:\\Users\\jaker\\anaconda3\\envs\\vgenv\\lib\\site-packages\\sklearn\\model_selection\\_validation.py:552: FitFailedWarning: Estimator fit failed. The score on this train-test partition for these parameters will be set to nan. Details: \n",
      "Traceback (most recent call last):\n",
      "  File \"C:\\Users\\jaker\\anaconda3\\envs\\vgenv\\lib\\site-packages\\sklearn\\model_selection\\_validation.py\", line 531, in _fit_and_score\n",
      "    estimator.fit(X_train, y_train, **fit_params)\n",
      "  File \"C:\\Users\\jaker\\anaconda3\\envs\\vgenv\\lib\\site-packages\\sklearn\\pipeline.py\", line 335, in fit\n",
      "    self._final_estimator.fit(Xt, y, **fit_params_last_step)\n",
      "  File \"C:\\Users\\jaker\\anaconda3\\envs\\vgenv\\lib\\site-packages\\sklearn\\svm\\_base.py\", line 217, in fit\n",
      "    fit(X, y, sample_weight, solver_type, kernel, random_seed=seed)\n",
      "  File \"C:\\Users\\jaker\\anaconda3\\envs\\vgenv\\lib\\site-packages\\sklearn\\svm\\_base.py\", line 298, in _sparse_fit\n",
      "    random_seed)\n",
      "  File \"sklearn\\svm\\_libsvm_sparse.pyx\", line 147, in sklearn.svm._libsvm_sparse.libsvm_sparse_train\n",
      "ValueError: b'specified nu is infeasible'\n",
      "\n",
      "  FitFailedWarning)\n"
     ]
    },
    {
     "name": "stdout",
     "output_type": "stream",
     "text": [
      "[CV]  svc__kernel=rbf, svc__nu=1, tf__max_features=500, tf__ngram_range=(1, 2), total=   3.7s\n",
      "[CV] svc__kernel=rbf, svc__nu=1, tf__max_features=500, tf__ngram_range=(1, 2) \n"
     ]
    },
    {
     "name": "stderr",
     "output_type": "stream",
     "text": [
      "C:\\Users\\jaker\\anaconda3\\envs\\vgenv\\lib\\site-packages\\sklearn\\model_selection\\_validation.py:552: FitFailedWarning: Estimator fit failed. The score on this train-test partition for these parameters will be set to nan. Details: \n",
      "Traceback (most recent call last):\n",
      "  File \"C:\\Users\\jaker\\anaconda3\\envs\\vgenv\\lib\\site-packages\\sklearn\\model_selection\\_validation.py\", line 531, in _fit_and_score\n",
      "    estimator.fit(X_train, y_train, **fit_params)\n",
      "  File \"C:\\Users\\jaker\\anaconda3\\envs\\vgenv\\lib\\site-packages\\sklearn\\pipeline.py\", line 335, in fit\n",
      "    self._final_estimator.fit(Xt, y, **fit_params_last_step)\n",
      "  File \"C:\\Users\\jaker\\anaconda3\\envs\\vgenv\\lib\\site-packages\\sklearn\\svm\\_base.py\", line 217, in fit\n",
      "    fit(X, y, sample_weight, solver_type, kernel, random_seed=seed)\n",
      "  File \"C:\\Users\\jaker\\anaconda3\\envs\\vgenv\\lib\\site-packages\\sklearn\\svm\\_base.py\", line 298, in _sparse_fit\n",
      "    random_seed)\n",
      "  File \"sklearn\\svm\\_libsvm_sparse.pyx\", line 147, in sklearn.svm._libsvm_sparse.libsvm_sparse_train\n",
      "ValueError: b'specified nu is infeasible'\n",
      "\n",
      "  FitFailedWarning)\n"
     ]
    },
    {
     "name": "stdout",
     "output_type": "stream",
     "text": [
      "[CV]  svc__kernel=rbf, svc__nu=1, tf__max_features=500, tf__ngram_range=(1, 2), total=   3.8s\n",
      "[CV] svc__kernel=rbf, svc__nu=1, tf__max_features=1000, tf__ngram_range=(1, 1) \n"
     ]
    },
    {
     "name": "stderr",
     "output_type": "stream",
     "text": [
      "C:\\Users\\jaker\\anaconda3\\envs\\vgenv\\lib\\site-packages\\sklearn\\model_selection\\_validation.py:552: FitFailedWarning: Estimator fit failed. The score on this train-test partition for these parameters will be set to nan. Details: \n",
      "Traceback (most recent call last):\n",
      "  File \"C:\\Users\\jaker\\anaconda3\\envs\\vgenv\\lib\\site-packages\\sklearn\\model_selection\\_validation.py\", line 531, in _fit_and_score\n",
      "    estimator.fit(X_train, y_train, **fit_params)\n",
      "  File \"C:\\Users\\jaker\\anaconda3\\envs\\vgenv\\lib\\site-packages\\sklearn\\pipeline.py\", line 335, in fit\n",
      "    self._final_estimator.fit(Xt, y, **fit_params_last_step)\n",
      "  File \"C:\\Users\\jaker\\anaconda3\\envs\\vgenv\\lib\\site-packages\\sklearn\\svm\\_base.py\", line 217, in fit\n",
      "    fit(X, y, sample_weight, solver_type, kernel, random_seed=seed)\n",
      "  File \"C:\\Users\\jaker\\anaconda3\\envs\\vgenv\\lib\\site-packages\\sklearn\\svm\\_base.py\", line 298, in _sparse_fit\n",
      "    random_seed)\n",
      "  File \"sklearn\\svm\\_libsvm_sparse.pyx\", line 147, in sklearn.svm._libsvm_sparse.libsvm_sparse_train\n",
      "ValueError: b'specified nu is infeasible'\n",
      "\n",
      "  FitFailedWarning)\n"
     ]
    },
    {
     "name": "stdout",
     "output_type": "stream",
     "text": [
      "[CV]  svc__kernel=rbf, svc__nu=1, tf__max_features=1000, tf__ngram_range=(1, 1), total=   1.4s\n",
      "[CV] svc__kernel=rbf, svc__nu=1, tf__max_features=1000, tf__ngram_range=(1, 1) \n"
     ]
    },
    {
     "name": "stderr",
     "output_type": "stream",
     "text": [
      "C:\\Users\\jaker\\anaconda3\\envs\\vgenv\\lib\\site-packages\\sklearn\\model_selection\\_validation.py:552: FitFailedWarning: Estimator fit failed. The score on this train-test partition for these parameters will be set to nan. Details: \n",
      "Traceback (most recent call last):\n",
      "  File \"C:\\Users\\jaker\\anaconda3\\envs\\vgenv\\lib\\site-packages\\sklearn\\model_selection\\_validation.py\", line 531, in _fit_and_score\n",
      "    estimator.fit(X_train, y_train, **fit_params)\n",
      "  File \"C:\\Users\\jaker\\anaconda3\\envs\\vgenv\\lib\\site-packages\\sklearn\\pipeline.py\", line 335, in fit\n",
      "    self._final_estimator.fit(Xt, y, **fit_params_last_step)\n",
      "  File \"C:\\Users\\jaker\\anaconda3\\envs\\vgenv\\lib\\site-packages\\sklearn\\svm\\_base.py\", line 217, in fit\n",
      "    fit(X, y, sample_weight, solver_type, kernel, random_seed=seed)\n",
      "  File \"C:\\Users\\jaker\\anaconda3\\envs\\vgenv\\lib\\site-packages\\sklearn\\svm\\_base.py\", line 298, in _sparse_fit\n",
      "    random_seed)\n",
      "  File \"sklearn\\svm\\_libsvm_sparse.pyx\", line 147, in sklearn.svm._libsvm_sparse.libsvm_sparse_train\n",
      "ValueError: b'specified nu is infeasible'\n",
      "\n",
      "  FitFailedWarning)\n"
     ]
    },
    {
     "name": "stdout",
     "output_type": "stream",
     "text": [
      "[CV]  svc__kernel=rbf, svc__nu=1, tf__max_features=1000, tf__ngram_range=(1, 1), total=   1.4s\n",
      "[CV] svc__kernel=rbf, svc__nu=1, tf__max_features=1000, tf__ngram_range=(1, 1) \n"
     ]
    },
    {
     "name": "stderr",
     "output_type": "stream",
     "text": [
      "C:\\Users\\jaker\\anaconda3\\envs\\vgenv\\lib\\site-packages\\sklearn\\model_selection\\_validation.py:552: FitFailedWarning: Estimator fit failed. The score on this train-test partition for these parameters will be set to nan. Details: \n",
      "Traceback (most recent call last):\n",
      "  File \"C:\\Users\\jaker\\anaconda3\\envs\\vgenv\\lib\\site-packages\\sklearn\\model_selection\\_validation.py\", line 531, in _fit_and_score\n",
      "    estimator.fit(X_train, y_train, **fit_params)\n",
      "  File \"C:\\Users\\jaker\\anaconda3\\envs\\vgenv\\lib\\site-packages\\sklearn\\pipeline.py\", line 335, in fit\n",
      "    self._final_estimator.fit(Xt, y, **fit_params_last_step)\n",
      "  File \"C:\\Users\\jaker\\anaconda3\\envs\\vgenv\\lib\\site-packages\\sklearn\\svm\\_base.py\", line 217, in fit\n",
      "    fit(X, y, sample_weight, solver_type, kernel, random_seed=seed)\n",
      "  File \"C:\\Users\\jaker\\anaconda3\\envs\\vgenv\\lib\\site-packages\\sklearn\\svm\\_base.py\", line 298, in _sparse_fit\n",
      "    random_seed)\n",
      "  File \"sklearn\\svm\\_libsvm_sparse.pyx\", line 147, in sklearn.svm._libsvm_sparse.libsvm_sparse_train\n",
      "ValueError: b'specified nu is infeasible'\n",
      "\n",
      "  FitFailedWarning)\n"
     ]
    },
    {
     "name": "stdout",
     "output_type": "stream",
     "text": [
      "[CV]  svc__kernel=rbf, svc__nu=1, tf__max_features=1000, tf__ngram_range=(1, 1), total=   1.4s\n",
      "[CV] svc__kernel=rbf, svc__nu=1, tf__max_features=1000, tf__ngram_range=(1, 1) \n"
     ]
    },
    {
     "name": "stderr",
     "output_type": "stream",
     "text": [
      "C:\\Users\\jaker\\anaconda3\\envs\\vgenv\\lib\\site-packages\\sklearn\\model_selection\\_validation.py:552: FitFailedWarning: Estimator fit failed. The score on this train-test partition for these parameters will be set to nan. Details: \n",
      "Traceback (most recent call last):\n",
      "  File \"C:\\Users\\jaker\\anaconda3\\envs\\vgenv\\lib\\site-packages\\sklearn\\model_selection\\_validation.py\", line 531, in _fit_and_score\n",
      "    estimator.fit(X_train, y_train, **fit_params)\n",
      "  File \"C:\\Users\\jaker\\anaconda3\\envs\\vgenv\\lib\\site-packages\\sklearn\\pipeline.py\", line 335, in fit\n",
      "    self._final_estimator.fit(Xt, y, **fit_params_last_step)\n",
      "  File \"C:\\Users\\jaker\\anaconda3\\envs\\vgenv\\lib\\site-packages\\sklearn\\svm\\_base.py\", line 217, in fit\n",
      "    fit(X, y, sample_weight, solver_type, kernel, random_seed=seed)\n",
      "  File \"C:\\Users\\jaker\\anaconda3\\envs\\vgenv\\lib\\site-packages\\sklearn\\svm\\_base.py\", line 298, in _sparse_fit\n",
      "    random_seed)\n",
      "  File \"sklearn\\svm\\_libsvm_sparse.pyx\", line 147, in sklearn.svm._libsvm_sparse.libsvm_sparse_train\n",
      "ValueError: b'specified nu is infeasible'\n",
      "\n",
      "  FitFailedWarning)\n"
     ]
    },
    {
     "name": "stdout",
     "output_type": "stream",
     "text": [
      "[CV]  svc__kernel=rbf, svc__nu=1, tf__max_features=1000, tf__ngram_range=(1, 1), total=   1.5s\n",
      "[CV] svc__kernel=rbf, svc__nu=1, tf__max_features=1000, tf__ngram_range=(1, 1) \n"
     ]
    },
    {
     "name": "stderr",
     "output_type": "stream",
     "text": [
      "C:\\Users\\jaker\\anaconda3\\envs\\vgenv\\lib\\site-packages\\sklearn\\model_selection\\_validation.py:552: FitFailedWarning: Estimator fit failed. The score on this train-test partition for these parameters will be set to nan. Details: \n",
      "Traceback (most recent call last):\n",
      "  File \"C:\\Users\\jaker\\anaconda3\\envs\\vgenv\\lib\\site-packages\\sklearn\\model_selection\\_validation.py\", line 531, in _fit_and_score\n",
      "    estimator.fit(X_train, y_train, **fit_params)\n",
      "  File \"C:\\Users\\jaker\\anaconda3\\envs\\vgenv\\lib\\site-packages\\sklearn\\pipeline.py\", line 335, in fit\n",
      "    self._final_estimator.fit(Xt, y, **fit_params_last_step)\n",
      "  File \"C:\\Users\\jaker\\anaconda3\\envs\\vgenv\\lib\\site-packages\\sklearn\\svm\\_base.py\", line 217, in fit\n",
      "    fit(X, y, sample_weight, solver_type, kernel, random_seed=seed)\n",
      "  File \"C:\\Users\\jaker\\anaconda3\\envs\\vgenv\\lib\\site-packages\\sklearn\\svm\\_base.py\", line 298, in _sparse_fit\n",
      "    random_seed)\n",
      "  File \"sklearn\\svm\\_libsvm_sparse.pyx\", line 147, in sklearn.svm._libsvm_sparse.libsvm_sparse_train\n",
      "ValueError: b'specified nu is infeasible'\n",
      "\n",
      "  FitFailedWarning)\n"
     ]
    },
    {
     "name": "stdout",
     "output_type": "stream",
     "text": [
      "[CV]  svc__kernel=rbf, svc__nu=1, tf__max_features=1000, tf__ngram_range=(1, 1), total=   1.5s\n",
      "[CV] svc__kernel=rbf, svc__nu=1, tf__max_features=1000, tf__ngram_range=(1, 2) \n"
     ]
    },
    {
     "name": "stderr",
     "output_type": "stream",
     "text": [
      "C:\\Users\\jaker\\anaconda3\\envs\\vgenv\\lib\\site-packages\\sklearn\\model_selection\\_validation.py:552: FitFailedWarning: Estimator fit failed. The score on this train-test partition for these parameters will be set to nan. Details: \n",
      "Traceback (most recent call last):\n",
      "  File \"C:\\Users\\jaker\\anaconda3\\envs\\vgenv\\lib\\site-packages\\sklearn\\model_selection\\_validation.py\", line 531, in _fit_and_score\n",
      "    estimator.fit(X_train, y_train, **fit_params)\n",
      "  File \"C:\\Users\\jaker\\anaconda3\\envs\\vgenv\\lib\\site-packages\\sklearn\\pipeline.py\", line 335, in fit\n",
      "    self._final_estimator.fit(Xt, y, **fit_params_last_step)\n",
      "  File \"C:\\Users\\jaker\\anaconda3\\envs\\vgenv\\lib\\site-packages\\sklearn\\svm\\_base.py\", line 217, in fit\n",
      "    fit(X, y, sample_weight, solver_type, kernel, random_seed=seed)\n",
      "  File \"C:\\Users\\jaker\\anaconda3\\envs\\vgenv\\lib\\site-packages\\sklearn\\svm\\_base.py\", line 298, in _sparse_fit\n",
      "    random_seed)\n",
      "  File \"sklearn\\svm\\_libsvm_sparse.pyx\", line 147, in sklearn.svm._libsvm_sparse.libsvm_sparse_train\n",
      "ValueError: b'specified nu is infeasible'\n",
      "\n",
      "  FitFailedWarning)\n"
     ]
    },
    {
     "name": "stdout",
     "output_type": "stream",
     "text": [
      "[CV]  svc__kernel=rbf, svc__nu=1, tf__max_features=1000, tf__ngram_range=(1, 2), total=   3.8s\n",
      "[CV] svc__kernel=rbf, svc__nu=1, tf__max_features=1000, tf__ngram_range=(1, 2) \n"
     ]
    },
    {
     "name": "stderr",
     "output_type": "stream",
     "text": [
      "C:\\Users\\jaker\\anaconda3\\envs\\vgenv\\lib\\site-packages\\sklearn\\model_selection\\_validation.py:552: FitFailedWarning: Estimator fit failed. The score on this train-test partition for these parameters will be set to nan. Details: \n",
      "Traceback (most recent call last):\n",
      "  File \"C:\\Users\\jaker\\anaconda3\\envs\\vgenv\\lib\\site-packages\\sklearn\\model_selection\\_validation.py\", line 531, in _fit_and_score\n",
      "    estimator.fit(X_train, y_train, **fit_params)\n",
      "  File \"C:\\Users\\jaker\\anaconda3\\envs\\vgenv\\lib\\site-packages\\sklearn\\pipeline.py\", line 335, in fit\n",
      "    self._final_estimator.fit(Xt, y, **fit_params_last_step)\n",
      "  File \"C:\\Users\\jaker\\anaconda3\\envs\\vgenv\\lib\\site-packages\\sklearn\\svm\\_base.py\", line 217, in fit\n",
      "    fit(X, y, sample_weight, solver_type, kernel, random_seed=seed)\n",
      "  File \"C:\\Users\\jaker\\anaconda3\\envs\\vgenv\\lib\\site-packages\\sklearn\\svm\\_base.py\", line 298, in _sparse_fit\n",
      "    random_seed)\n",
      "  File \"sklearn\\svm\\_libsvm_sparse.pyx\", line 147, in sklearn.svm._libsvm_sparse.libsvm_sparse_train\n",
      "ValueError: b'specified nu is infeasible'\n",
      "\n",
      "  FitFailedWarning)\n"
     ]
    },
    {
     "name": "stdout",
     "output_type": "stream",
     "text": [
      "[CV]  svc__kernel=rbf, svc__nu=1, tf__max_features=1000, tf__ngram_range=(1, 2), total=   3.7s\n",
      "[CV] svc__kernel=rbf, svc__nu=1, tf__max_features=1000, tf__ngram_range=(1, 2) \n"
     ]
    },
    {
     "name": "stderr",
     "output_type": "stream",
     "text": [
      "C:\\Users\\jaker\\anaconda3\\envs\\vgenv\\lib\\site-packages\\sklearn\\model_selection\\_validation.py:552: FitFailedWarning: Estimator fit failed. The score on this train-test partition for these parameters will be set to nan. Details: \n",
      "Traceback (most recent call last):\n",
      "  File \"C:\\Users\\jaker\\anaconda3\\envs\\vgenv\\lib\\site-packages\\sklearn\\model_selection\\_validation.py\", line 531, in _fit_and_score\n",
      "    estimator.fit(X_train, y_train, **fit_params)\n",
      "  File \"C:\\Users\\jaker\\anaconda3\\envs\\vgenv\\lib\\site-packages\\sklearn\\pipeline.py\", line 335, in fit\n",
      "    self._final_estimator.fit(Xt, y, **fit_params_last_step)\n",
      "  File \"C:\\Users\\jaker\\anaconda3\\envs\\vgenv\\lib\\site-packages\\sklearn\\svm\\_base.py\", line 217, in fit\n",
      "    fit(X, y, sample_weight, solver_type, kernel, random_seed=seed)\n",
      "  File \"C:\\Users\\jaker\\anaconda3\\envs\\vgenv\\lib\\site-packages\\sklearn\\svm\\_base.py\", line 298, in _sparse_fit\n",
      "    random_seed)\n",
      "  File \"sklearn\\svm\\_libsvm_sparse.pyx\", line 147, in sklearn.svm._libsvm_sparse.libsvm_sparse_train\n",
      "ValueError: b'specified nu is infeasible'\n",
      "\n",
      "  FitFailedWarning)\n"
     ]
    },
    {
     "name": "stdout",
     "output_type": "stream",
     "text": [
      "[CV]  svc__kernel=rbf, svc__nu=1, tf__max_features=1000, tf__ngram_range=(1, 2), total=   3.9s\n",
      "[CV] svc__kernel=rbf, svc__nu=1, tf__max_features=1000, tf__ngram_range=(1, 2) \n"
     ]
    },
    {
     "name": "stderr",
     "output_type": "stream",
     "text": [
      "C:\\Users\\jaker\\anaconda3\\envs\\vgenv\\lib\\site-packages\\sklearn\\model_selection\\_validation.py:552: FitFailedWarning: Estimator fit failed. The score on this train-test partition for these parameters will be set to nan. Details: \n",
      "Traceback (most recent call last):\n",
      "  File \"C:\\Users\\jaker\\anaconda3\\envs\\vgenv\\lib\\site-packages\\sklearn\\model_selection\\_validation.py\", line 531, in _fit_and_score\n",
      "    estimator.fit(X_train, y_train, **fit_params)\n",
      "  File \"C:\\Users\\jaker\\anaconda3\\envs\\vgenv\\lib\\site-packages\\sklearn\\pipeline.py\", line 335, in fit\n",
      "    self._final_estimator.fit(Xt, y, **fit_params_last_step)\n",
      "  File \"C:\\Users\\jaker\\anaconda3\\envs\\vgenv\\lib\\site-packages\\sklearn\\svm\\_base.py\", line 217, in fit\n",
      "    fit(X, y, sample_weight, solver_type, kernel, random_seed=seed)\n",
      "  File \"C:\\Users\\jaker\\anaconda3\\envs\\vgenv\\lib\\site-packages\\sklearn\\svm\\_base.py\", line 298, in _sparse_fit\n",
      "    random_seed)\n",
      "  File \"sklearn\\svm\\_libsvm_sparse.pyx\", line 147, in sklearn.svm._libsvm_sparse.libsvm_sparse_train\n",
      "ValueError: b'specified nu is infeasible'\n",
      "\n",
      "  FitFailedWarning)\n"
     ]
    },
    {
     "name": "stdout",
     "output_type": "stream",
     "text": [
      "[CV]  svc__kernel=rbf, svc__nu=1, tf__max_features=1000, tf__ngram_range=(1, 2), total=   4.0s\n",
      "[CV] svc__kernel=rbf, svc__nu=1, tf__max_features=1000, tf__ngram_range=(1, 2) \n"
     ]
    },
    {
     "name": "stderr",
     "output_type": "stream",
     "text": [
      "C:\\Users\\jaker\\anaconda3\\envs\\vgenv\\lib\\site-packages\\sklearn\\model_selection\\_validation.py:552: FitFailedWarning: Estimator fit failed. The score on this train-test partition for these parameters will be set to nan. Details: \n",
      "Traceback (most recent call last):\n",
      "  File \"C:\\Users\\jaker\\anaconda3\\envs\\vgenv\\lib\\site-packages\\sklearn\\model_selection\\_validation.py\", line 531, in _fit_and_score\n",
      "    estimator.fit(X_train, y_train, **fit_params)\n",
      "  File \"C:\\Users\\jaker\\anaconda3\\envs\\vgenv\\lib\\site-packages\\sklearn\\pipeline.py\", line 335, in fit\n",
      "    self._final_estimator.fit(Xt, y, **fit_params_last_step)\n",
      "  File \"C:\\Users\\jaker\\anaconda3\\envs\\vgenv\\lib\\site-packages\\sklearn\\svm\\_base.py\", line 217, in fit\n",
      "    fit(X, y, sample_weight, solver_type, kernel, random_seed=seed)\n",
      "  File \"C:\\Users\\jaker\\anaconda3\\envs\\vgenv\\lib\\site-packages\\sklearn\\svm\\_base.py\", line 298, in _sparse_fit\n",
      "    random_seed)\n",
      "  File \"sklearn\\svm\\_libsvm_sparse.pyx\", line 147, in sklearn.svm._libsvm_sparse.libsvm_sparse_train\n",
      "ValueError: b'specified nu is infeasible'\n",
      "\n",
      "  FitFailedWarning)\n"
     ]
    },
    {
     "name": "stdout",
     "output_type": "stream",
     "text": [
      "[CV]  svc__kernel=rbf, svc__nu=1, tf__max_features=1000, tf__ngram_range=(1, 2), total=   4.0s\n",
      "[CV] svc__kernel=poly, svc__nu=0.25, tf__max_features=100, tf__ngram_range=(1, 1) \n",
      "[CV]  svc__kernel=poly, svc__nu=0.25, tf__max_features=100, tf__ngram_range=(1, 1), total=   8.3s\n",
      "[CV] svc__kernel=poly, svc__nu=0.25, tf__max_features=100, tf__ngram_range=(1, 1) \n",
      "[CV]  svc__kernel=poly, svc__nu=0.25, tf__max_features=100, tf__ngram_range=(1, 1), total=   8.0s\n",
      "[CV] svc__kernel=poly, svc__nu=0.25, tf__max_features=100, tf__ngram_range=(1, 1) \n",
      "[CV]  svc__kernel=poly, svc__nu=0.25, tf__max_features=100, tf__ngram_range=(1, 1), total=   8.0s\n",
      "[CV] svc__kernel=poly, svc__nu=0.25, tf__max_features=100, tf__ngram_range=(1, 1) \n",
      "[CV]  svc__kernel=poly, svc__nu=0.25, tf__max_features=100, tf__ngram_range=(1, 1), total=   8.0s\n",
      "[CV] svc__kernel=poly, svc__nu=0.25, tf__max_features=100, tf__ngram_range=(1, 1) \n",
      "[CV]  svc__kernel=poly, svc__nu=0.25, tf__max_features=100, tf__ngram_range=(1, 1), total=   7.7s\n",
      "[CV] svc__kernel=poly, svc__nu=0.25, tf__max_features=100, tf__ngram_range=(1, 2) \n",
      "[CV]  svc__kernel=poly, svc__nu=0.25, tf__max_features=100, tf__ngram_range=(1, 2), total=  10.9s\n",
      "[CV] svc__kernel=poly, svc__nu=0.25, tf__max_features=100, tf__ngram_range=(1, 2) \n",
      "[CV]  svc__kernel=poly, svc__nu=0.25, tf__max_features=100, tf__ngram_range=(1, 2), total=  10.4s\n",
      "[CV] svc__kernel=poly, svc__nu=0.25, tf__max_features=100, tf__ngram_range=(1, 2) \n",
      "[CV]  svc__kernel=poly, svc__nu=0.25, tf__max_features=100, tf__ngram_range=(1, 2), total=  10.9s\n",
      "[CV] svc__kernel=poly, svc__nu=0.25, tf__max_features=100, tf__ngram_range=(1, 2) \n",
      "[CV]  svc__kernel=poly, svc__nu=0.25, tf__max_features=100, tf__ngram_range=(1, 2), total=  10.1s\n",
      "[CV] svc__kernel=poly, svc__nu=0.25, tf__max_features=100, tf__ngram_range=(1, 2) \n",
      "[CV]  svc__kernel=poly, svc__nu=0.25, tf__max_features=100, tf__ngram_range=(1, 2), total=  10.8s\n",
      "[CV] svc__kernel=poly, svc__nu=0.25, tf__max_features=500, tf__ngram_range=(1, 1) \n",
      "[CV]  svc__kernel=poly, svc__nu=0.25, tf__max_features=500, tf__ngram_range=(1, 1), total=  12.5s\n",
      "[CV] svc__kernel=poly, svc__nu=0.25, tf__max_features=500, tf__ngram_range=(1, 1) \n",
      "[CV]  svc__kernel=poly, svc__nu=0.25, tf__max_features=500, tf__ngram_range=(1, 1), total=  13.5s\n",
      "[CV] svc__kernel=poly, svc__nu=0.25, tf__max_features=500, tf__ngram_range=(1, 1) \n",
      "[CV]  svc__kernel=poly, svc__nu=0.25, tf__max_features=500, tf__ngram_range=(1, 1), total=  12.3s\n",
      "[CV] svc__kernel=poly, svc__nu=0.25, tf__max_features=500, tf__ngram_range=(1, 1) \n",
      "[CV]  svc__kernel=poly, svc__nu=0.25, tf__max_features=500, tf__ngram_range=(1, 1), total=  12.5s\n",
      "[CV] svc__kernel=poly, svc__nu=0.25, tf__max_features=500, tf__ngram_range=(1, 1) \n",
      "[CV]  svc__kernel=poly, svc__nu=0.25, tf__max_features=500, tf__ngram_range=(1, 1), total=  13.1s\n",
      "[CV] svc__kernel=poly, svc__nu=0.25, tf__max_features=500, tf__ngram_range=(1, 2) \n",
      "[CV]  svc__kernel=poly, svc__nu=0.25, tf__max_features=500, tf__ngram_range=(1, 2), total=  21.0s\n",
      "[CV] svc__kernel=poly, svc__nu=0.25, tf__max_features=500, tf__ngram_range=(1, 2) \n",
      "[CV]  svc__kernel=poly, svc__nu=0.25, tf__max_features=500, tf__ngram_range=(1, 2), total=  17.5s\n",
      "[CV] svc__kernel=poly, svc__nu=0.25, tf__max_features=500, tf__ngram_range=(1, 2) \n",
      "[CV]  svc__kernel=poly, svc__nu=0.25, tf__max_features=500, tf__ngram_range=(1, 2), total=  17.6s\n",
      "[CV] svc__kernel=poly, svc__nu=0.25, tf__max_features=500, tf__ngram_range=(1, 2) \n",
      "[CV]  svc__kernel=poly, svc__nu=0.25, tf__max_features=500, tf__ngram_range=(1, 2), total=  16.9s\n",
      "[CV] svc__kernel=poly, svc__nu=0.25, tf__max_features=500, tf__ngram_range=(1, 2) \n",
      "[CV]  svc__kernel=poly, svc__nu=0.25, tf__max_features=500, tf__ngram_range=(1, 2), total=  16.9s\n",
      "[CV] svc__kernel=poly, svc__nu=0.25, tf__max_features=1000, tf__ngram_range=(1, 1) \n",
      "[CV]  svc__kernel=poly, svc__nu=0.25, tf__max_features=1000, tf__ngram_range=(1, 1), total=  15.7s\n",
      "[CV] svc__kernel=poly, svc__nu=0.25, tf__max_features=1000, tf__ngram_range=(1, 1) \n",
      "[CV]  svc__kernel=poly, svc__nu=0.25, tf__max_features=1000, tf__ngram_range=(1, 1), total=  14.7s\n",
      "[CV] svc__kernel=poly, svc__nu=0.25, tf__max_features=1000, tf__ngram_range=(1, 1) \n",
      "[CV]  svc__kernel=poly, svc__nu=0.25, tf__max_features=1000, tf__ngram_range=(1, 1), total=  16.2s\n",
      "[CV] svc__kernel=poly, svc__nu=0.25, tf__max_features=1000, tf__ngram_range=(1, 1) \n",
      "[CV]  svc__kernel=poly, svc__nu=0.25, tf__max_features=1000, tf__ngram_range=(1, 1), total=  15.1s\n",
      "[CV] svc__kernel=poly, svc__nu=0.25, tf__max_features=1000, tf__ngram_range=(1, 1) \n",
      "[CV]  svc__kernel=poly, svc__nu=0.25, tf__max_features=1000, tf__ngram_range=(1, 1), total=  15.2s\n",
      "[CV] svc__kernel=poly, svc__nu=0.25, tf__max_features=1000, tf__ngram_range=(1, 2) \n",
      "[CV]  svc__kernel=poly, svc__nu=0.25, tf__max_features=1000, tf__ngram_range=(1, 2), total=  20.7s\n",
      "[CV] svc__kernel=poly, svc__nu=0.25, tf__max_features=1000, tf__ngram_range=(1, 2) \n",
      "[CV]  svc__kernel=poly, svc__nu=0.25, tf__max_features=1000, tf__ngram_range=(1, 2), total=  20.3s\n",
      "[CV] svc__kernel=poly, svc__nu=0.25, tf__max_features=1000, tf__ngram_range=(1, 2) \n",
      "[CV]  svc__kernel=poly, svc__nu=0.25, tf__max_features=1000, tf__ngram_range=(1, 2), total=  20.3s\n",
      "[CV] svc__kernel=poly, svc__nu=0.25, tf__max_features=1000, tf__ngram_range=(1, 2) \n",
      "[CV]  svc__kernel=poly, svc__nu=0.25, tf__max_features=1000, tf__ngram_range=(1, 2), total=  20.7s\n",
      "[CV] svc__kernel=poly, svc__nu=0.25, tf__max_features=1000, tf__ngram_range=(1, 2) \n",
      "[CV]  svc__kernel=poly, svc__nu=0.25, tf__max_features=1000, tf__ngram_range=(1, 2), total=  20.2s\n",
      "[CV] svc__kernel=poly, svc__nu=0.5, tf__max_features=100, tf__ngram_range=(1, 1) \n",
      "[CV]  svc__kernel=poly, svc__nu=0.5, tf__max_features=100, tf__ngram_range=(1, 1), total=   7.1s\n",
      "[CV] svc__kernel=poly, svc__nu=0.5, tf__max_features=100, tf__ngram_range=(1, 1) \n",
      "[CV]  svc__kernel=poly, svc__nu=0.5, tf__max_features=100, tf__ngram_range=(1, 1), total=   6.9s\n",
      "[CV] svc__kernel=poly, svc__nu=0.5, tf__max_features=100, tf__ngram_range=(1, 1) \n",
      "[CV]  svc__kernel=poly, svc__nu=0.5, tf__max_features=100, tf__ngram_range=(1, 1), total=   7.4s\n",
      "[CV] svc__kernel=poly, svc__nu=0.5, tf__max_features=100, tf__ngram_range=(1, 1) \n",
      "[CV]  svc__kernel=poly, svc__nu=0.5, tf__max_features=100, tf__ngram_range=(1, 1), total=   7.1s\n",
      "[CV] svc__kernel=poly, svc__nu=0.5, tf__max_features=100, tf__ngram_range=(1, 1) \n",
      "[CV]  svc__kernel=poly, svc__nu=0.5, tf__max_features=100, tf__ngram_range=(1, 1), total=   7.4s\n",
      "[CV] svc__kernel=poly, svc__nu=0.5, tf__max_features=100, tf__ngram_range=(1, 2) \n",
      "[CV]  svc__kernel=poly, svc__nu=0.5, tf__max_features=100, tf__ngram_range=(1, 2), total=  10.8s\n",
      "[CV] svc__kernel=poly, svc__nu=0.5, tf__max_features=100, tf__ngram_range=(1, 2) \n",
      "[CV]  svc__kernel=poly, svc__nu=0.5, tf__max_features=100, tf__ngram_range=(1, 2), total=  10.3s\n",
      "[CV] svc__kernel=poly, svc__nu=0.5, tf__max_features=100, tf__ngram_range=(1, 2) \n",
      "[CV]  svc__kernel=poly, svc__nu=0.5, tf__max_features=100, tf__ngram_range=(1, 2), total=  12.3s\n",
      "[CV] svc__kernel=poly, svc__nu=0.5, tf__max_features=100, tf__ngram_range=(1, 2) \n",
      "[CV]  svc__kernel=poly, svc__nu=0.5, tf__max_features=100, tf__ngram_range=(1, 2), total=  13.9s\n",
      "[CV] svc__kernel=poly, svc__nu=0.5, tf__max_features=100, tf__ngram_range=(1, 2) \n",
      "[CV]  svc__kernel=poly, svc__nu=0.5, tf__max_features=100, tf__ngram_range=(1, 2), total=  13.6s\n",
      "[CV] svc__kernel=poly, svc__nu=0.5, tf__max_features=500, tf__ngram_range=(1, 1) \n",
      "[CV]  svc__kernel=poly, svc__nu=0.5, tf__max_features=500, tf__ngram_range=(1, 1), total=  15.3s\n",
      "[CV] svc__kernel=poly, svc__nu=0.5, tf__max_features=500, tf__ngram_range=(1, 1) \n",
      "[CV]  svc__kernel=poly, svc__nu=0.5, tf__max_features=500, tf__ngram_range=(1, 1), total=  16.2s\n",
      "[CV] svc__kernel=poly, svc__nu=0.5, tf__max_features=500, tf__ngram_range=(1, 1) \n",
      "[CV]  svc__kernel=poly, svc__nu=0.5, tf__max_features=500, tf__ngram_range=(1, 1), total=  17.6s\n",
      "[CV] svc__kernel=poly, svc__nu=0.5, tf__max_features=500, tf__ngram_range=(1, 1) \n",
      "[CV]  svc__kernel=poly, svc__nu=0.5, tf__max_features=500, tf__ngram_range=(1, 1), total=  15.4s\n",
      "[CV] svc__kernel=poly, svc__nu=0.5, tf__max_features=500, tf__ngram_range=(1, 1) \n",
      "[CV]  svc__kernel=poly, svc__nu=0.5, tf__max_features=500, tf__ngram_range=(1, 1), total=  13.4s\n",
      "[CV] svc__kernel=poly, svc__nu=0.5, tf__max_features=500, tf__ngram_range=(1, 2) \n",
      "[CV]  svc__kernel=poly, svc__nu=0.5, tf__max_features=500, tf__ngram_range=(1, 2), total=  18.5s\n",
      "[CV] svc__kernel=poly, svc__nu=0.5, tf__max_features=500, tf__ngram_range=(1, 2) \n",
      "[CV]  svc__kernel=poly, svc__nu=0.5, tf__max_features=500, tf__ngram_range=(1, 2), total=  18.2s\n",
      "[CV] svc__kernel=poly, svc__nu=0.5, tf__max_features=500, tf__ngram_range=(1, 2) \n",
      "[CV]  svc__kernel=poly, svc__nu=0.5, tf__max_features=500, tf__ngram_range=(1, 2), total=  18.4s\n",
      "[CV] svc__kernel=poly, svc__nu=0.5, tf__max_features=500, tf__ngram_range=(1, 2) \n",
      "[CV]  svc__kernel=poly, svc__nu=0.5, tf__max_features=500, tf__ngram_range=(1, 2), total=  18.3s\n",
      "[CV] svc__kernel=poly, svc__nu=0.5, tf__max_features=500, tf__ngram_range=(1, 2) \n",
      "[CV]  svc__kernel=poly, svc__nu=0.5, tf__max_features=500, tf__ngram_range=(1, 2), total=  18.1s\n",
      "[CV] svc__kernel=poly, svc__nu=0.5, tf__max_features=1000, tf__ngram_range=(1, 1) \n",
      "[CV]  svc__kernel=poly, svc__nu=0.5, tf__max_features=1000, tf__ngram_range=(1, 1), total=  17.3s\n",
      "[CV] svc__kernel=poly, svc__nu=0.5, tf__max_features=1000, tf__ngram_range=(1, 1) \n",
      "[CV]  svc__kernel=poly, svc__nu=0.5, tf__max_features=1000, tf__ngram_range=(1, 1), total=  16.5s\n",
      "[CV] svc__kernel=poly, svc__nu=0.5, tf__max_features=1000, tf__ngram_range=(1, 1) \n",
      "[CV]  svc__kernel=poly, svc__nu=0.5, tf__max_features=1000, tf__ngram_range=(1, 1), total=  16.9s\n",
      "[CV] svc__kernel=poly, svc__nu=0.5, tf__max_features=1000, tf__ngram_range=(1, 1) \n",
      "[CV]  svc__kernel=poly, svc__nu=0.5, tf__max_features=1000, tf__ngram_range=(1, 1), total=  16.9s\n",
      "[CV] svc__kernel=poly, svc__nu=0.5, tf__max_features=1000, tf__ngram_range=(1, 1) \n",
      "[CV]  svc__kernel=poly, svc__nu=0.5, tf__max_features=1000, tf__ngram_range=(1, 1), total=  17.8s\n",
      "[CV] svc__kernel=poly, svc__nu=0.5, tf__max_features=1000, tf__ngram_range=(1, 2) \n",
      "[CV]  svc__kernel=poly, svc__nu=0.5, tf__max_features=1000, tf__ngram_range=(1, 2), total=  27.5s\n",
      "[CV] svc__kernel=poly, svc__nu=0.5, tf__max_features=1000, tf__ngram_range=(1, 2) \n",
      "[CV]  svc__kernel=poly, svc__nu=0.5, tf__max_features=1000, tf__ngram_range=(1, 2), total=  26.5s\n",
      "[CV] svc__kernel=poly, svc__nu=0.5, tf__max_features=1000, tf__ngram_range=(1, 2) \n",
      "[CV]  svc__kernel=poly, svc__nu=0.5, tf__max_features=1000, tf__ngram_range=(1, 2), total=  23.4s\n",
      "[CV] svc__kernel=poly, svc__nu=0.5, tf__max_features=1000, tf__ngram_range=(1, 2) \n",
      "[CV]  svc__kernel=poly, svc__nu=0.5, tf__max_features=1000, tf__ngram_range=(1, 2), total=  22.1s\n",
      "[CV] svc__kernel=poly, svc__nu=0.5, tf__max_features=1000, tf__ngram_range=(1, 2) \n",
      "[CV]  svc__kernel=poly, svc__nu=0.5, tf__max_features=1000, tf__ngram_range=(1, 2), total=  22.5s\n",
      "[CV] svc__kernel=poly, svc__nu=1, tf__max_features=100, tf__ngram_range=(1, 1) \n"
     ]
    },
    {
     "name": "stderr",
     "output_type": "stream",
     "text": [
      "C:\\Users\\jaker\\anaconda3\\envs\\vgenv\\lib\\site-packages\\sklearn\\model_selection\\_validation.py:552: FitFailedWarning: Estimator fit failed. The score on this train-test partition for these parameters will be set to nan. Details: \n",
      "Traceback (most recent call last):\n",
      "  File \"C:\\Users\\jaker\\anaconda3\\envs\\vgenv\\lib\\site-packages\\sklearn\\model_selection\\_validation.py\", line 531, in _fit_and_score\n",
      "    estimator.fit(X_train, y_train, **fit_params)\n",
      "  File \"C:\\Users\\jaker\\anaconda3\\envs\\vgenv\\lib\\site-packages\\sklearn\\pipeline.py\", line 335, in fit\n",
      "    self._final_estimator.fit(Xt, y, **fit_params_last_step)\n",
      "  File \"C:\\Users\\jaker\\anaconda3\\envs\\vgenv\\lib\\site-packages\\sklearn\\svm\\_base.py\", line 217, in fit\n",
      "    fit(X, y, sample_weight, solver_type, kernel, random_seed=seed)\n",
      "  File \"C:\\Users\\jaker\\anaconda3\\envs\\vgenv\\lib\\site-packages\\sklearn\\svm\\_base.py\", line 298, in _sparse_fit\n",
      "    random_seed)\n",
      "  File \"sklearn\\svm\\_libsvm_sparse.pyx\", line 147, in sklearn.svm._libsvm_sparse.libsvm_sparse_train\n",
      "ValueError: b'specified nu is infeasible'\n",
      "\n",
      "  FitFailedWarning)\n"
     ]
    },
    {
     "name": "stdout",
     "output_type": "stream",
     "text": [
      "[CV]  svc__kernel=poly, svc__nu=1, tf__max_features=100, tf__ngram_range=(1, 1), total=   1.4s\n",
      "[CV] svc__kernel=poly, svc__nu=1, tf__max_features=100, tf__ngram_range=(1, 1) \n"
     ]
    },
    {
     "name": "stderr",
     "output_type": "stream",
     "text": [
      "C:\\Users\\jaker\\anaconda3\\envs\\vgenv\\lib\\site-packages\\sklearn\\model_selection\\_validation.py:552: FitFailedWarning: Estimator fit failed. The score on this train-test partition for these parameters will be set to nan. Details: \n",
      "Traceback (most recent call last):\n",
      "  File \"C:\\Users\\jaker\\anaconda3\\envs\\vgenv\\lib\\site-packages\\sklearn\\model_selection\\_validation.py\", line 531, in _fit_and_score\n",
      "    estimator.fit(X_train, y_train, **fit_params)\n",
      "  File \"C:\\Users\\jaker\\anaconda3\\envs\\vgenv\\lib\\site-packages\\sklearn\\pipeline.py\", line 335, in fit\n",
      "    self._final_estimator.fit(Xt, y, **fit_params_last_step)\n",
      "  File \"C:\\Users\\jaker\\anaconda3\\envs\\vgenv\\lib\\site-packages\\sklearn\\svm\\_base.py\", line 217, in fit\n",
      "    fit(X, y, sample_weight, solver_type, kernel, random_seed=seed)\n",
      "  File \"C:\\Users\\jaker\\anaconda3\\envs\\vgenv\\lib\\site-packages\\sklearn\\svm\\_base.py\", line 298, in _sparse_fit\n",
      "    random_seed)\n",
      "  File \"sklearn\\svm\\_libsvm_sparse.pyx\", line 147, in sklearn.svm._libsvm_sparse.libsvm_sparse_train\n",
      "ValueError: b'specified nu is infeasible'\n",
      "\n",
      "  FitFailedWarning)\n"
     ]
    },
    {
     "name": "stdout",
     "output_type": "stream",
     "text": [
      "[CV]  svc__kernel=poly, svc__nu=1, tf__max_features=100, tf__ngram_range=(1, 1), total=   1.4s\n",
      "[CV] svc__kernel=poly, svc__nu=1, tf__max_features=100, tf__ngram_range=(1, 1) \n"
     ]
    },
    {
     "name": "stderr",
     "output_type": "stream",
     "text": [
      "C:\\Users\\jaker\\anaconda3\\envs\\vgenv\\lib\\site-packages\\sklearn\\model_selection\\_validation.py:552: FitFailedWarning: Estimator fit failed. The score on this train-test partition for these parameters will be set to nan. Details: \n",
      "Traceback (most recent call last):\n",
      "  File \"C:\\Users\\jaker\\anaconda3\\envs\\vgenv\\lib\\site-packages\\sklearn\\model_selection\\_validation.py\", line 531, in _fit_and_score\n",
      "    estimator.fit(X_train, y_train, **fit_params)\n",
      "  File \"C:\\Users\\jaker\\anaconda3\\envs\\vgenv\\lib\\site-packages\\sklearn\\pipeline.py\", line 335, in fit\n",
      "    self._final_estimator.fit(Xt, y, **fit_params_last_step)\n",
      "  File \"C:\\Users\\jaker\\anaconda3\\envs\\vgenv\\lib\\site-packages\\sklearn\\svm\\_base.py\", line 217, in fit\n",
      "    fit(X, y, sample_weight, solver_type, kernel, random_seed=seed)\n",
      "  File \"C:\\Users\\jaker\\anaconda3\\envs\\vgenv\\lib\\site-packages\\sklearn\\svm\\_base.py\", line 298, in _sparse_fit\n",
      "    random_seed)\n",
      "  File \"sklearn\\svm\\_libsvm_sparse.pyx\", line 147, in sklearn.svm._libsvm_sparse.libsvm_sparse_train\n",
      "ValueError: b'specified nu is infeasible'\n",
      "\n",
      "  FitFailedWarning)\n"
     ]
    },
    {
     "name": "stdout",
     "output_type": "stream",
     "text": [
      "[CV]  svc__kernel=poly, svc__nu=1, tf__max_features=100, tf__ngram_range=(1, 1), total=   1.6s\n",
      "[CV] svc__kernel=poly, svc__nu=1, tf__max_features=100, tf__ngram_range=(1, 1) \n"
     ]
    },
    {
     "name": "stderr",
     "output_type": "stream",
     "text": [
      "C:\\Users\\jaker\\anaconda3\\envs\\vgenv\\lib\\site-packages\\sklearn\\model_selection\\_validation.py:552: FitFailedWarning: Estimator fit failed. The score on this train-test partition for these parameters will be set to nan. Details: \n",
      "Traceback (most recent call last):\n",
      "  File \"C:\\Users\\jaker\\anaconda3\\envs\\vgenv\\lib\\site-packages\\sklearn\\model_selection\\_validation.py\", line 531, in _fit_and_score\n",
      "    estimator.fit(X_train, y_train, **fit_params)\n",
      "  File \"C:\\Users\\jaker\\anaconda3\\envs\\vgenv\\lib\\site-packages\\sklearn\\pipeline.py\", line 335, in fit\n",
      "    self._final_estimator.fit(Xt, y, **fit_params_last_step)\n",
      "  File \"C:\\Users\\jaker\\anaconda3\\envs\\vgenv\\lib\\site-packages\\sklearn\\svm\\_base.py\", line 217, in fit\n",
      "    fit(X, y, sample_weight, solver_type, kernel, random_seed=seed)\n",
      "  File \"C:\\Users\\jaker\\anaconda3\\envs\\vgenv\\lib\\site-packages\\sklearn\\svm\\_base.py\", line 298, in _sparse_fit\n",
      "    random_seed)\n",
      "  File \"sklearn\\svm\\_libsvm_sparse.pyx\", line 147, in sklearn.svm._libsvm_sparse.libsvm_sparse_train\n",
      "ValueError: b'specified nu is infeasible'\n",
      "\n",
      "  FitFailedWarning)\n"
     ]
    },
    {
     "name": "stdout",
     "output_type": "stream",
     "text": [
      "[CV]  svc__kernel=poly, svc__nu=1, tf__max_features=100, tf__ngram_range=(1, 1), total=   1.7s\n",
      "[CV] svc__kernel=poly, svc__nu=1, tf__max_features=100, tf__ngram_range=(1, 1) \n"
     ]
    },
    {
     "name": "stderr",
     "output_type": "stream",
     "text": [
      "C:\\Users\\jaker\\anaconda3\\envs\\vgenv\\lib\\site-packages\\sklearn\\model_selection\\_validation.py:552: FitFailedWarning: Estimator fit failed. The score on this train-test partition for these parameters will be set to nan. Details: \n",
      "Traceback (most recent call last):\n",
      "  File \"C:\\Users\\jaker\\anaconda3\\envs\\vgenv\\lib\\site-packages\\sklearn\\model_selection\\_validation.py\", line 531, in _fit_and_score\n",
      "    estimator.fit(X_train, y_train, **fit_params)\n",
      "  File \"C:\\Users\\jaker\\anaconda3\\envs\\vgenv\\lib\\site-packages\\sklearn\\pipeline.py\", line 335, in fit\n",
      "    self._final_estimator.fit(Xt, y, **fit_params_last_step)\n",
      "  File \"C:\\Users\\jaker\\anaconda3\\envs\\vgenv\\lib\\site-packages\\sklearn\\svm\\_base.py\", line 217, in fit\n",
      "    fit(X, y, sample_weight, solver_type, kernel, random_seed=seed)\n",
      "  File \"C:\\Users\\jaker\\anaconda3\\envs\\vgenv\\lib\\site-packages\\sklearn\\svm\\_base.py\", line 298, in _sparse_fit\n",
      "    random_seed)\n",
      "  File \"sklearn\\svm\\_libsvm_sparse.pyx\", line 147, in sklearn.svm._libsvm_sparse.libsvm_sparse_train\n",
      "ValueError: b'specified nu is infeasible'\n",
      "\n",
      "  FitFailedWarning)\n"
     ]
    },
    {
     "name": "stdout",
     "output_type": "stream",
     "text": [
      "[CV]  svc__kernel=poly, svc__nu=1, tf__max_features=100, tf__ngram_range=(1, 1), total=   1.5s\n",
      "[CV] svc__kernel=poly, svc__nu=1, tf__max_features=100, tf__ngram_range=(1, 2) \n"
     ]
    },
    {
     "name": "stderr",
     "output_type": "stream",
     "text": [
      "C:\\Users\\jaker\\anaconda3\\envs\\vgenv\\lib\\site-packages\\sklearn\\model_selection\\_validation.py:552: FitFailedWarning: Estimator fit failed. The score on this train-test partition for these parameters will be set to nan. Details: \n",
      "Traceback (most recent call last):\n",
      "  File \"C:\\Users\\jaker\\anaconda3\\envs\\vgenv\\lib\\site-packages\\sklearn\\model_selection\\_validation.py\", line 531, in _fit_and_score\n",
      "    estimator.fit(X_train, y_train, **fit_params)\n",
      "  File \"C:\\Users\\jaker\\anaconda3\\envs\\vgenv\\lib\\site-packages\\sklearn\\pipeline.py\", line 335, in fit\n",
      "    self._final_estimator.fit(Xt, y, **fit_params_last_step)\n",
      "  File \"C:\\Users\\jaker\\anaconda3\\envs\\vgenv\\lib\\site-packages\\sklearn\\svm\\_base.py\", line 217, in fit\n",
      "    fit(X, y, sample_weight, solver_type, kernel, random_seed=seed)\n",
      "  File \"C:\\Users\\jaker\\anaconda3\\envs\\vgenv\\lib\\site-packages\\sklearn\\svm\\_base.py\", line 298, in _sparse_fit\n",
      "    random_seed)\n",
      "  File \"sklearn\\svm\\_libsvm_sparse.pyx\", line 147, in sklearn.svm._libsvm_sparse.libsvm_sparse_train\n",
      "ValueError: b'specified nu is infeasible'\n",
      "\n",
      "  FitFailedWarning)\n"
     ]
    },
    {
     "name": "stdout",
     "output_type": "stream",
     "text": [
      "[CV]  svc__kernel=poly, svc__nu=1, tf__max_features=100, tf__ngram_range=(1, 2), total=   4.3s\n",
      "[CV] svc__kernel=poly, svc__nu=1, tf__max_features=100, tf__ngram_range=(1, 2) \n"
     ]
    },
    {
     "name": "stderr",
     "output_type": "stream",
     "text": [
      "C:\\Users\\jaker\\anaconda3\\envs\\vgenv\\lib\\site-packages\\sklearn\\model_selection\\_validation.py:552: FitFailedWarning: Estimator fit failed. The score on this train-test partition for these parameters will be set to nan. Details: \n",
      "Traceback (most recent call last):\n",
      "  File \"C:\\Users\\jaker\\anaconda3\\envs\\vgenv\\lib\\site-packages\\sklearn\\model_selection\\_validation.py\", line 531, in _fit_and_score\n",
      "    estimator.fit(X_train, y_train, **fit_params)\n",
      "  File \"C:\\Users\\jaker\\anaconda3\\envs\\vgenv\\lib\\site-packages\\sklearn\\pipeline.py\", line 335, in fit\n",
      "    self._final_estimator.fit(Xt, y, **fit_params_last_step)\n",
      "  File \"C:\\Users\\jaker\\anaconda3\\envs\\vgenv\\lib\\site-packages\\sklearn\\svm\\_base.py\", line 217, in fit\n",
      "    fit(X, y, sample_weight, solver_type, kernel, random_seed=seed)\n",
      "  File \"C:\\Users\\jaker\\anaconda3\\envs\\vgenv\\lib\\site-packages\\sklearn\\svm\\_base.py\", line 298, in _sparse_fit\n",
      "    random_seed)\n",
      "  File \"sklearn\\svm\\_libsvm_sparse.pyx\", line 147, in sklearn.svm._libsvm_sparse.libsvm_sparse_train\n",
      "ValueError: b'specified nu is infeasible'\n",
      "\n",
      "  FitFailedWarning)\n"
     ]
    },
    {
     "name": "stdout",
     "output_type": "stream",
     "text": [
      "[CV]  svc__kernel=poly, svc__nu=1, tf__max_features=100, tf__ngram_range=(1, 2), total=   3.9s\n",
      "[CV] svc__kernel=poly, svc__nu=1, tf__max_features=100, tf__ngram_range=(1, 2) \n"
     ]
    },
    {
     "name": "stderr",
     "output_type": "stream",
     "text": [
      "C:\\Users\\jaker\\anaconda3\\envs\\vgenv\\lib\\site-packages\\sklearn\\model_selection\\_validation.py:552: FitFailedWarning: Estimator fit failed. The score on this train-test partition for these parameters will be set to nan. Details: \n",
      "Traceback (most recent call last):\n",
      "  File \"C:\\Users\\jaker\\anaconda3\\envs\\vgenv\\lib\\site-packages\\sklearn\\model_selection\\_validation.py\", line 531, in _fit_and_score\n",
      "    estimator.fit(X_train, y_train, **fit_params)\n",
      "  File \"C:\\Users\\jaker\\anaconda3\\envs\\vgenv\\lib\\site-packages\\sklearn\\pipeline.py\", line 335, in fit\n",
      "    self._final_estimator.fit(Xt, y, **fit_params_last_step)\n",
      "  File \"C:\\Users\\jaker\\anaconda3\\envs\\vgenv\\lib\\site-packages\\sklearn\\svm\\_base.py\", line 217, in fit\n",
      "    fit(X, y, sample_weight, solver_type, kernel, random_seed=seed)\n",
      "  File \"C:\\Users\\jaker\\anaconda3\\envs\\vgenv\\lib\\site-packages\\sklearn\\svm\\_base.py\", line 298, in _sparse_fit\n",
      "    random_seed)\n",
      "  File \"sklearn\\svm\\_libsvm_sparse.pyx\", line 147, in sklearn.svm._libsvm_sparse.libsvm_sparse_train\n",
      "ValueError: b'specified nu is infeasible'\n",
      "\n",
      "  FitFailedWarning)\n"
     ]
    },
    {
     "name": "stdout",
     "output_type": "stream",
     "text": [
      "[CV]  svc__kernel=poly, svc__nu=1, tf__max_features=100, tf__ngram_range=(1, 2), total=   4.0s\n",
      "[CV] svc__kernel=poly, svc__nu=1, tf__max_features=100, tf__ngram_range=(1, 2) \n"
     ]
    },
    {
     "name": "stderr",
     "output_type": "stream",
     "text": [
      "C:\\Users\\jaker\\anaconda3\\envs\\vgenv\\lib\\site-packages\\sklearn\\model_selection\\_validation.py:552: FitFailedWarning: Estimator fit failed. The score on this train-test partition for these parameters will be set to nan. Details: \n",
      "Traceback (most recent call last):\n",
      "  File \"C:\\Users\\jaker\\anaconda3\\envs\\vgenv\\lib\\site-packages\\sklearn\\model_selection\\_validation.py\", line 531, in _fit_and_score\n",
      "    estimator.fit(X_train, y_train, **fit_params)\n",
      "  File \"C:\\Users\\jaker\\anaconda3\\envs\\vgenv\\lib\\site-packages\\sklearn\\pipeline.py\", line 335, in fit\n",
      "    self._final_estimator.fit(Xt, y, **fit_params_last_step)\n",
      "  File \"C:\\Users\\jaker\\anaconda3\\envs\\vgenv\\lib\\site-packages\\sklearn\\svm\\_base.py\", line 217, in fit\n",
      "    fit(X, y, sample_weight, solver_type, kernel, random_seed=seed)\n",
      "  File \"C:\\Users\\jaker\\anaconda3\\envs\\vgenv\\lib\\site-packages\\sklearn\\svm\\_base.py\", line 298, in _sparse_fit\n",
      "    random_seed)\n",
      "  File \"sklearn\\svm\\_libsvm_sparse.pyx\", line 147, in sklearn.svm._libsvm_sparse.libsvm_sparse_train\n",
      "ValueError: b'specified nu is infeasible'\n",
      "\n",
      "  FitFailedWarning)\n"
     ]
    },
    {
     "name": "stdout",
     "output_type": "stream",
     "text": [
      "[CV]  svc__kernel=poly, svc__nu=1, tf__max_features=100, tf__ngram_range=(1, 2), total=   3.9s\n",
      "[CV] svc__kernel=poly, svc__nu=1, tf__max_features=100, tf__ngram_range=(1, 2) \n"
     ]
    },
    {
     "name": "stderr",
     "output_type": "stream",
     "text": [
      "C:\\Users\\jaker\\anaconda3\\envs\\vgenv\\lib\\site-packages\\sklearn\\model_selection\\_validation.py:552: FitFailedWarning: Estimator fit failed. The score on this train-test partition for these parameters will be set to nan. Details: \n",
      "Traceback (most recent call last):\n",
      "  File \"C:\\Users\\jaker\\anaconda3\\envs\\vgenv\\lib\\site-packages\\sklearn\\model_selection\\_validation.py\", line 531, in _fit_and_score\n",
      "    estimator.fit(X_train, y_train, **fit_params)\n",
      "  File \"C:\\Users\\jaker\\anaconda3\\envs\\vgenv\\lib\\site-packages\\sklearn\\pipeline.py\", line 335, in fit\n",
      "    self._final_estimator.fit(Xt, y, **fit_params_last_step)\n",
      "  File \"C:\\Users\\jaker\\anaconda3\\envs\\vgenv\\lib\\site-packages\\sklearn\\svm\\_base.py\", line 217, in fit\n",
      "    fit(X, y, sample_weight, solver_type, kernel, random_seed=seed)\n",
      "  File \"C:\\Users\\jaker\\anaconda3\\envs\\vgenv\\lib\\site-packages\\sklearn\\svm\\_base.py\", line 298, in _sparse_fit\n",
      "    random_seed)\n",
      "  File \"sklearn\\svm\\_libsvm_sparse.pyx\", line 147, in sklearn.svm._libsvm_sparse.libsvm_sparse_train\n",
      "ValueError: b'specified nu is infeasible'\n",
      "\n",
      "  FitFailedWarning)\n"
     ]
    },
    {
     "name": "stdout",
     "output_type": "stream",
     "text": [
      "[CV]  svc__kernel=poly, svc__nu=1, tf__max_features=100, tf__ngram_range=(1, 2), total=   3.9s\n",
      "[CV] svc__kernel=poly, svc__nu=1, tf__max_features=500, tf__ngram_range=(1, 1) \n"
     ]
    },
    {
     "name": "stderr",
     "output_type": "stream",
     "text": [
      "C:\\Users\\jaker\\anaconda3\\envs\\vgenv\\lib\\site-packages\\sklearn\\model_selection\\_validation.py:552: FitFailedWarning: Estimator fit failed. The score on this train-test partition for these parameters will be set to nan. Details: \n",
      "Traceback (most recent call last):\n",
      "  File \"C:\\Users\\jaker\\anaconda3\\envs\\vgenv\\lib\\site-packages\\sklearn\\model_selection\\_validation.py\", line 531, in _fit_and_score\n",
      "    estimator.fit(X_train, y_train, **fit_params)\n",
      "  File \"C:\\Users\\jaker\\anaconda3\\envs\\vgenv\\lib\\site-packages\\sklearn\\pipeline.py\", line 335, in fit\n",
      "    self._final_estimator.fit(Xt, y, **fit_params_last_step)\n",
      "  File \"C:\\Users\\jaker\\anaconda3\\envs\\vgenv\\lib\\site-packages\\sklearn\\svm\\_base.py\", line 217, in fit\n",
      "    fit(X, y, sample_weight, solver_type, kernel, random_seed=seed)\n",
      "  File \"C:\\Users\\jaker\\anaconda3\\envs\\vgenv\\lib\\site-packages\\sklearn\\svm\\_base.py\", line 298, in _sparse_fit\n",
      "    random_seed)\n",
      "  File \"sklearn\\svm\\_libsvm_sparse.pyx\", line 147, in sklearn.svm._libsvm_sparse.libsvm_sparse_train\n",
      "ValueError: b'specified nu is infeasible'\n",
      "\n",
      "  FitFailedWarning)\n"
     ]
    },
    {
     "name": "stdout",
     "output_type": "stream",
     "text": [
      "[CV]  svc__kernel=poly, svc__nu=1, tf__max_features=500, tf__ngram_range=(1, 1), total=   1.5s\n",
      "[CV] svc__kernel=poly, svc__nu=1, tf__max_features=500, tf__ngram_range=(1, 1) \n"
     ]
    },
    {
     "name": "stderr",
     "output_type": "stream",
     "text": [
      "C:\\Users\\jaker\\anaconda3\\envs\\vgenv\\lib\\site-packages\\sklearn\\model_selection\\_validation.py:552: FitFailedWarning: Estimator fit failed. The score on this train-test partition for these parameters will be set to nan. Details: \n",
      "Traceback (most recent call last):\n",
      "  File \"C:\\Users\\jaker\\anaconda3\\envs\\vgenv\\lib\\site-packages\\sklearn\\model_selection\\_validation.py\", line 531, in _fit_and_score\n",
      "    estimator.fit(X_train, y_train, **fit_params)\n",
      "  File \"C:\\Users\\jaker\\anaconda3\\envs\\vgenv\\lib\\site-packages\\sklearn\\pipeline.py\", line 335, in fit\n",
      "    self._final_estimator.fit(Xt, y, **fit_params_last_step)\n",
      "  File \"C:\\Users\\jaker\\anaconda3\\envs\\vgenv\\lib\\site-packages\\sklearn\\svm\\_base.py\", line 217, in fit\n",
      "    fit(X, y, sample_weight, solver_type, kernel, random_seed=seed)\n",
      "  File \"C:\\Users\\jaker\\anaconda3\\envs\\vgenv\\lib\\site-packages\\sklearn\\svm\\_base.py\", line 298, in _sparse_fit\n",
      "    random_seed)\n",
      "  File \"sklearn\\svm\\_libsvm_sparse.pyx\", line 147, in sklearn.svm._libsvm_sparse.libsvm_sparse_train\n",
      "ValueError: b'specified nu is infeasible'\n",
      "\n",
      "  FitFailedWarning)\n"
     ]
    },
    {
     "name": "stdout",
     "output_type": "stream",
     "text": [
      "[CV]  svc__kernel=poly, svc__nu=1, tf__max_features=500, tf__ngram_range=(1, 1), total=   1.5s\n",
      "[CV] svc__kernel=poly, svc__nu=1, tf__max_features=500, tf__ngram_range=(1, 1) \n"
     ]
    },
    {
     "name": "stderr",
     "output_type": "stream",
     "text": [
      "C:\\Users\\jaker\\anaconda3\\envs\\vgenv\\lib\\site-packages\\sklearn\\model_selection\\_validation.py:552: FitFailedWarning: Estimator fit failed. The score on this train-test partition for these parameters will be set to nan. Details: \n",
      "Traceback (most recent call last):\n",
      "  File \"C:\\Users\\jaker\\anaconda3\\envs\\vgenv\\lib\\site-packages\\sklearn\\model_selection\\_validation.py\", line 531, in _fit_and_score\n",
      "    estimator.fit(X_train, y_train, **fit_params)\n",
      "  File \"C:\\Users\\jaker\\anaconda3\\envs\\vgenv\\lib\\site-packages\\sklearn\\pipeline.py\", line 335, in fit\n",
      "    self._final_estimator.fit(Xt, y, **fit_params_last_step)\n",
      "  File \"C:\\Users\\jaker\\anaconda3\\envs\\vgenv\\lib\\site-packages\\sklearn\\svm\\_base.py\", line 217, in fit\n",
      "    fit(X, y, sample_weight, solver_type, kernel, random_seed=seed)\n",
      "  File \"C:\\Users\\jaker\\anaconda3\\envs\\vgenv\\lib\\site-packages\\sklearn\\svm\\_base.py\", line 298, in _sparse_fit\n",
      "    random_seed)\n",
      "  File \"sklearn\\svm\\_libsvm_sparse.pyx\", line 147, in sklearn.svm._libsvm_sparse.libsvm_sparse_train\n",
      "ValueError: b'specified nu is infeasible'\n",
      "\n",
      "  FitFailedWarning)\n"
     ]
    },
    {
     "name": "stdout",
     "output_type": "stream",
     "text": [
      "[CV]  svc__kernel=poly, svc__nu=1, tf__max_features=500, tf__ngram_range=(1, 1), total=   1.5s\n",
      "[CV] svc__kernel=poly, svc__nu=1, tf__max_features=500, tf__ngram_range=(1, 1) \n"
     ]
    },
    {
     "name": "stderr",
     "output_type": "stream",
     "text": [
      "C:\\Users\\jaker\\anaconda3\\envs\\vgenv\\lib\\site-packages\\sklearn\\model_selection\\_validation.py:552: FitFailedWarning: Estimator fit failed. The score on this train-test partition for these parameters will be set to nan. Details: \n",
      "Traceback (most recent call last):\n",
      "  File \"C:\\Users\\jaker\\anaconda3\\envs\\vgenv\\lib\\site-packages\\sklearn\\model_selection\\_validation.py\", line 531, in _fit_and_score\n",
      "    estimator.fit(X_train, y_train, **fit_params)\n",
      "  File \"C:\\Users\\jaker\\anaconda3\\envs\\vgenv\\lib\\site-packages\\sklearn\\pipeline.py\", line 335, in fit\n",
      "    self._final_estimator.fit(Xt, y, **fit_params_last_step)\n",
      "  File \"C:\\Users\\jaker\\anaconda3\\envs\\vgenv\\lib\\site-packages\\sklearn\\svm\\_base.py\", line 217, in fit\n",
      "    fit(X, y, sample_weight, solver_type, kernel, random_seed=seed)\n",
      "  File \"C:\\Users\\jaker\\anaconda3\\envs\\vgenv\\lib\\site-packages\\sklearn\\svm\\_base.py\", line 298, in _sparse_fit\n",
      "    random_seed)\n",
      "  File \"sklearn\\svm\\_libsvm_sparse.pyx\", line 147, in sklearn.svm._libsvm_sparse.libsvm_sparse_train\n",
      "ValueError: b'specified nu is infeasible'\n",
      "\n",
      "  FitFailedWarning)\n"
     ]
    },
    {
     "name": "stdout",
     "output_type": "stream",
     "text": [
      "[CV]  svc__kernel=poly, svc__nu=1, tf__max_features=500, tf__ngram_range=(1, 1), total=   1.5s\n",
      "[CV] svc__kernel=poly, svc__nu=1, tf__max_features=500, tf__ngram_range=(1, 1) \n"
     ]
    },
    {
     "name": "stderr",
     "output_type": "stream",
     "text": [
      "C:\\Users\\jaker\\anaconda3\\envs\\vgenv\\lib\\site-packages\\sklearn\\model_selection\\_validation.py:552: FitFailedWarning: Estimator fit failed. The score on this train-test partition for these parameters will be set to nan. Details: \n",
      "Traceback (most recent call last):\n",
      "  File \"C:\\Users\\jaker\\anaconda3\\envs\\vgenv\\lib\\site-packages\\sklearn\\model_selection\\_validation.py\", line 531, in _fit_and_score\n",
      "    estimator.fit(X_train, y_train, **fit_params)\n",
      "  File \"C:\\Users\\jaker\\anaconda3\\envs\\vgenv\\lib\\site-packages\\sklearn\\pipeline.py\", line 335, in fit\n",
      "    self._final_estimator.fit(Xt, y, **fit_params_last_step)\n",
      "  File \"C:\\Users\\jaker\\anaconda3\\envs\\vgenv\\lib\\site-packages\\sklearn\\svm\\_base.py\", line 217, in fit\n",
      "    fit(X, y, sample_weight, solver_type, kernel, random_seed=seed)\n",
      "  File \"C:\\Users\\jaker\\anaconda3\\envs\\vgenv\\lib\\site-packages\\sklearn\\svm\\_base.py\", line 298, in _sparse_fit\n",
      "    random_seed)\n",
      "  File \"sklearn\\svm\\_libsvm_sparse.pyx\", line 147, in sklearn.svm._libsvm_sparse.libsvm_sparse_train\n",
      "ValueError: b'specified nu is infeasible'\n",
      "\n",
      "  FitFailedWarning)\n"
     ]
    },
    {
     "name": "stdout",
     "output_type": "stream",
     "text": [
      "[CV]  svc__kernel=poly, svc__nu=1, tf__max_features=500, tf__ngram_range=(1, 1), total=   1.5s\n",
      "[CV] svc__kernel=poly, svc__nu=1, tf__max_features=500, tf__ngram_range=(1, 2) \n"
     ]
    },
    {
     "name": "stderr",
     "output_type": "stream",
     "text": [
      "C:\\Users\\jaker\\anaconda3\\envs\\vgenv\\lib\\site-packages\\sklearn\\model_selection\\_validation.py:552: FitFailedWarning: Estimator fit failed. The score on this train-test partition for these parameters will be set to nan. Details: \n",
      "Traceback (most recent call last):\n",
      "  File \"C:\\Users\\jaker\\anaconda3\\envs\\vgenv\\lib\\site-packages\\sklearn\\model_selection\\_validation.py\", line 531, in _fit_and_score\n",
      "    estimator.fit(X_train, y_train, **fit_params)\n",
      "  File \"C:\\Users\\jaker\\anaconda3\\envs\\vgenv\\lib\\site-packages\\sklearn\\pipeline.py\", line 335, in fit\n",
      "    self._final_estimator.fit(Xt, y, **fit_params_last_step)\n",
      "  File \"C:\\Users\\jaker\\anaconda3\\envs\\vgenv\\lib\\site-packages\\sklearn\\svm\\_base.py\", line 217, in fit\n",
      "    fit(X, y, sample_weight, solver_type, kernel, random_seed=seed)\n",
      "  File \"C:\\Users\\jaker\\anaconda3\\envs\\vgenv\\lib\\site-packages\\sklearn\\svm\\_base.py\", line 298, in _sparse_fit\n",
      "    random_seed)\n",
      "  File \"sklearn\\svm\\_libsvm_sparse.pyx\", line 147, in sklearn.svm._libsvm_sparse.libsvm_sparse_train\n",
      "ValueError: b'specified nu is infeasible'\n",
      "\n",
      "  FitFailedWarning)\n"
     ]
    },
    {
     "name": "stdout",
     "output_type": "stream",
     "text": [
      "[CV]  svc__kernel=poly, svc__nu=1, tf__max_features=500, tf__ngram_range=(1, 2), total=   4.1s\n",
      "[CV] svc__kernel=poly, svc__nu=1, tf__max_features=500, tf__ngram_range=(1, 2) \n"
     ]
    },
    {
     "name": "stderr",
     "output_type": "stream",
     "text": [
      "C:\\Users\\jaker\\anaconda3\\envs\\vgenv\\lib\\site-packages\\sklearn\\model_selection\\_validation.py:552: FitFailedWarning: Estimator fit failed. The score on this train-test partition for these parameters will be set to nan. Details: \n",
      "Traceback (most recent call last):\n",
      "  File \"C:\\Users\\jaker\\anaconda3\\envs\\vgenv\\lib\\site-packages\\sklearn\\model_selection\\_validation.py\", line 531, in _fit_and_score\n",
      "    estimator.fit(X_train, y_train, **fit_params)\n",
      "  File \"C:\\Users\\jaker\\anaconda3\\envs\\vgenv\\lib\\site-packages\\sklearn\\pipeline.py\", line 335, in fit\n",
      "    self._final_estimator.fit(Xt, y, **fit_params_last_step)\n",
      "  File \"C:\\Users\\jaker\\anaconda3\\envs\\vgenv\\lib\\site-packages\\sklearn\\svm\\_base.py\", line 217, in fit\n",
      "    fit(X, y, sample_weight, solver_type, kernel, random_seed=seed)\n",
      "  File \"C:\\Users\\jaker\\anaconda3\\envs\\vgenv\\lib\\site-packages\\sklearn\\svm\\_base.py\", line 298, in _sparse_fit\n",
      "    random_seed)\n",
      "  File \"sklearn\\svm\\_libsvm_sparse.pyx\", line 147, in sklearn.svm._libsvm_sparse.libsvm_sparse_train\n",
      "ValueError: b'specified nu is infeasible'\n",
      "\n",
      "  FitFailedWarning)\n"
     ]
    },
    {
     "name": "stdout",
     "output_type": "stream",
     "text": [
      "[CV]  svc__kernel=poly, svc__nu=1, tf__max_features=500, tf__ngram_range=(1, 2), total=   4.0s\n",
      "[CV] svc__kernel=poly, svc__nu=1, tf__max_features=500, tf__ngram_range=(1, 2) \n"
     ]
    },
    {
     "name": "stderr",
     "output_type": "stream",
     "text": [
      "C:\\Users\\jaker\\anaconda3\\envs\\vgenv\\lib\\site-packages\\sklearn\\model_selection\\_validation.py:552: FitFailedWarning: Estimator fit failed. The score on this train-test partition for these parameters will be set to nan. Details: \n",
      "Traceback (most recent call last):\n",
      "  File \"C:\\Users\\jaker\\anaconda3\\envs\\vgenv\\lib\\site-packages\\sklearn\\model_selection\\_validation.py\", line 531, in _fit_and_score\n",
      "    estimator.fit(X_train, y_train, **fit_params)\n",
      "  File \"C:\\Users\\jaker\\anaconda3\\envs\\vgenv\\lib\\site-packages\\sklearn\\pipeline.py\", line 335, in fit\n",
      "    self._final_estimator.fit(Xt, y, **fit_params_last_step)\n",
      "  File \"C:\\Users\\jaker\\anaconda3\\envs\\vgenv\\lib\\site-packages\\sklearn\\svm\\_base.py\", line 217, in fit\n",
      "    fit(X, y, sample_weight, solver_type, kernel, random_seed=seed)\n",
      "  File \"C:\\Users\\jaker\\anaconda3\\envs\\vgenv\\lib\\site-packages\\sklearn\\svm\\_base.py\", line 298, in _sparse_fit\n",
      "    random_seed)\n",
      "  File \"sklearn\\svm\\_libsvm_sparse.pyx\", line 147, in sklearn.svm._libsvm_sparse.libsvm_sparse_train\n",
      "ValueError: b'specified nu is infeasible'\n",
      "\n",
      "  FitFailedWarning)\n"
     ]
    },
    {
     "name": "stdout",
     "output_type": "stream",
     "text": [
      "[CV]  svc__kernel=poly, svc__nu=1, tf__max_features=500, tf__ngram_range=(1, 2), total=   3.9s\n",
      "[CV] svc__kernel=poly, svc__nu=1, tf__max_features=500, tf__ngram_range=(1, 2) \n"
     ]
    },
    {
     "name": "stderr",
     "output_type": "stream",
     "text": [
      "C:\\Users\\jaker\\anaconda3\\envs\\vgenv\\lib\\site-packages\\sklearn\\model_selection\\_validation.py:552: FitFailedWarning: Estimator fit failed. The score on this train-test partition for these parameters will be set to nan. Details: \n",
      "Traceback (most recent call last):\n",
      "  File \"C:\\Users\\jaker\\anaconda3\\envs\\vgenv\\lib\\site-packages\\sklearn\\model_selection\\_validation.py\", line 531, in _fit_and_score\n",
      "    estimator.fit(X_train, y_train, **fit_params)\n",
      "  File \"C:\\Users\\jaker\\anaconda3\\envs\\vgenv\\lib\\site-packages\\sklearn\\pipeline.py\", line 335, in fit\n",
      "    self._final_estimator.fit(Xt, y, **fit_params_last_step)\n",
      "  File \"C:\\Users\\jaker\\anaconda3\\envs\\vgenv\\lib\\site-packages\\sklearn\\svm\\_base.py\", line 217, in fit\n",
      "    fit(X, y, sample_weight, solver_type, kernel, random_seed=seed)\n",
      "  File \"C:\\Users\\jaker\\anaconda3\\envs\\vgenv\\lib\\site-packages\\sklearn\\svm\\_base.py\", line 298, in _sparse_fit\n",
      "    random_seed)\n",
      "  File \"sklearn\\svm\\_libsvm_sparse.pyx\", line 147, in sklearn.svm._libsvm_sparse.libsvm_sparse_train\n",
      "ValueError: b'specified nu is infeasible'\n",
      "\n",
      "  FitFailedWarning)\n"
     ]
    },
    {
     "name": "stdout",
     "output_type": "stream",
     "text": [
      "[CV]  svc__kernel=poly, svc__nu=1, tf__max_features=500, tf__ngram_range=(1, 2), total=   4.0s\n",
      "[CV] svc__kernel=poly, svc__nu=1, tf__max_features=500, tf__ngram_range=(1, 2) \n"
     ]
    },
    {
     "name": "stderr",
     "output_type": "stream",
     "text": [
      "C:\\Users\\jaker\\anaconda3\\envs\\vgenv\\lib\\site-packages\\sklearn\\model_selection\\_validation.py:552: FitFailedWarning: Estimator fit failed. The score on this train-test partition for these parameters will be set to nan. Details: \n",
      "Traceback (most recent call last):\n",
      "  File \"C:\\Users\\jaker\\anaconda3\\envs\\vgenv\\lib\\site-packages\\sklearn\\model_selection\\_validation.py\", line 531, in _fit_and_score\n",
      "    estimator.fit(X_train, y_train, **fit_params)\n",
      "  File \"C:\\Users\\jaker\\anaconda3\\envs\\vgenv\\lib\\site-packages\\sklearn\\pipeline.py\", line 335, in fit\n",
      "    self._final_estimator.fit(Xt, y, **fit_params_last_step)\n",
      "  File \"C:\\Users\\jaker\\anaconda3\\envs\\vgenv\\lib\\site-packages\\sklearn\\svm\\_base.py\", line 217, in fit\n",
      "    fit(X, y, sample_weight, solver_type, kernel, random_seed=seed)\n",
      "  File \"C:\\Users\\jaker\\anaconda3\\envs\\vgenv\\lib\\site-packages\\sklearn\\svm\\_base.py\", line 298, in _sparse_fit\n",
      "    random_seed)\n",
      "  File \"sklearn\\svm\\_libsvm_sparse.pyx\", line 147, in sklearn.svm._libsvm_sparse.libsvm_sparse_train\n",
      "ValueError: b'specified nu is infeasible'\n",
      "\n",
      "  FitFailedWarning)\n"
     ]
    },
    {
     "name": "stdout",
     "output_type": "stream",
     "text": [
      "[CV]  svc__kernel=poly, svc__nu=1, tf__max_features=500, tf__ngram_range=(1, 2), total=   4.2s\n",
      "[CV] svc__kernel=poly, svc__nu=1, tf__max_features=1000, tf__ngram_range=(1, 1) \n"
     ]
    },
    {
     "name": "stderr",
     "output_type": "stream",
     "text": [
      "C:\\Users\\jaker\\anaconda3\\envs\\vgenv\\lib\\site-packages\\sklearn\\model_selection\\_validation.py:552: FitFailedWarning: Estimator fit failed. The score on this train-test partition for these parameters will be set to nan. Details: \n",
      "Traceback (most recent call last):\n",
      "  File \"C:\\Users\\jaker\\anaconda3\\envs\\vgenv\\lib\\site-packages\\sklearn\\model_selection\\_validation.py\", line 531, in _fit_and_score\n",
      "    estimator.fit(X_train, y_train, **fit_params)\n",
      "  File \"C:\\Users\\jaker\\anaconda3\\envs\\vgenv\\lib\\site-packages\\sklearn\\pipeline.py\", line 335, in fit\n",
      "    self._final_estimator.fit(Xt, y, **fit_params_last_step)\n",
      "  File \"C:\\Users\\jaker\\anaconda3\\envs\\vgenv\\lib\\site-packages\\sklearn\\svm\\_base.py\", line 217, in fit\n",
      "    fit(X, y, sample_weight, solver_type, kernel, random_seed=seed)\n",
      "  File \"C:\\Users\\jaker\\anaconda3\\envs\\vgenv\\lib\\site-packages\\sklearn\\svm\\_base.py\", line 298, in _sparse_fit\n",
      "    random_seed)\n",
      "  File \"sklearn\\svm\\_libsvm_sparse.pyx\", line 147, in sklearn.svm._libsvm_sparse.libsvm_sparse_train\n",
      "ValueError: b'specified nu is infeasible'\n",
      "\n",
      "  FitFailedWarning)\n"
     ]
    },
    {
     "name": "stdout",
     "output_type": "stream",
     "text": [
      "[CV]  svc__kernel=poly, svc__nu=1, tf__max_features=1000, tf__ngram_range=(1, 1), total=   1.5s\n",
      "[CV] svc__kernel=poly, svc__nu=1, tf__max_features=1000, tf__ngram_range=(1, 1) \n"
     ]
    },
    {
     "name": "stderr",
     "output_type": "stream",
     "text": [
      "C:\\Users\\jaker\\anaconda3\\envs\\vgenv\\lib\\site-packages\\sklearn\\model_selection\\_validation.py:552: FitFailedWarning: Estimator fit failed. The score on this train-test partition for these parameters will be set to nan. Details: \n",
      "Traceback (most recent call last):\n",
      "  File \"C:\\Users\\jaker\\anaconda3\\envs\\vgenv\\lib\\site-packages\\sklearn\\model_selection\\_validation.py\", line 531, in _fit_and_score\n",
      "    estimator.fit(X_train, y_train, **fit_params)\n",
      "  File \"C:\\Users\\jaker\\anaconda3\\envs\\vgenv\\lib\\site-packages\\sklearn\\pipeline.py\", line 335, in fit\n",
      "    self._final_estimator.fit(Xt, y, **fit_params_last_step)\n",
      "  File \"C:\\Users\\jaker\\anaconda3\\envs\\vgenv\\lib\\site-packages\\sklearn\\svm\\_base.py\", line 217, in fit\n",
      "    fit(X, y, sample_weight, solver_type, kernel, random_seed=seed)\n",
      "  File \"C:\\Users\\jaker\\anaconda3\\envs\\vgenv\\lib\\site-packages\\sklearn\\svm\\_base.py\", line 298, in _sparse_fit\n",
      "    random_seed)\n",
      "  File \"sklearn\\svm\\_libsvm_sparse.pyx\", line 147, in sklearn.svm._libsvm_sparse.libsvm_sparse_train\n",
      "ValueError: b'specified nu is infeasible'\n",
      "\n",
      "  FitFailedWarning)\n"
     ]
    },
    {
     "name": "stdout",
     "output_type": "stream",
     "text": [
      "[CV]  svc__kernel=poly, svc__nu=1, tf__max_features=1000, tf__ngram_range=(1, 1), total=   1.4s\n",
      "[CV] svc__kernel=poly, svc__nu=1, tf__max_features=1000, tf__ngram_range=(1, 1) \n"
     ]
    },
    {
     "name": "stderr",
     "output_type": "stream",
     "text": [
      "C:\\Users\\jaker\\anaconda3\\envs\\vgenv\\lib\\site-packages\\sklearn\\model_selection\\_validation.py:552: FitFailedWarning: Estimator fit failed. The score on this train-test partition for these parameters will be set to nan. Details: \n",
      "Traceback (most recent call last):\n",
      "  File \"C:\\Users\\jaker\\anaconda3\\envs\\vgenv\\lib\\site-packages\\sklearn\\model_selection\\_validation.py\", line 531, in _fit_and_score\n",
      "    estimator.fit(X_train, y_train, **fit_params)\n",
      "  File \"C:\\Users\\jaker\\anaconda3\\envs\\vgenv\\lib\\site-packages\\sklearn\\pipeline.py\", line 335, in fit\n",
      "    self._final_estimator.fit(Xt, y, **fit_params_last_step)\n",
      "  File \"C:\\Users\\jaker\\anaconda3\\envs\\vgenv\\lib\\site-packages\\sklearn\\svm\\_base.py\", line 217, in fit\n",
      "    fit(X, y, sample_weight, solver_type, kernel, random_seed=seed)\n",
      "  File \"C:\\Users\\jaker\\anaconda3\\envs\\vgenv\\lib\\site-packages\\sklearn\\svm\\_base.py\", line 298, in _sparse_fit\n",
      "    random_seed)\n",
      "  File \"sklearn\\svm\\_libsvm_sparse.pyx\", line 147, in sklearn.svm._libsvm_sparse.libsvm_sparse_train\n",
      "ValueError: b'specified nu is infeasible'\n",
      "\n",
      "  FitFailedWarning)\n"
     ]
    },
    {
     "name": "stdout",
     "output_type": "stream",
     "text": [
      "[CV]  svc__kernel=poly, svc__nu=1, tf__max_features=1000, tf__ngram_range=(1, 1), total=   1.7s\n",
      "[CV] svc__kernel=poly, svc__nu=1, tf__max_features=1000, tf__ngram_range=(1, 1) \n"
     ]
    },
    {
     "name": "stderr",
     "output_type": "stream",
     "text": [
      "C:\\Users\\jaker\\anaconda3\\envs\\vgenv\\lib\\site-packages\\sklearn\\model_selection\\_validation.py:552: FitFailedWarning: Estimator fit failed. The score on this train-test partition for these parameters will be set to nan. Details: \n",
      "Traceback (most recent call last):\n",
      "  File \"C:\\Users\\jaker\\anaconda3\\envs\\vgenv\\lib\\site-packages\\sklearn\\model_selection\\_validation.py\", line 531, in _fit_and_score\n",
      "    estimator.fit(X_train, y_train, **fit_params)\n",
      "  File \"C:\\Users\\jaker\\anaconda3\\envs\\vgenv\\lib\\site-packages\\sklearn\\pipeline.py\", line 335, in fit\n",
      "    self._final_estimator.fit(Xt, y, **fit_params_last_step)\n",
      "  File \"C:\\Users\\jaker\\anaconda3\\envs\\vgenv\\lib\\site-packages\\sklearn\\svm\\_base.py\", line 217, in fit\n",
      "    fit(X, y, sample_weight, solver_type, kernel, random_seed=seed)\n",
      "  File \"C:\\Users\\jaker\\anaconda3\\envs\\vgenv\\lib\\site-packages\\sklearn\\svm\\_base.py\", line 298, in _sparse_fit\n",
      "    random_seed)\n",
      "  File \"sklearn\\svm\\_libsvm_sparse.pyx\", line 147, in sklearn.svm._libsvm_sparse.libsvm_sparse_train\n",
      "ValueError: b'specified nu is infeasible'\n",
      "\n",
      "  FitFailedWarning)\n"
     ]
    },
    {
     "name": "stdout",
     "output_type": "stream",
     "text": [
      "[CV]  svc__kernel=poly, svc__nu=1, tf__max_features=1000, tf__ngram_range=(1, 1), total=   1.8s\n",
      "[CV] svc__kernel=poly, svc__nu=1, tf__max_features=1000, tf__ngram_range=(1, 1) \n"
     ]
    },
    {
     "name": "stderr",
     "output_type": "stream",
     "text": [
      "C:\\Users\\jaker\\anaconda3\\envs\\vgenv\\lib\\site-packages\\sklearn\\model_selection\\_validation.py:552: FitFailedWarning: Estimator fit failed. The score on this train-test partition for these parameters will be set to nan. Details: \n",
      "Traceback (most recent call last):\n",
      "  File \"C:\\Users\\jaker\\anaconda3\\envs\\vgenv\\lib\\site-packages\\sklearn\\model_selection\\_validation.py\", line 531, in _fit_and_score\n",
      "    estimator.fit(X_train, y_train, **fit_params)\n",
      "  File \"C:\\Users\\jaker\\anaconda3\\envs\\vgenv\\lib\\site-packages\\sklearn\\pipeline.py\", line 335, in fit\n",
      "    self._final_estimator.fit(Xt, y, **fit_params_last_step)\n",
      "  File \"C:\\Users\\jaker\\anaconda3\\envs\\vgenv\\lib\\site-packages\\sklearn\\svm\\_base.py\", line 217, in fit\n",
      "    fit(X, y, sample_weight, solver_type, kernel, random_seed=seed)\n",
      "  File \"C:\\Users\\jaker\\anaconda3\\envs\\vgenv\\lib\\site-packages\\sklearn\\svm\\_base.py\", line 298, in _sparse_fit\n",
      "    random_seed)\n",
      "  File \"sklearn\\svm\\_libsvm_sparse.pyx\", line 147, in sklearn.svm._libsvm_sparse.libsvm_sparse_train\n",
      "ValueError: b'specified nu is infeasible'\n",
      "\n",
      "  FitFailedWarning)\n"
     ]
    },
    {
     "name": "stdout",
     "output_type": "stream",
     "text": [
      "[CV]  svc__kernel=poly, svc__nu=1, tf__max_features=1000, tf__ngram_range=(1, 1), total=   1.5s\n",
      "[CV] svc__kernel=poly, svc__nu=1, tf__max_features=1000, tf__ngram_range=(1, 2) \n"
     ]
    },
    {
     "name": "stderr",
     "output_type": "stream",
     "text": [
      "C:\\Users\\jaker\\anaconda3\\envs\\vgenv\\lib\\site-packages\\sklearn\\model_selection\\_validation.py:552: FitFailedWarning: Estimator fit failed. The score on this train-test partition for these parameters will be set to nan. Details: \n",
      "Traceback (most recent call last):\n",
      "  File \"C:\\Users\\jaker\\anaconda3\\envs\\vgenv\\lib\\site-packages\\sklearn\\model_selection\\_validation.py\", line 531, in _fit_and_score\n",
      "    estimator.fit(X_train, y_train, **fit_params)\n",
      "  File \"C:\\Users\\jaker\\anaconda3\\envs\\vgenv\\lib\\site-packages\\sklearn\\pipeline.py\", line 335, in fit\n",
      "    self._final_estimator.fit(Xt, y, **fit_params_last_step)\n",
      "  File \"C:\\Users\\jaker\\anaconda3\\envs\\vgenv\\lib\\site-packages\\sklearn\\svm\\_base.py\", line 217, in fit\n",
      "    fit(X, y, sample_weight, solver_type, kernel, random_seed=seed)\n",
      "  File \"C:\\Users\\jaker\\anaconda3\\envs\\vgenv\\lib\\site-packages\\sklearn\\svm\\_base.py\", line 298, in _sparse_fit\n",
      "    random_seed)\n",
      "  File \"sklearn\\svm\\_libsvm_sparse.pyx\", line 147, in sklearn.svm._libsvm_sparse.libsvm_sparse_train\n",
      "ValueError: b'specified nu is infeasible'\n",
      "\n",
      "  FitFailedWarning)\n"
     ]
    },
    {
     "name": "stdout",
     "output_type": "stream",
     "text": [
      "[CV]  svc__kernel=poly, svc__nu=1, tf__max_features=1000, tf__ngram_range=(1, 2), total=   4.0s\n",
      "[CV] svc__kernel=poly, svc__nu=1, tf__max_features=1000, tf__ngram_range=(1, 2) \n"
     ]
    },
    {
     "name": "stderr",
     "output_type": "stream",
     "text": [
      "C:\\Users\\jaker\\anaconda3\\envs\\vgenv\\lib\\site-packages\\sklearn\\model_selection\\_validation.py:552: FitFailedWarning: Estimator fit failed. The score on this train-test partition for these parameters will be set to nan. Details: \n",
      "Traceback (most recent call last):\n",
      "  File \"C:\\Users\\jaker\\anaconda3\\envs\\vgenv\\lib\\site-packages\\sklearn\\model_selection\\_validation.py\", line 531, in _fit_and_score\n",
      "    estimator.fit(X_train, y_train, **fit_params)\n",
      "  File \"C:\\Users\\jaker\\anaconda3\\envs\\vgenv\\lib\\site-packages\\sklearn\\pipeline.py\", line 335, in fit\n",
      "    self._final_estimator.fit(Xt, y, **fit_params_last_step)\n",
      "  File \"C:\\Users\\jaker\\anaconda3\\envs\\vgenv\\lib\\site-packages\\sklearn\\svm\\_base.py\", line 217, in fit\n",
      "    fit(X, y, sample_weight, solver_type, kernel, random_seed=seed)\n",
      "  File \"C:\\Users\\jaker\\anaconda3\\envs\\vgenv\\lib\\site-packages\\sklearn\\svm\\_base.py\", line 298, in _sparse_fit\n",
      "    random_seed)\n",
      "  File \"sklearn\\svm\\_libsvm_sparse.pyx\", line 147, in sklearn.svm._libsvm_sparse.libsvm_sparse_train\n",
      "ValueError: b'specified nu is infeasible'\n",
      "\n",
      "  FitFailedWarning)\n"
     ]
    },
    {
     "name": "stdout",
     "output_type": "stream",
     "text": [
      "[CV]  svc__kernel=poly, svc__nu=1, tf__max_features=1000, tf__ngram_range=(1, 2), total=   3.9s\n",
      "[CV] svc__kernel=poly, svc__nu=1, tf__max_features=1000, tf__ngram_range=(1, 2) \n"
     ]
    },
    {
     "name": "stderr",
     "output_type": "stream",
     "text": [
      "C:\\Users\\jaker\\anaconda3\\envs\\vgenv\\lib\\site-packages\\sklearn\\model_selection\\_validation.py:552: FitFailedWarning: Estimator fit failed. The score on this train-test partition for these parameters will be set to nan. Details: \n",
      "Traceback (most recent call last):\n",
      "  File \"C:\\Users\\jaker\\anaconda3\\envs\\vgenv\\lib\\site-packages\\sklearn\\model_selection\\_validation.py\", line 531, in _fit_and_score\n",
      "    estimator.fit(X_train, y_train, **fit_params)\n",
      "  File \"C:\\Users\\jaker\\anaconda3\\envs\\vgenv\\lib\\site-packages\\sklearn\\pipeline.py\", line 335, in fit\n",
      "    self._final_estimator.fit(Xt, y, **fit_params_last_step)\n",
      "  File \"C:\\Users\\jaker\\anaconda3\\envs\\vgenv\\lib\\site-packages\\sklearn\\svm\\_base.py\", line 217, in fit\n",
      "    fit(X, y, sample_weight, solver_type, kernel, random_seed=seed)\n",
      "  File \"C:\\Users\\jaker\\anaconda3\\envs\\vgenv\\lib\\site-packages\\sklearn\\svm\\_base.py\", line 298, in _sparse_fit\n",
      "    random_seed)\n",
      "  File \"sklearn\\svm\\_libsvm_sparse.pyx\", line 147, in sklearn.svm._libsvm_sparse.libsvm_sparse_train\n",
      "ValueError: b'specified nu is infeasible'\n",
      "\n",
      "  FitFailedWarning)\n"
     ]
    },
    {
     "name": "stdout",
     "output_type": "stream",
     "text": [
      "[CV]  svc__kernel=poly, svc__nu=1, tf__max_features=1000, tf__ngram_range=(1, 2), total=   4.1s\n",
      "[CV] svc__kernel=poly, svc__nu=1, tf__max_features=1000, tf__ngram_range=(1, 2) \n"
     ]
    },
    {
     "name": "stderr",
     "output_type": "stream",
     "text": [
      "C:\\Users\\jaker\\anaconda3\\envs\\vgenv\\lib\\site-packages\\sklearn\\model_selection\\_validation.py:552: FitFailedWarning: Estimator fit failed. The score on this train-test partition for these parameters will be set to nan. Details: \n",
      "Traceback (most recent call last):\n",
      "  File \"C:\\Users\\jaker\\anaconda3\\envs\\vgenv\\lib\\site-packages\\sklearn\\model_selection\\_validation.py\", line 531, in _fit_and_score\n",
      "    estimator.fit(X_train, y_train, **fit_params)\n",
      "  File \"C:\\Users\\jaker\\anaconda3\\envs\\vgenv\\lib\\site-packages\\sklearn\\pipeline.py\", line 335, in fit\n",
      "    self._final_estimator.fit(Xt, y, **fit_params_last_step)\n",
      "  File \"C:\\Users\\jaker\\anaconda3\\envs\\vgenv\\lib\\site-packages\\sklearn\\svm\\_base.py\", line 217, in fit\n",
      "    fit(X, y, sample_weight, solver_type, kernel, random_seed=seed)\n",
      "  File \"C:\\Users\\jaker\\anaconda3\\envs\\vgenv\\lib\\site-packages\\sklearn\\svm\\_base.py\", line 298, in _sparse_fit\n",
      "    random_seed)\n",
      "  File \"sklearn\\svm\\_libsvm_sparse.pyx\", line 147, in sklearn.svm._libsvm_sparse.libsvm_sparse_train\n",
      "ValueError: b'specified nu is infeasible'\n",
      "\n",
      "  FitFailedWarning)\n"
     ]
    },
    {
     "name": "stdout",
     "output_type": "stream",
     "text": [
      "[CV]  svc__kernel=poly, svc__nu=1, tf__max_features=1000, tf__ngram_range=(1, 2), total=   4.2s\n",
      "[CV] svc__kernel=poly, svc__nu=1, tf__max_features=1000, tf__ngram_range=(1, 2) \n"
     ]
    },
    {
     "name": "stderr",
     "output_type": "stream",
     "text": [
      "C:\\Users\\jaker\\anaconda3\\envs\\vgenv\\lib\\site-packages\\sklearn\\model_selection\\_validation.py:552: FitFailedWarning: Estimator fit failed. The score on this train-test partition for these parameters will be set to nan. Details: \n",
      "Traceback (most recent call last):\n",
      "  File \"C:\\Users\\jaker\\anaconda3\\envs\\vgenv\\lib\\site-packages\\sklearn\\model_selection\\_validation.py\", line 531, in _fit_and_score\n",
      "    estimator.fit(X_train, y_train, **fit_params)\n",
      "  File \"C:\\Users\\jaker\\anaconda3\\envs\\vgenv\\lib\\site-packages\\sklearn\\pipeline.py\", line 335, in fit\n",
      "    self._final_estimator.fit(Xt, y, **fit_params_last_step)\n",
      "  File \"C:\\Users\\jaker\\anaconda3\\envs\\vgenv\\lib\\site-packages\\sklearn\\svm\\_base.py\", line 217, in fit\n",
      "    fit(X, y, sample_weight, solver_type, kernel, random_seed=seed)\n",
      "  File \"C:\\Users\\jaker\\anaconda3\\envs\\vgenv\\lib\\site-packages\\sklearn\\svm\\_base.py\", line 298, in _sparse_fit\n",
      "    random_seed)\n",
      "  File \"sklearn\\svm\\_libsvm_sparse.pyx\", line 147, in sklearn.svm._libsvm_sparse.libsvm_sparse_train\n",
      "ValueError: b'specified nu is infeasible'\n",
      "\n",
      "  FitFailedWarning)\n",
      "[Parallel(n_jobs=1)]: Done 180 out of 180 | elapsed: 49.6min finished\n"
     ]
    },
    {
     "name": "stdout",
     "output_type": "stream",
     "text": [
      "[CV]  svc__kernel=poly, svc__nu=1, tf__max_features=1000, tf__ngram_range=(1, 2), total=   4.4s\n"
     ]
    },
    {
     "data": {
      "text/plain": [
       "GridSearchCV(estimator=Pipeline(steps=[('tf', TfidfVectorizer()),\n",
       "                                       ('svc', NuSVC())]),\n",
       "             param_grid={'svc__kernel': ('rbf', 'poly'),\n",
       "                         'svc__nu': (0.25, 0.5, 1),\n",
       "                         'tf__max_features': (100, 500, 1000),\n",
       "                         'tf__ngram_range': ((1, 1), (1, 2))},\n",
       "             return_train_score=True, verbose=2)"
      ]
     },
     "execution_count": 29,
     "metadata": {},
     "output_type": "execute_result"
    }
   ],
   "source": [
    "gs.fit(X_train, y_train)"
   ]
  },
  {
   "cell_type": "code",
   "execution_count": 33,
   "metadata": {},
   "outputs": [
    {
     "data": {
      "text/plain": [
       "{'svc__kernel': 'poly',\n",
       " 'svc__nu': 0.5,\n",
       " 'tf__max_features': 1000,\n",
       " 'tf__ngram_range': (1, 1)}"
      ]
     },
     "execution_count": 33,
     "metadata": {},
     "output_type": "execute_result"
    }
   ],
   "source": [
    "gs.best_params_"
   ]
  },
  {
   "cell_type": "code",
   "execution_count": null,
   "metadata": {},
   "outputs": [],
   "source": []
  },
  {
   "cell_type": "markdown",
   "metadata": {},
   "source": [
    "# Evaluation\n",
    "\n",
    "My model attained an accuracy score of 65%. This means that 65% of the time, when given a Wikipedia-grade description of a game, it can correctly predict the critical reception of that game--within these three predefined classes. Obvously this score is not ideal and it will require more tuning and perhaps more data collection. I think what I will do next is re-tune my Wikipedia API script to prioritize the 'gameplay' section of the page rather than the 'plot' section."
   ]
  },
  {
   "cell_type": "code",
   "execution_count": null,
   "metadata": {},
   "outputs": [],
   "source": []
  }
 ],
 "metadata": {
  "kernelspec": {
   "display_name": "Python (vgenv)",
   "language": "python",
   "name": "vgenv"
  },
  "language_info": {
   "codemirror_mode": {
    "name": "ipython",
    "version": 3
   },
   "file_extension": ".py",
   "mimetype": "text/x-python",
   "name": "python",
   "nbconvert_exporter": "python",
   "pygments_lexer": "ipython3",
   "version": "3.6.10"
  }
 },
 "nbformat": 4,
 "nbformat_minor": 4
}
