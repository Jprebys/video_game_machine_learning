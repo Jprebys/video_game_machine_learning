{
 "cells": [
  {
   "cell_type": "markdown",
   "metadata": {},
   "source": [
    "# Final Report Notebook\n",
    "\n",
    "Here you will find a complete summary of my work for this project--this will include all of the code required to reproduce this project, as well as detailed descriptions and motivations for each step taken.\n",
    "\n",
    "First we will make the necessary imports:"
   ]
  },
  {
   "cell_type": "code",
   "execution_count": 13,
   "metadata": {},
   "outputs": [],
   "source": [
    "# General purpose\n",
    "import pandas as pd\n",
    "import matplotlib.pyplot as plt\n",
    "\n",
    "# Visualization formatting\n",
    "plt.rcParams['font.size'] = 24\n",
    "plt.style.use('fivethirtyeight')\n",
    "\n",
    "# Natural language processing\n",
    "\n",
    "\n",
    "# Modeling\n",
    "\n"
   ]
  },
  {
   "cell_type": "markdown",
   "metadata": {},
   "source": [
    "## Data Acquisition\n",
    "\n",
    "#### VGChartz\n",
    "\n",
    "The data in this project came from a few sources. First, we'll start with the scraped data from the video game database [VGChartz](https://www.vgchartz.com/).\n",
    "\n",
    "The actual scraping work can be found in the exploratory notebook [Initial Web Scraping](../notebooks/01_explore_scrape.ipynb).\n",
    "\n",
    "Below we will import the resulting data:"
   ]
  },
  {
   "cell_type": "code",
   "execution_count": 2,
   "metadata": {},
   "outputs": [
    {
     "data": {
      "text/plain": [
       "(16719, 16)"
      ]
     },
     "execution_count": 2,
     "metadata": {},
     "output_type": "execute_result"
    }
   ],
   "source": [
    "df = pd.read_csv('../data/nice_data.csv', low_memory=False)\n",
    "df.shape"
   ]
  },
  {
   "cell_type": "markdown",
   "metadata": {},
   "source": [
    "We end up with a ton of entries! Let's see how they look"
   ]
  },
  {
   "cell_type": "code",
   "execution_count": 3,
   "metadata": {},
   "outputs": [
    {
     "data": {
      "text/html": [
       "<div>\n",
       "<style scoped>\n",
       "    .dataframe tbody tr th:only-of-type {\n",
       "        vertical-align: middle;\n",
       "    }\n",
       "\n",
       "    .dataframe tbody tr th {\n",
       "        vertical-align: top;\n",
       "    }\n",
       "\n",
       "    .dataframe thead th {\n",
       "        text-align: right;\n",
       "    }\n",
       "</style>\n",
       "<table border=\"1\" class=\"dataframe\">\n",
       "  <thead>\n",
       "    <tr style=\"text-align: right;\">\n",
       "      <th></th>\n",
       "      <th>Name</th>\n",
       "      <th>Platform</th>\n",
       "      <th>Year_of_Release</th>\n",
       "      <th>Genre</th>\n",
       "      <th>Publisher</th>\n",
       "      <th>NA_Sales</th>\n",
       "      <th>EU_Sales</th>\n",
       "      <th>JP_Sales</th>\n",
       "      <th>Other_Sales</th>\n",
       "      <th>Global_Sales</th>\n",
       "      <th>Critic_Score</th>\n",
       "      <th>Critic_Count</th>\n",
       "      <th>User_Score</th>\n",
       "      <th>User_Count</th>\n",
       "      <th>Developer</th>\n",
       "      <th>Rating</th>\n",
       "    </tr>\n",
       "  </thead>\n",
       "  <tbody>\n",
       "    <tr>\n",
       "      <th>1765</th>\n",
       "      <td>Medal of Honor: Warfighter</td>\n",
       "      <td>X360</td>\n",
       "      <td>2012.0</td>\n",
       "      <td>Action</td>\n",
       "      <td>Electronic Arts</td>\n",
       "      <td>0.59</td>\n",
       "      <td>0.45</td>\n",
       "      <td>0.01</td>\n",
       "      <td>0.1</td>\n",
       "      <td>1.15</td>\n",
       "      <td>53.0</td>\n",
       "      <td>43.0</td>\n",
       "      <td>5.4</td>\n",
       "      <td>437.0</td>\n",
       "      <td>Danger Close</td>\n",
       "      <td>M</td>\n",
       "    </tr>\n",
       "    <tr>\n",
       "      <th>13578</th>\n",
       "      <td>Justice League: Chronicles</td>\n",
       "      <td>GBA</td>\n",
       "      <td>2003.0</td>\n",
       "      <td>Platform</td>\n",
       "      <td>Midway Games</td>\n",
       "      <td>0.03</td>\n",
       "      <td>0.01</td>\n",
       "      <td>0.00</td>\n",
       "      <td>0.0</td>\n",
       "      <td>0.04</td>\n",
       "      <td>43.0</td>\n",
       "      <td>7.0</td>\n",
       "      <td>tbd</td>\n",
       "      <td>NaN</td>\n",
       "      <td>Full-Fat</td>\n",
       "      <td>E</td>\n",
       "    </tr>\n",
       "    <tr>\n",
       "      <th>10666</th>\n",
       "      <td>Evil Dead: Fistfull of Boomstick</td>\n",
       "      <td>XB</td>\n",
       "      <td>2003.0</td>\n",
       "      <td>Action</td>\n",
       "      <td>THQ</td>\n",
       "      <td>0.07</td>\n",
       "      <td>0.02</td>\n",
       "      <td>0.00</td>\n",
       "      <td>0.0</td>\n",
       "      <td>0.10</td>\n",
       "      <td>NaN</td>\n",
       "      <td>NaN</td>\n",
       "      <td>NaN</td>\n",
       "      <td>NaN</td>\n",
       "      <td>NaN</td>\n",
       "      <td>NaN</td>\n",
       "    </tr>\n",
       "  </tbody>\n",
       "</table>\n",
       "</div>"
      ],
      "text/plain": [
       "                                   Name Platform  Year_of_Release     Genre  \\\n",
       "1765         Medal of Honor: Warfighter     X360           2012.0    Action   \n",
       "13578        Justice League: Chronicles      GBA           2003.0  Platform   \n",
       "10666  Evil Dead: Fistfull of Boomstick       XB           2003.0    Action   \n",
       "\n",
       "             Publisher  NA_Sales  EU_Sales  JP_Sales  Other_Sales  \\\n",
       "1765   Electronic Arts      0.59      0.45      0.01          0.1   \n",
       "13578     Midway Games      0.03      0.01      0.00          0.0   \n",
       "10666              THQ      0.07      0.02      0.00          0.0   \n",
       "\n",
       "       Global_Sales  Critic_Score  Critic_Count User_Score  User_Count  \\\n",
       "1765           1.15          53.0          43.0        5.4       437.0   \n",
       "13578          0.04          43.0           7.0        tbd         NaN   \n",
       "10666          0.10           NaN           NaN        NaN         NaN   \n",
       "\n",
       "          Developer Rating  \n",
       "1765   Danger Close      M  \n",
       "13578      Full-Fat      E  \n",
       "10666           NaN    NaN  "
      ]
     },
     "execution_count": 3,
     "metadata": {},
     "output_type": "execute_result"
    }
   ],
   "source": [
    "df.sample(3)"
   ]
  },
  {
   "cell_type": "markdown",
   "metadata": {},
   "source": [
    "Alright, we have a lot of missing data here. We're most interested in the 'critic_score' column, so let's see how many entries are present"
   ]
  },
  {
   "cell_type": "code",
   "execution_count": 4,
   "metadata": {},
   "outputs": [
    {
     "name": "stdout",
     "output_type": "stream",
     "text": [
      "8137 out of 16719 possible critic scores are present\n"
     ]
    }
   ],
   "source": [
    "scores = df[df.Critic_Score.isna() == False].shape\n",
    "print(f'{scores[0]} out of {df.shape[0]} possible critic scores are present')"
   ]
  },
  {
   "cell_type": "markdown",
   "metadata": {},
   "source": [
    "Not too great, a majority of our entries have no critic score values--those will need to be dropped. However, we are still left with over 8,000 games, so we'll take them to the next step\n",
    "\n",
    "#### Wikipedia\n",
    "\n",
    "For the next step in acquiring the data, we turn to the Wikipedia API. Using the available python library, getting Wikipedia information is extremely easy. This is good for us, because we will need to make a lot of requests. \n",
    "\n",
    "To use the API, you supply the name of the relevant Wikipedia page, and it will return the text of any section you would like. So we send in all of our game titles, along with some variations on them, and we got back most of our entries.\n",
    "\n",
    "We'll import the resulting data below, but the full work can be found in the [Wikiscraping Notebook](../notebooks/02_wikiscraping.ipynb)"
   ]
  },
  {
   "cell_type": "code",
   "execution_count": 5,
   "metadata": {},
   "outputs": [
    {
     "data": {
      "text/plain": [
       "(5143, 17)"
      ]
     },
     "execution_count": 5,
     "metadata": {},
     "output_type": "execute_result"
    }
   ],
   "source": [
    "df = pd.read_csv('../data/final_plots.csv').drop('Unnamed: 0', axis=1)\n",
    "df.shape"
   ]
  },
  {
   "cell_type": "markdown",
   "metadata": {},
   "source": [
    "Now we have 5,143 entries with full Wikipedia descriptions and critic scores\n",
    "\n",
    "Let's see one of these descriptions"
   ]
  },
  {
   "cell_type": "code",
   "execution_count": 6,
   "metadata": {},
   "outputs": [
    {
     "name": "stdout",
     "output_type": "stream",
     "text": [
      "Master of Illusion puts the player in the role of an illusionist who must learn and perfect his tricks. The game has three basic modes: Solo Magic, Magic Show and Magic Training. The first one is a compilation of varied minigames, the other two being the \"meat of the game\", or the important part, according to reviewers. In both, the objective is to perform tricks and earn points, which grant the player more tricks and illusions. The system has a limit for the points a player can earn in a full day, though this can be bypassed by changing the date on the Nintendo DS system.\n"
     ]
    }
   ],
   "source": [
    "print(df.plots.sample(random_state=2).values[0])"
   ]
  },
  {
   "cell_type": "markdown",
   "metadata": {},
   "source": [
    "## Data Understanding\n",
    "\n",
    "A couple things to note about the game descriptions:\n",
    "- We're getting our descriptions directly from Wikipedia, we don't have to deal with too many errors in our corpus (e.g. spelling, grammar)\n",
    "- Some of these entries are plot synopses, and some of them are gameplay descriptions. It appears to depend on the type of game.\n",
    "\n",
    "Now we have all the data we will need, let's take a look at a complete sample entry and examine the columns:"
   ]
  },
  {
   "cell_type": "code",
   "execution_count": 7,
   "metadata": {},
   "outputs": [
    {
     "data": {
      "text/html": [
       "<div>\n",
       "<style scoped>\n",
       "    .dataframe tbody tr th:only-of-type {\n",
       "        vertical-align: middle;\n",
       "    }\n",
       "\n",
       "    .dataframe tbody tr th {\n",
       "        vertical-align: top;\n",
       "    }\n",
       "\n",
       "    .dataframe thead th {\n",
       "        text-align: right;\n",
       "    }\n",
       "</style>\n",
       "<table border=\"1\" class=\"dataframe\">\n",
       "  <thead>\n",
       "    <tr style=\"text-align: right;\">\n",
       "      <th></th>\n",
       "      <th>Name</th>\n",
       "      <th>Platform</th>\n",
       "      <th>Year_of_Release</th>\n",
       "      <th>Genre</th>\n",
       "      <th>Publisher</th>\n",
       "      <th>NA_Sales</th>\n",
       "      <th>EU_Sales</th>\n",
       "      <th>JP_Sales</th>\n",
       "      <th>Other_Sales</th>\n",
       "      <th>Global_Sales</th>\n",
       "      <th>Critic_Score</th>\n",
       "      <th>Critic_Count</th>\n",
       "      <th>User_Score</th>\n",
       "      <th>User_Count</th>\n",
       "      <th>Developer</th>\n",
       "      <th>Rating</th>\n",
       "      <th>plots</th>\n",
       "    </tr>\n",
       "  </thead>\n",
       "  <tbody>\n",
       "    <tr>\n",
       "      <th>2825</th>\n",
       "      <td>Risen 2: Dark Waters</td>\n",
       "      <td>PS3</td>\n",
       "      <td>2012.0</td>\n",
       "      <td>Role-Playing</td>\n",
       "      <td>Deep Silver</td>\n",
       "      <td>0.04</td>\n",
       "      <td>0.13</td>\n",
       "      <td>0.01</td>\n",
       "      <td>0.04</td>\n",
       "      <td>0.22</td>\n",
       "      <td>47.0</td>\n",
       "      <td>13.0</td>\n",
       "      <td>5.2</td>\n",
       "      <td>37.0</td>\n",
       "      <td>Piranha Bytes</td>\n",
       "      <td>M</td>\n",
       "      <td>The story begins in the Fortress of Crystal at...</td>\n",
       "    </tr>\n",
       "  </tbody>\n",
       "</table>\n",
       "</div>"
      ],
      "text/plain": [
       "                      Name Platform  Year_of_Release         Genre  \\\n",
       "2825  Risen 2: Dark Waters      PS3           2012.0  Role-Playing   \n",
       "\n",
       "        Publisher  NA_Sales  EU_Sales  JP_Sales  Other_Sales  Global_Sales  \\\n",
       "2825  Deep Silver      0.04      0.13      0.01         0.04          0.22   \n",
       "\n",
       "      Critic_Score  Critic_Count User_Score  User_Count      Developer Rating  \\\n",
       "2825          47.0          13.0        5.2        37.0  Piranha Bytes      M   \n",
       "\n",
       "                                                  plots  \n",
       "2825  The story begins in the Fortress of Crystal at...  "
      ]
     },
     "execution_count": 7,
     "metadata": {},
     "output_type": "execute_result"
    }
   ],
   "source": [
    "df.sample(random_state=3)"
   ]
  },
  {
   "cell_type": "markdown",
   "metadata": {},
   "source": [
    "\n",
    "**Name**\n",
    "\n",
    "- The official title of the game at release\n",
    "\n",
    "**Platform**\n",
    "\n",
    "- The game system this title was released for: uses the standard abbreviations for each system (e.g. PS3 = Playstation 3, GC = Nintendo GameCube)\n",
    "\n",
    "**Year of Release**\n",
    "\n",
    "- The original year the game was released in. This seems to be the earliest year if the release was staggered across regions\n",
    "\n",
    "**Genre**\n",
    "\n",
    "- A single genre designation for the game. These are very simple classifications like 'shooter' or 'role-playing'\n",
    "\n",
    "**Developer**\n",
    "\n",
    "- The name of the studio responsible for making the game: programming the game, creating the artwork, etc.\n",
    "\n",
    "**Publisher**\n",
    "\n",
    "- The name of the company that sells and distributes the game\n",
    "\n",
    "\n",
    "**NA/EU/JP/Other/Global Sales**\n",
    "\n",
    "- The number of *units* sold in millions, in each particular region. The global sales figure is the sum of the other four categories\n",
    "\n",
    "**Critic Score/Critic Count**\n",
    "\n",
    "- The average of the verified critic scores from Metacritic (these range from 0.0-100.0), as well as the number of reviews that make up that figure. At minimum the score is an average of 3 reviews\n",
    "\n",
    "**User Score/User Count**\n",
    "\n",
    "- The average user score on Metacritic (10 point scale), as well as the number of reviews. At minimum there are 4 scores for each game\n",
    "\n",
    "**Rating**\n",
    "\n",
    "- The ESRB rating of the game: this can be one of E, E10+, T, M, AO, or K-A\n",
    "\n",
    "Let's check out the distribution of our critic review scores:"
   ]
  },
  {
   "cell_type": "code",
   "execution_count": 36,
   "metadata": {},
   "outputs": [
    {
     "data": {
      "image/png": "[encoded data removed]",
      "text/plain": [
       "<Figure size 720x504 with 1 Axes>"
      ]
     },
     "metadata": {},
     "output_type": "display_data"
    }
   ],
   "source": [
    "df.Critic_Score.hist(figsize=(10,7), bins=20)\n",
    "plt.title('Distribution of Critic Scores');"
   ]
  },
  {
   "cell_type": "markdown",
   "metadata": {},
   "source": [
    "In my experience, this is a typical distribution for ratings: left-skewed with the median around 70%. Let's get our data cleaned up.\n",
    "\n",
    "## Data Cleaning\n",
    "\n",
    "The first step I will take is getting the critic scores binned. I would like to make targeting the critic scores a classification rather than a regression problem for the following reason: It's not that meaningful to try to predict what *exact score* a game will recieve. No matter the amount of score averaging, the assigned critic sccore will still have some degree of arbitrariness. More generally I think we care about whether a game receives high, average, or low scores. For this reason I will be grouping the scores in the following three groups:\n",
    "\n",
    "| Designation | Class | Score Range | \n",
    "|:-------------:|:-------:|:-------------:|\n",
    "|     High    |   2   |  (75,100]  |  \n",
    "|   Average   |   1   |   (60,75]   |   \n",
    "|     Low     |   0   |    [0,60]   |   \n",
    "\n",
    "We will use the following function to do so:"
   ]
  },
  {
   "cell_type": "code",
   "execution_count": 35,
   "metadata": {},
   "outputs": [],
   "source": [
    "def bin_scores(score):\n",
    "    if score > 60:\n",
    "        if score > 75:\n",
    "            return 2\n",
    "        return 1\n",
    "    return 0\n",
    "\n",
    "df['success'] = df['Critic_Score'].apply(bin_scores)"
   ]
  },
  {
   "cell_type": "markdown",
   "metadata": {},
   "source": [
    "Let's quickly make sure that we have a decent class balance"
   ]
  },
  {
   "cell_type": "code",
   "execution_count": 34,
   "metadata": {},
   "outputs": [
    {
     "data": {
      "image/png": "[encoded data removed]",
      "text/plain": [
       "<Figure size 432x432 with 1 Axes>"
      ]
     },
     "metadata": {},
     "output_type": "display_data"
    }
   ],
   "source": [
    "plt.figure(figsize=(6,6))\n",
    "plt.pie(df.success.value_counts(), labels=[0,1,2], labeldistance=.6)\n",
    "plt.title('Critic Score Class Balance');"
   ]
  },
  {
   "cell_type": "markdown",
   "metadata": {},
   "source": [
    "Perfect, our classes both have balance and their designations align with how people generally think of critical reception"
   ]
  },
  {
   "cell_type": "code",
   "execution_count": null,
   "metadata": {},
   "outputs": [],
   "source": []
  },
  {
   "cell_type": "code",
   "execution_count": null,
   "metadata": {},
   "outputs": [],
   "source": []
  },
  {
   "cell_type": "code",
   "execution_count": null,
   "metadata": {},
   "outputs": [],
   "source": []
  },
  {
   "cell_type": "code",
   "execution_count": null,
   "metadata": {},
   "outputs": [],
   "source": []
  },
  {
   "cell_type": "code",
   "execution_count": null,
   "metadata": {},
   "outputs": [],
   "source": []
  }
 ],
 "metadata": {
  "kernelspec": {
   "display_name": "learn-env",
   "language": "python",
   "name": "learn-env"
  },
  "language_info": {
   "codemirror_mode": {
    "name": "ipython",
    "version": 3
   },
   "file_extension": ".py",
   "mimetype": "text/x-python",
   "name": "python",
   "nbconvert_exporter": "python",
   "pygments_lexer": "ipython3",
   "version": "3.6.10"
  }
 },
 "nbformat": 4,
 "nbformat_minor": 4
}
