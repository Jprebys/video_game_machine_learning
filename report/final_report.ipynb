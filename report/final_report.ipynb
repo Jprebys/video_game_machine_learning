{
 "cells": [
  {
   "cell_type": "markdown",
   "metadata": {},
   "source": [
    "# Final Report Notebook\n",
    "\n",
    "Here you will find a complete summary of my work for this project--this will include all of the code required to reproduce this project, as well as detailed descriptions and motivations for each step taken.\n",
    "\n",
    "First we will make the necessary imports:"
   ]
  },
  {
   "cell_type": "code",
   "execution_count": 1,
   "metadata": {},
   "outputs": [],
   "source": [
    "# General purpose\n",
    "import pandas as pd\n",
    "import matplotlib.pyplot as plt\n",
    "import string\n",
    "\n",
    "# Visualization formatting\n",
    "plt.rcParams['font.size'] = 24\n",
    "plt.style.use('fivethirtyeight')\n",
    "\n",
    "# Natural language processing\n",
    "from sklearn.feature_extraction.text import CountVectorizer, TfidfVectorizer\n",
    "from nltk.corpus import wordnet, stopwords\n",
    "stops = stopwords.words('english') + ['game', 'player', 'gameplay']\n",
    "from nltk import pos_tag\n",
    "from nltk.stem import WordNetLemmatizer\n",
    "\n",
    "# Modeling\n",
    "from sklearn.model_selection import train_test_split, cross_validate, GridSearchCV\n",
    "from sklearn.tree import DecisionTreeClassifier\n",
    "from sklearn.ensemble import RandomForestClassifier\n",
    "from sklearn.pipeline import Pipeline\n",
    "from sklearn.svm import SVC, NuSVC\n",
    "from sklearn.linear_model import LogisticRegression\n",
    "from sklearn.metrics import accuracy_score"
   ]
  },
  {
   "cell_type": "markdown",
   "metadata": {},
   "source": [
    "## Data Acquisition\n",
    "\n",
    "#### VGChartz\n",
    "\n",
    "The data in this project came from a few sources. First, we'll start with the scraped data from the video game database [VGChartz](https://www.vgchartz.com/).\n",
    "\n",
    "The actual scraping work can be found in the exploratory notebook [Initial Web Scraping](../notebooks/01_explore_scrape.ipynb).\n",
    "\n",
    "Below we will import the resulting data:"
   ]
  },
  {
   "cell_type": "code",
   "execution_count": 2,
   "metadata": {},
   "outputs": [
    {
     "data": {
      "text/plain": [
       "(16719, 16)"
      ]
     },
     "execution_count": 2,
     "metadata": {},
     "output_type": "execute_result"
    }
   ],
   "source": [
    "df = pd.read_csv('../data/nice_data.csv', low_memory=False)\n",
    "df.shape"
   ]
  },
  {
   "cell_type": "markdown",
   "metadata": {},
   "source": [
    "We end up with a ton of entries! Let's see how they look"
   ]
  },
  {
   "cell_type": "code",
   "execution_count": 3,
   "metadata": {},
   "outputs": [
    {
     "data": {
      "text/html": [
       "<div>\n",
       "<style scoped>\n",
       "    .dataframe tbody tr th:only-of-type {\n",
       "        vertical-align: middle;\n",
       "    }\n",
       "\n",
       "    .dataframe tbody tr th {\n",
       "        vertical-align: top;\n",
       "    }\n",
       "\n",
       "    .dataframe thead th {\n",
       "        text-align: right;\n",
       "    }\n",
       "</style>\n",
       "<table border=\"1\" class=\"dataframe\">\n",
       "  <thead>\n",
       "    <tr style=\"text-align: right;\">\n",
       "      <th></th>\n",
       "      <th>Name</th>\n",
       "      <th>Platform</th>\n",
       "      <th>Year_of_Release</th>\n",
       "      <th>Genre</th>\n",
       "      <th>Publisher</th>\n",
       "      <th>NA_Sales</th>\n",
       "      <th>EU_Sales</th>\n",
       "      <th>JP_Sales</th>\n",
       "      <th>Other_Sales</th>\n",
       "      <th>Global_Sales</th>\n",
       "      <th>Critic_Score</th>\n",
       "      <th>Critic_Count</th>\n",
       "      <th>User_Score</th>\n",
       "      <th>User_Count</th>\n",
       "      <th>Developer</th>\n",
       "      <th>Rating</th>\n",
       "    </tr>\n",
       "  </thead>\n",
       "  <tbody>\n",
       "    <tr>\n",
       "      <th>2087</th>\n",
       "      <td>Shadow The Hedgehog</td>\n",
       "      <td>GC</td>\n",
       "      <td>2005.0</td>\n",
       "      <td>Platform</td>\n",
       "      <td>Sega</td>\n",
       "      <td>0.76</td>\n",
       "      <td>0.20</td>\n",
       "      <td>0.0</td>\n",
       "      <td>0.03</td>\n",
       "      <td>0.99</td>\n",
       "      <td>51.0</td>\n",
       "      <td>22.0</td>\n",
       "      <td>6.6</td>\n",
       "      <td>120.0</td>\n",
       "      <td>Sonic Team</td>\n",
       "      <td>E10+</td>\n",
       "    </tr>\n",
       "    <tr>\n",
       "      <th>11205</th>\n",
       "      <td>Spider-Man: Edge of Time</td>\n",
       "      <td>Wii</td>\n",
       "      <td>2011.0</td>\n",
       "      <td>Action</td>\n",
       "      <td>Activision</td>\n",
       "      <td>0.06</td>\n",
       "      <td>0.02</td>\n",
       "      <td>0.0</td>\n",
       "      <td>0.01</td>\n",
       "      <td>0.09</td>\n",
       "      <td>62.0</td>\n",
       "      <td>9.0</td>\n",
       "      <td>5.2</td>\n",
       "      <td>6.0</td>\n",
       "      <td>Beenox</td>\n",
       "      <td>T</td>\n",
       "    </tr>\n",
       "    <tr>\n",
       "      <th>13081</th>\n",
       "      <td>Legend of Kay</td>\n",
       "      <td>WiiU</td>\n",
       "      <td>2015.0</td>\n",
       "      <td>Action</td>\n",
       "      <td>Nordic Games</td>\n",
       "      <td>0.03</td>\n",
       "      <td>0.02</td>\n",
       "      <td>0.0</td>\n",
       "      <td>0.00</td>\n",
       "      <td>0.05</td>\n",
       "      <td>NaN</td>\n",
       "      <td>NaN</td>\n",
       "      <td>NaN</td>\n",
       "      <td>NaN</td>\n",
       "      <td>NaN</td>\n",
       "      <td>NaN</td>\n",
       "    </tr>\n",
       "  </tbody>\n",
       "</table>\n",
       "</div>"
      ],
      "text/plain": [
       "                           Name Platform  Year_of_Release     Genre  \\\n",
       "2087        Shadow The Hedgehog       GC           2005.0  Platform   \n",
       "11205  Spider-Man: Edge of Time      Wii           2011.0    Action   \n",
       "13081             Legend of Kay     WiiU           2015.0    Action   \n",
       "\n",
       "          Publisher  NA_Sales  EU_Sales  JP_Sales  Other_Sales  Global_Sales  \\\n",
       "2087           Sega      0.76      0.20       0.0         0.03          0.99   \n",
       "11205    Activision      0.06      0.02       0.0         0.01          0.09   \n",
       "13081  Nordic Games      0.03      0.02       0.0         0.00          0.05   \n",
       "\n",
       "       Critic_Score  Critic_Count User_Score  User_Count   Developer Rating  \n",
       "2087           51.0          22.0        6.6       120.0  Sonic Team   E10+  \n",
       "11205          62.0           9.0        5.2         6.0      Beenox      T  \n",
       "13081           NaN           NaN        NaN         NaN         NaN    NaN  "
      ]
     },
     "execution_count": 3,
     "metadata": {},
     "output_type": "execute_result"
    }
   ],
   "source": [
    "df.sample(3)"
   ]
  },
  {
   "cell_type": "markdown",
   "metadata": {},
   "source": [
    "Alright, we have a lot of missing data here. We're most interested in the 'critic_score' column, so let's see how many entries are present"
   ]
  },
  {
   "cell_type": "code",
   "execution_count": 4,
   "metadata": {},
   "outputs": [
    {
     "name": "stdout",
     "output_type": "stream",
     "text": [
      "8137 out of 16719 possible critic scores are present\n"
     ]
    }
   ],
   "source": [
    "scores = df[df.Critic_Score.isna() == False].shape\n",
    "print(f'{scores[0]} out of {df.shape[0]} possible critic scores are present')"
   ]
  },
  {
   "cell_type": "markdown",
   "metadata": {},
   "source": [
    "Not too great, a majority of our entries have no critic score values--those will need to be dropped. However, we are still left with over 8,000 games, so we'll take them to the next step\n",
    "\n",
    "#### Wikipedia\n",
    "\n",
    "For the next step in acquiring the data, we turn to the Wikipedia API. Using the available python library, getting Wikipedia information is extremely easy. This is good for us, because we will need to make a lot of requests. \n",
    "\n",
    "To use the API, you supply the name of the relevant Wikipedia page, and it will return the text of any section you would like. So we send in all of our game titles, along with some variations on them, and we got back most of our entries.\n",
    "\n",
    "We'll import the resulting data below, but the full work can be found in the [Wikiscraping Notebook](../notebooks/02_wikiscraping.ipynb)"
   ]
  },
  {
   "cell_type": "code",
   "execution_count": 5,
   "metadata": {},
   "outputs": [
    {
     "data": {
      "text/plain": [
       "(5499, 17)"
      ]
     },
     "execution_count": 5,
     "metadata": {},
     "output_type": "execute_result"
    }
   ],
   "source": [
    "df = pd.read_csv('../data/WEEK_2_DESCRIPTIONS.csv').drop('Unnamed: 0', axis=1)\n",
    "df.shape"
   ]
  },
  {
   "cell_type": "markdown",
   "metadata": {},
   "source": [
    "Now we have 5,143 entries with full Wikipedia descriptions and critic scores\n",
    "\n",
    "Let's see one of these descriptions"
   ]
  },
  {
   "cell_type": "code",
   "execution_count": 6,
   "metadata": {},
   "outputs": [
    {
     "name": "stdout",
     "output_type": "stream",
     "text": [
      "PokéPark 2: Wonders Beyond features multiplayer capabilities with up to four people. The player uses one of four Pokémon available, Pikachu, Snivy, Tepig, and Oshawott, and can switch them out; each Pokémon has their own special abilities. In chase mode, participants capture or tag the other participant. In battle mode, the player can control their Pokémons every move from dodging, to striking. The player has to win in order to continue with the game. At the end, Pikachu and the others successfully defend the park from all of the evil running havoc on the park.\n"
     ]
    }
   ],
   "source": [
    "print(df.plots.sample(random_state=2).values[0])"
   ]
  },
  {
   "cell_type": "markdown",
   "metadata": {},
   "source": [
    "## Data Understanding\n",
    "\n",
    "A couple things to note about the game descriptions:\n",
    "- I'm getting my descriptions directly from Wikipedia, so I don't have to deal with too many errors in the corpus (e.g. spelling, grammar)\n",
    "- Some of these entries are plot synopses, and some of them are gameplay descriptions. It appears to depend on the type of game.\n",
    "\n",
    "Now I have all the data I will need, let's take a look at a complete sample entry and examine the columns:"
   ]
  },
  {
   "cell_type": "code",
   "execution_count": 7,
   "metadata": {},
   "outputs": [
    {
     "data": {
      "text/html": [
       "<div>\n",
       "<style scoped>\n",
       "    .dataframe tbody tr th:only-of-type {\n",
       "        vertical-align: middle;\n",
       "    }\n",
       "\n",
       "    .dataframe tbody tr th {\n",
       "        vertical-align: top;\n",
       "    }\n",
       "\n",
       "    .dataframe thead th {\n",
       "        text-align: right;\n",
       "    }\n",
       "</style>\n",
       "<table border=\"1\" class=\"dataframe\">\n",
       "  <thead>\n",
       "    <tr style=\"text-align: right;\">\n",
       "      <th></th>\n",
       "      <th>Name</th>\n",
       "      <th>Platform</th>\n",
       "      <th>Year_of_Release</th>\n",
       "      <th>Genre</th>\n",
       "      <th>Publisher</th>\n",
       "      <th>NA_Sales</th>\n",
       "      <th>EU_Sales</th>\n",
       "      <th>JP_Sales</th>\n",
       "      <th>Other_Sales</th>\n",
       "      <th>Global_Sales</th>\n",
       "      <th>Critic_Score</th>\n",
       "      <th>Critic_Count</th>\n",
       "      <th>User_Score</th>\n",
       "      <th>User_Count</th>\n",
       "      <th>Developer</th>\n",
       "      <th>Rating</th>\n",
       "      <th>plots</th>\n",
       "    </tr>\n",
       "  </thead>\n",
       "  <tbody>\n",
       "    <tr>\n",
       "      <th>893</th>\n",
       "      <td>Medal of Honor: Rising Sun</td>\n",
       "      <td>XB</td>\n",
       "      <td>2003.0</td>\n",
       "      <td>Shooter</td>\n",
       "      <td>Electronic Arts</td>\n",
       "      <td>0.76</td>\n",
       "      <td>0.36</td>\n",
       "      <td>0.0</td>\n",
       "      <td>0.05</td>\n",
       "      <td>1.17</td>\n",
       "      <td>65.0</td>\n",
       "      <td>23.0</td>\n",
       "      <td>5.8</td>\n",
       "      <td>28.0</td>\n",
       "      <td>EA LA</td>\n",
       "      <td>T</td>\n",
       "      <td>Medal of Honor: Rising Sun is a first-person s...</td>\n",
       "    </tr>\n",
       "  </tbody>\n",
       "</table>\n",
       "</div>"
      ],
      "text/plain": [
       "                           Name Platform  Year_of_Release    Genre  \\\n",
       "893  Medal of Honor: Rising Sun       XB           2003.0  Shooter   \n",
       "\n",
       "           Publisher  NA_Sales  EU_Sales  JP_Sales  Other_Sales  Global_Sales  \\\n",
       "893  Electronic Arts      0.76      0.36       0.0         0.05          1.17   \n",
       "\n",
       "     Critic_Score  Critic_Count User_Score  User_Count Developer Rating  \\\n",
       "893          65.0          23.0        5.8        28.0     EA LA      T   \n",
       "\n",
       "                                                 plots  \n",
       "893  Medal of Honor: Rising Sun is a first-person s...  "
      ]
     },
     "execution_count": 7,
     "metadata": {},
     "output_type": "execute_result"
    }
   ],
   "source": [
    "df.sample(random_state=3)"
   ]
  },
  {
   "cell_type": "markdown",
   "metadata": {},
   "source": [
    "\n",
    "**Name**\n",
    "\n",
    "- The official title of the game at release\n",
    "\n",
    "**Platform**\n",
    "\n",
    "- The game system this title was released for: uses the standard abbreviations for each system (e.g. PS3 = Playstation 3, GC = Nintendo GameCube)\n",
    "\n",
    "**Year of Release**\n",
    "\n",
    "- The original year the game was released in. This seems to be the earliest year if the release was staggered across regions\n",
    "\n",
    "**Genre**\n",
    "\n",
    "- A single genre designation for the game. These are very simple classifications like 'shooter' or 'role-playing'\n",
    "\n",
    "**Developer**\n",
    "\n",
    "- The name of the studio responsible for making the game: programming the game, creating the artwork, etc.\n",
    "\n",
    "**Publisher**\n",
    "\n",
    "- The name of the company that sells and distributes the game\n",
    "\n",
    "\n",
    "**NA/EU/JP/Other/Global Sales**\n",
    "\n",
    "- The number of *units* sold in millions, in each particular region. The global sales figure is the sum of the other four categories\n",
    "\n",
    "**Critic Score/Critic Count**\n",
    "\n",
    "- The average of the verified critic scores from Metacritic (these range from 0.0-100.0), as well as the number of reviews that make up that figure. At minimum the score is an average of 3 reviews\n",
    "\n",
    "**User Score/User Count**\n",
    "\n",
    "- The average user score on Metacritic (10 point scale), as well as the number of reviews. At minimum there are 4 scores for each game\n",
    "\n",
    "**Rating**\n",
    "\n",
    "- The ESRB rating of the game: this can be one of E, E10+, T, M, AO, or K-A\n",
    "\n",
    "Let's check out the distribution of our critic review scores:"
   ]
  },
  {
   "cell_type": "code",
   "execution_count": 8,
   "metadata": {},
   "outputs": [
    {
     "data": {
      "image/png": "[encoded data removed]",
      "text/plain": [
       "<Figure size 720x504 with 1 Axes>"
      ]
     },
     "metadata": {},
     "output_type": "display_data"
    }
   ],
   "source": [
    "df.Critic_Score.hist(figsize=(10,7), bins=20)\n",
    "plt.title('Distribution of Critic Scores');"
   ]
  },
  {
   "cell_type": "markdown",
   "metadata": {},
   "source": [
    "In my experience, this is a typical distribution for ratings: left-skewed with the median around 70%. Let's get our data cleaned up.\n",
    "\n",
    "## Data Cleaning\n",
    "\n",
    "#### Binning\n",
    "\n",
    "The first step I will take is getting the critic scores binned. I would like to make targeting the critic scores a classification rather than a regression problem for the following reason: It's not that meaningful to try to predict what *exact score* a game will recieve. No matter the amount of score averaging, the assigned critic sccore will still have some degree of arbitrariness. More generally I think we care about whether a game receives high, average, or low scores. For this reason I will be grouping the scores in the following three groups:\n",
    "\n",
    "| Designation | Class | Score Range | \n",
    "|:-------------:|:-------:|:-------------:|\n",
    "|     High    |   2   |  (75,100]  |  \n",
    "|   Average   |   1   |   (60,75]   |   \n",
    "|     Low     |   0   |    [0,60]   |   \n",
    "\n",
    "I will use the following function to do so:"
   ]
  },
  {
   "cell_type": "code",
   "execution_count": 9,
   "metadata": {},
   "outputs": [],
   "source": [
    "def bin_scores(score):\n",
    "    if score > 60:\n",
    "        if score > 75:\n",
    "            return 2\n",
    "        return 1\n",
    "    return 0\n",
    "\n",
    "df['success'] = df['Critic_Score'].apply(bin_scores)"
   ]
  },
  {
   "cell_type": "markdown",
   "metadata": {},
   "source": [
    "Let's quickly make sure that we have a decent class balance"
   ]
  },
  {
   "cell_type": "code",
   "execution_count": 10,
   "metadata": {},
   "outputs": [
    {
     "data": {
      "image/png": "[encoded data removed]",
      "text/plain": [
       "<Figure size 432x432 with 1 Axes>"
      ]
     },
     "metadata": {},
     "output_type": "display_data"
    }
   ],
   "source": [
    "plt.figure(figsize=(6,6))\n",
    "plt.pie(df.success.value_counts(), labels=[0,1,2], labeldistance=.6)\n",
    "plt.title('Critic Score Class Balance');"
   ]
  },
  {
   "cell_type": "markdown",
   "metadata": {},
   "source": [
    "Perfect. The classes have balance, and their designations align with the way people generally think of critical reception\n",
    "\n",
    "#### Text Processing\n",
    "\n",
    "Next, I have to take our plots/descriptions and make them a little more usable. This will involve removing punctuation, adjusting case, and maybe removing stopwords.\n",
    "\n",
    "The text handling libraries I am going to use will do some of this automatically, but it can't hurt to preprocess this way."
   ]
  },
  {
   "cell_type": "code",
   "execution_count": 11,
   "metadata": {},
   "outputs": [],
   "source": [
    "def clean_text(text):\n",
    "    \n",
    "    # Removes punctuation\n",
    "    words = [''.join(ch for ch in s if ch not in string.punctuation)\\\n",
    "             for s in text.split()]\n",
    "    \n",
    "    # Returns the lower-case string\n",
    "    return ' '.join(words).lower()\n",
    "\n",
    "df.plots = df.plots.apply(clean_text)"
   ]
  },
  {
   "cell_type": "markdown",
   "metadata": {},
   "source": [
    "Here's an example of the cleaned text"
   ]
  },
  {
   "cell_type": "code",
   "execution_count": 12,
   "metadata": {},
   "outputs": [
    {
     "name": "stdout",
     "output_type": "stream",
     "text": [
      "in the game dr muto has the ability to morph into many creatures and use a variety of gadgets to get through the game dr muto is able to turn into 5 different creatures with the use of the splizz gun in the game these can be unlocked by collecting items like isotopes and animal dna these morphs also have special extras there are seven different gadgets dr muto can use players get the splizz gun at the start of the game it allows dr muto to extract dna from enemies electrocute and shoot lasers at enemies and allows him to morph into five different creatures\n"
     ]
    }
   ],
   "source": [
    "print(df.plots.sample(random_state=42).values[0])"
   ]
  },
  {
   "cell_type": "markdown",
   "metadata": {},
   "source": [
    "# Modeling\n",
    "\n",
    "For my first model I will take the game descriptions, vectorize them, and then feed them into a support vector machine to see how they perform"
   ]
  },
  {
   "cell_type": "code",
   "execution_count": 13,
   "metadata": {},
   "outputs": [],
   "source": [
    "X = df['plots']\n",
    "y = df['success']\n",
    "X_train, X_test, y_train, y_test = train_test_split(X, y)"
   ]
  },
  {
   "cell_type": "markdown",
   "metadata": {},
   "source": [
    "Next I'll make a pipeline so I can cross-validate my models without worrying about data leakage.\n",
    "\n",
    "In this model I'm using a count vectorizer which turns each document into a vector where each element of the vector is the number of times a specific word appears in that document."
   ]
  },
  {
   "cell_type": "code",
   "execution_count": 14,
   "metadata": {},
   "outputs": [],
   "source": [
    "pipe = Pipeline([\n",
    "    ('cv', CountVectorizer()),\n",
    "    ('svc', SVC())\n",
    "])"
   ]
  },
  {
   "cell_type": "markdown",
   "metadata": {},
   "source": [
    "Let's see how this first model performs"
   ]
  },
  {
   "cell_type": "code",
   "execution_count": 15,
   "metadata": {},
   "outputs": [
    {
     "name": "stdout",
     "output_type": "stream",
     "text": [
      "The average accuracy for this model is 0.5337057958223007\n"
     ]
    }
   ],
   "source": [
    "cv = cross_validate(estimator=pipe, X=X_train, y=y_train.values)\n",
    "print('The average accuracy for this model is {}'.format(cv['test_score'].mean()))"
   ]
  },
  {
   "cell_type": "markdown",
   "metadata": {},
   "source": [
    "Alright, not a bad place to start for a first model, but using a count vectorizer has some issues. First, really long documents become vectors with an enormous magnitude. Also, I would like to pay less attention to words that appear in all game descriptions. Words like 'game', 'player', or 'controller' are very common words and probably don't mean much for this classification.\n",
    "\n",
    "For these reasons, I will next use a Tfidf vectorizer instead. This will give those common words less value, and it should also factor in the differing document lengths"
   ]
  },
  {
   "cell_type": "code",
   "execution_count": 16,
   "metadata": {},
   "outputs": [],
   "source": [
    "pipe_2 = Pipeline([\n",
    "    ('tf', TfidfVectorizer()),\n",
    "    ('svc', SVC())\n",
    "])"
   ]
  },
  {
   "cell_type": "code",
   "execution_count": 17,
   "metadata": {},
   "outputs": [
    {
     "name": "stdout",
     "output_type": "stream",
     "text": [
      "The average accuracy for this model is 0.6195448661370991\n"
     ]
    }
   ],
   "source": [
    "cv = cross_validate(estimator=pipe_2, X=X_train, y=y_train.values)\n",
    "print('The average accuracy for this model is {}'.format(cv['test_score'].mean()))"
   ]
  },
  {
   "cell_type": "markdown",
   "metadata": {},
   "source": [
    "Great! Just by using a more sophisticated vectorizer, I am getting about 15% fewer errors\n",
    "\n",
    "Next "
   ]
  },
  {
   "cell_type": "code",
   "execution_count": 18,
   "metadata": {},
   "outputs": [],
   "source": [
    "pipe_2 = Pipeline([\n",
    "    ('tf', TfidfVectorizer()),\n",
    "    ('svc', NuSVC())\n",
    "])"
   ]
  },
  {
   "cell_type": "code",
   "execution_count": 19,
   "metadata": {},
   "outputs": [
    {
     "name": "stdout",
     "output_type": "stream",
     "text": [
      "The average accuracy for this model is 0.6212441894674905\n"
     ]
    }
   ],
   "source": [
    "cv = cross_validate(estimator=pipe_2, X=X_train, y=y_train.values)\n",
    "print('The average accuracy for this model is {}'.format(cv['test_score'].mean()))"
   ]
  },
  {
   "cell_type": "code",
   "execution_count": 20,
   "metadata": {},
   "outputs": [],
   "source": [
    "params = {\n",
    "    'tf__max_features': (500,1000),\n",
    "    'svc__nu': (.25, .5),\n",
    "    'svc__kernel': ('rbf', 'poly')    \n",
    "}"
   ]
  },
  {
   "cell_type": "code",
   "execution_count": 21,
   "metadata": {},
   "outputs": [],
   "source": [
    "gs = GridSearchCV(pipe_2, params, verbose=2, return_train_score=True)"
   ]
  },
  {
   "cell_type": "code",
   "execution_count": 22,
   "metadata": {
    "collapsed": true,
    "jupyter": {
     "outputs_hidden": true
    }
   },
   "outputs": [
    {
     "name": "stdout",
     "output_type": "stream",
     "text": [
      "Fitting 5 folds for each of 8 candidates, totalling 40 fits\n",
      "[CV] svc__kernel=rbf, svc__nu=0.25, tf__max_features=500 .............\n"
     ]
    },
    {
     "name": "stderr",
     "output_type": "stream",
     "text": [
      "[Parallel(n_jobs=1)]: Using backend SequentialBackend with 1 concurrent workers.\n"
     ]
    },
    {
     "name": "stdout",
     "output_type": "stream",
     "text": [
      "[CV]  svc__kernel=rbf, svc__nu=0.25, tf__max_features=500, total=  24.5s\n",
      "[CV] svc__kernel=rbf, svc__nu=0.25, tf__max_features=500 .............\n"
     ]
    },
    {
     "name": "stderr",
     "output_type": "stream",
     "text": [
      "[Parallel(n_jobs=1)]: Done   1 out of   1 | elapsed:   37.5s remaining:    0.0s\n"
     ]
    },
    {
     "name": "stdout",
     "output_type": "stream",
     "text": [
      "[CV]  svc__kernel=rbf, svc__nu=0.25, tf__max_features=500, total=  21.4s\n",
      "[CV] svc__kernel=rbf, svc__nu=0.25, tf__max_features=500 .............\n",
      "[CV]  svc__kernel=rbf, svc__nu=0.25, tf__max_features=500, total=  22.0s\n",
      "[CV] svc__kernel=rbf, svc__nu=0.25, tf__max_features=500 .............\n",
      "[CV]  svc__kernel=rbf, svc__nu=0.25, tf__max_features=500, total=  19.9s\n",
      "[CV] svc__kernel=rbf, svc__nu=0.25, tf__max_features=500 .............\n",
      "[CV]  svc__kernel=rbf, svc__nu=0.25, tf__max_features=500, total=  24.3s\n",
      "[CV] svc__kernel=rbf, svc__nu=0.25, tf__max_features=1000 ............\n",
      "[CV]  svc__kernel=rbf, svc__nu=0.25, tf__max_features=1000, total=  31.3s\n",
      "[CV] svc__kernel=rbf, svc__nu=0.25, tf__max_features=1000 ............\n",
      "[CV]  svc__kernel=rbf, svc__nu=0.25, tf__max_features=1000, total=  29.3s\n",
      "[CV] svc__kernel=rbf, svc__nu=0.25, tf__max_features=1000 ............\n",
      "[CV]  svc__kernel=rbf, svc__nu=0.25, tf__max_features=1000, total=  30.2s\n",
      "[CV] svc__kernel=rbf, svc__nu=0.25, tf__max_features=1000 ............\n",
      "[CV]  svc__kernel=rbf, svc__nu=0.25, tf__max_features=1000, total=  33.7s\n",
      "[CV] svc__kernel=rbf, svc__nu=0.25, tf__max_features=1000 ............\n",
      "[CV]  svc__kernel=rbf, svc__nu=0.25, tf__max_features=1000, total=  33.3s\n",
      "[CV] svc__kernel=rbf, svc__nu=0.5, tf__max_features=500 ..............\n",
      "[CV]  svc__kernel=rbf, svc__nu=0.5, tf__max_features=500, total=  25.4s\n",
      "[CV] svc__kernel=rbf, svc__nu=0.5, tf__max_features=500 ..............\n",
      "[CV]  svc__kernel=rbf, svc__nu=0.5, tf__max_features=500, total=  25.7s\n",
      "[CV] svc__kernel=rbf, svc__nu=0.5, tf__max_features=500 ..............\n",
      "[CV]  svc__kernel=rbf, svc__nu=0.5, tf__max_features=500, total=  23.8s\n",
      "[CV] svc__kernel=rbf, svc__nu=0.5, tf__max_features=500 ..............\n",
      "[CV]  svc__kernel=rbf, svc__nu=0.5, tf__max_features=500, total=  23.0s\n",
      "[CV] svc__kernel=rbf, svc__nu=0.5, tf__max_features=500 ..............\n",
      "[CV]  svc__kernel=rbf, svc__nu=0.5, tf__max_features=500, total=  23.1s\n",
      "[CV] svc__kernel=rbf, svc__nu=0.5, tf__max_features=1000 .............\n",
      "[CV]  svc__kernel=rbf, svc__nu=0.5, tf__max_features=1000, total=  27.9s\n",
      "[CV] svc__kernel=rbf, svc__nu=0.5, tf__max_features=1000 .............\n",
      "[CV]  svc__kernel=rbf, svc__nu=0.5, tf__max_features=1000, total=  27.1s\n",
      "[CV] svc__kernel=rbf, svc__nu=0.5, tf__max_features=1000 .............\n",
      "[CV]  svc__kernel=rbf, svc__nu=0.5, tf__max_features=1000, total=  29.5s\n",
      "[CV] svc__kernel=rbf, svc__nu=0.5, tf__max_features=1000 .............\n",
      "[CV]  svc__kernel=rbf, svc__nu=0.5, tf__max_features=1000, total=  27.5s\n",
      "[CV] svc__kernel=rbf, svc__nu=0.5, tf__max_features=1000 .............\n",
      "[CV]  svc__kernel=rbf, svc__nu=0.5, tf__max_features=1000, total=  29.6s\n",
      "[CV] svc__kernel=poly, svc__nu=0.25, tf__max_features=500 ............\n",
      "[CV]  svc__kernel=poly, svc__nu=0.25, tf__max_features=500, total=  24.0s\n",
      "[CV] svc__kernel=poly, svc__nu=0.25, tf__max_features=500 ............\n",
      "[CV]  svc__kernel=poly, svc__nu=0.25, tf__max_features=500, total=  23.7s\n",
      "[CV] svc__kernel=poly, svc__nu=0.25, tf__max_features=500 ............\n",
      "[CV]  svc__kernel=poly, svc__nu=0.25, tf__max_features=500, total=  24.0s\n",
      "[CV] svc__kernel=poly, svc__nu=0.25, tf__max_features=500 ............\n",
      "[CV]  svc__kernel=poly, svc__nu=0.25, tf__max_features=500, total=  24.1s\n",
      "[CV] svc__kernel=poly, svc__nu=0.25, tf__max_features=500 ............\n",
      "[CV]  svc__kernel=poly, svc__nu=0.25, tf__max_features=500, total=  21.2s\n",
      "[CV] svc__kernel=poly, svc__nu=0.25, tf__max_features=1000 ...........\n",
      "[CV]  svc__kernel=poly, svc__nu=0.25, tf__max_features=1000, total=  26.0s\n",
      "[CV] svc__kernel=poly, svc__nu=0.25, tf__max_features=1000 ...........\n",
      "[CV]  svc__kernel=poly, svc__nu=0.25, tf__max_features=1000, total=  23.9s\n",
      "[CV] svc__kernel=poly, svc__nu=0.25, tf__max_features=1000 ...........\n",
      "[CV]  svc__kernel=poly, svc__nu=0.25, tf__max_features=1000, total=  23.8s\n",
      "[CV] svc__kernel=poly, svc__nu=0.25, tf__max_features=1000 ...........\n",
      "[CV]  svc__kernel=poly, svc__nu=0.25, tf__max_features=1000, total=  23.4s\n",
      "[CV] svc__kernel=poly, svc__nu=0.25, tf__max_features=1000 ...........\n",
      "[CV]  svc__kernel=poly, svc__nu=0.25, tf__max_features=1000, total=  28.0s\n",
      "[CV] svc__kernel=poly, svc__nu=0.5, tf__max_features=500 .............\n",
      "[CV]  svc__kernel=poly, svc__nu=0.5, tf__max_features=500, total=  23.2s\n",
      "[CV] svc__kernel=poly, svc__nu=0.5, tf__max_features=500 .............\n",
      "[CV]  svc__kernel=poly, svc__nu=0.5, tf__max_features=500, total=  22.6s\n",
      "[CV] svc__kernel=poly, svc__nu=0.5, tf__max_features=500 .............\n",
      "[CV]  svc__kernel=poly, svc__nu=0.5, tf__max_features=500, total=  22.9s\n",
      "[CV] svc__kernel=poly, svc__nu=0.5, tf__max_features=500 .............\n",
      "[CV]  svc__kernel=poly, svc__nu=0.5, tf__max_features=500, total=  23.7s\n",
      "[CV] svc__kernel=poly, svc__nu=0.5, tf__max_features=500 .............\n",
      "[CV]  svc__kernel=poly, svc__nu=0.5, tf__max_features=500, total=  22.9s\n",
      "[CV] svc__kernel=poly, svc__nu=0.5, tf__max_features=1000 ............\n",
      "[CV]  svc__kernel=poly, svc__nu=0.5, tf__max_features=1000, total=  27.4s\n",
      "[CV] svc__kernel=poly, svc__nu=0.5, tf__max_features=1000 ............\n",
      "[CV]  svc__kernel=poly, svc__nu=0.5, tf__max_features=1000, total=  28.4s\n",
      "[CV] svc__kernel=poly, svc__nu=0.5, tf__max_features=1000 ............\n",
      "[CV]  svc__kernel=poly, svc__nu=0.5, tf__max_features=1000, total=  30.3s\n",
      "[CV] svc__kernel=poly, svc__nu=0.5, tf__max_features=1000 ............\n",
      "[CV]  svc__kernel=poly, svc__nu=0.5, tf__max_features=1000, total=  29.7s\n",
      "[CV] svc__kernel=poly, svc__nu=0.5, tf__max_features=1000 ............\n",
      "[CV]  svc__kernel=poly, svc__nu=0.5, tf__max_features=1000, total=  26.8s\n"
     ]
    },
    {
     "name": "stderr",
     "output_type": "stream",
     "text": [
      "[Parallel(n_jobs=1)]: Done  40 out of  40 | elapsed: 27.6min finished\n"
     ]
    },
    {
     "data": {
      "text/plain": [
       "GridSearchCV(estimator=Pipeline(steps=[('tf', TfidfVectorizer()),\n",
       "                                       ('svc', NuSVC())]),\n",
       "             param_grid={'svc__kernel': ('rbf', 'poly'), 'svc__nu': (0.25, 0.5),\n",
       "                         'tf__max_features': (500, 1000)},\n",
       "             return_train_score=True, verbose=2)"
      ]
     },
     "execution_count": 22,
     "metadata": {},
     "output_type": "execute_result"
    }
   ],
   "source": [
    "gs.fit(X_train, y_train)"
   ]
  },
  {
   "cell_type": "code",
   "execution_count": 23,
   "metadata": {},
   "outputs": [
    {
     "data": {
      "text/plain": [
       "0.613240659017358"
      ]
     },
     "execution_count": 23,
     "metadata": {},
     "output_type": "execute_result"
    }
   ],
   "source": [
    "gs.best_score_"
   ]
  },
  {
   "cell_type": "markdown",
   "metadata": {},
   "source": [
    "Didn't get too much better on that one, let me try another route that I had previous success with."
   ]
  },
  {
   "cell_type": "code",
   "execution_count": 24,
   "metadata": {},
   "outputs": [],
   "source": [
    "tf = TfidfVectorizer(stop_words='english')\n",
    "X_train_tf = tf.fit_transform(X_train)\n",
    "X_test_tf = tf.transform(X_test)\n",
    "clf_tfidf = LogisticRegression(C=30.0, class_weight='balanced', solver='newton-cg', \n",
    "                         multi_class='multinomial', n_jobs=-1, random_state=40)\n",
    "clf_tfidf.fit(X_train_tf, y_train)\n",
    "\n",
    "y_predicted_tfidf = clf_tfidf.predict(X_test_tf)"
   ]
  },
  {
   "cell_type": "code",
   "execution_count": 25,
   "metadata": {},
   "outputs": [
    {
     "data": {
      "text/plain": [
       "0.648"
      ]
     },
     "execution_count": 25,
     "metadata": {},
     "output_type": "execute_result"
    }
   ],
   "source": [
    "accuracy_score(y_test, y_predicted_tfidf)"
   ]
  },
  {
   "cell_type": "markdown",
   "metadata": {},
   "source": [
    "Here I would like to explore more, in my previous exploration I had better results with logistic regression"
   ]
  },
  {
   "cell_type": "markdown",
   "metadata": {},
   "source": [
    "# Evaluation\n",
    "\n",
    "My model attained an accuracy score of 65%. This means that 65% of the time, when given a Wikipedia-grade description of a game, it can correctly predict the critical reception of that game--within these three predefined classes. Obvously this score is not ideal and it will require more tuning and perhaps more data collection. I think what I will do next is re-tune my Wikipedia API script to prioritize the 'gameplay' section of the page rather than the 'plot' section."
   ]
  }
 ],
 "metadata": {
  "kernelspec": {
   "display_name": "Python (vgenv)",
   "language": "python",
   "name": "vgenv"
  },
  "language_info": {
   "codemirror_mode": {
    "name": "ipython",
    "version": 3
   },
   "file_extension": ".py",
   "mimetype": "text/x-python",
   "name": "python",
   "nbconvert_exporter": "python",
   "pygments_lexer": "ipython3",
   "version": "3.6.10"
  }
 },
 "nbformat": 4,
 "nbformat_minor": 4
}
