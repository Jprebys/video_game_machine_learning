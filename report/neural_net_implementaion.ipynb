{
 "cells": [
  {
   "cell_type": "markdown",
   "metadata": {},
   "source": [
    "# Neural Network Implementation\n",
    "\n",
    "In this notebook I will demonstrate a method for taking my game description data and implementing a Convolutional Neural Network (CNN) to try to improve testing accuracy.\n",
    "\n",
    "This is a supplement to the [Final Report Notebook](final_report.ipynb), so read through that for some background on my modeling attempts to this point.\n",
    "\n",
    "First I'll make some imports"
   ]
  },
  {
   "cell_type": "code",
   "execution_count": 96,
   "metadata": {},
   "outputs": [],
   "source": [
    "# Data preprocessing\n",
    "from keras.preprocessing.text import Tokenizer\n",
    "from keras.preprocessing.sequence import pad_sequences\n",
    "from nltk.tokenize import RegexpTokenizer\n",
    "from keras.utils import to_categorical\n",
    "import gensim\n",
    "\n",
    "# Neural network\n",
    "from keras.regularizers import l2\n",
    "from keras.layers import Dense, Flatten, concatenate,\\\n",
    "                         MaxPooling2D, Conv2D, Input,\\\n",
    "                         Dropout\n",
    "from keras.models import Model\n",
    "from sklearn.model_selection import train_test_split\n",
    "\n",
    "# Standard\n",
    "import pandas as pd\n",
    "import string\n",
    "import numpy as np\n",
    "\n",
    "# Viz formatting\n",
    "plt.rcParams['font.size'] = 24\n",
    "plt.style.use('fivethirtyeight')"
   ]
  },
  {
   "cell_type": "markdown",
   "metadata": {},
   "source": [
    "I'll read in my dataset"
   ]
  },
  {
   "cell_type": "code",
   "execution_count": 2,
   "metadata": {},
   "outputs": [],
   "source": [
    "df = pd.read_csv('../data/WEEK_2_DESCRIPTIONS.csv').drop('Unnamed: 0', axis=1)"
   ]
  },
  {
   "cell_type": "markdown",
   "metadata": {},
   "source": [
    "### Preprocessing\n",
    "\n",
    "This is the same score-binning and text cleaning I was using before"
   ]
  },
  {
   "cell_type": "code",
   "execution_count": 3,
   "metadata": {},
   "outputs": [],
   "source": [
    "def bin_scores(score):\n",
    "    if score > 60:\n",
    "        if score > 75:\n",
    "            return 2\n",
    "        return 1\n",
    "    return 0\n",
    "\n",
    "df['success'] = df['Critic_Score'].apply(bin_scores)\n",
    "\n",
    "def clean_text(text):\n",
    "    \n",
    "    # Removes punctuation\n",
    "    words = [''.join(ch for ch in s if ch not in string.punctuation)\\\n",
    "             for s in text.split()]\n",
    "    \n",
    "    # Returns the lower-case string\n",
    "    return ' '.join(words).lower()\n",
    "\n",
    "df.plots = df.plots.apply(clean_text)"
   ]
  },
  {
   "cell_type": "markdown",
   "metadata": {},
   "source": [
    "I'll make a new column that is the 'plots' column tokenized"
   ]
  },
  {
   "cell_type": "code",
   "execution_count": 99,
   "metadata": {},
   "outputs": [],
   "source": [
    "tokenizer = RegexpTokenizer(r'\\w+')\n",
    "df['tokens'] = df.plots.apply(tokenizer.tokenize)"
   ]
  },
  {
   "cell_type": "markdown",
   "metadata": {},
   "source": [
    "### Word Embedding\n",
    "\n",
    "In order to change my corpus to an appropriate format for a neural network, I will need to do some word embedding. This is an application of transfer learning that uses pre-trained models to embed each word as an N-dimensional vector (in this case N=500). The embeddings I am using come from the [Wikipedia2Vec Project](https://wikipedia2vec.github.io/wikipedia2vec/). The idea behind embedding in this way is to encode some contextual information into the words of a corpus.\n",
    "\n",
    "This cell will download and store the word embeddings"
   ]
  },
  {
   "cell_type": "code",
   "execution_count": 5,
   "metadata": {},
   "outputs": [],
   "source": [
    "# Running this cell can take around 30 minutes\n",
    "\n",
    "word2vec_path = 'http://wikipedia2vec.s3.amazonaws.com/models/en/2018-04-20/enwiki_20180420_win10_500d.txt.bz2'\n",
    "word2vec = gensim.models.KeyedVectors.load_word2vec_format(word2vec_path, limit=1000000)"
   ]
  },
  {
   "cell_type": "markdown",
   "metadata": {},
   "source": [
    "These functions will encode all documents in the corpus with the Wikipedia2Vec embeddings"
   ]
  },
  {
   "cell_type": "code",
   "execution_count": 6,
   "metadata": {},
   "outputs": [],
   "source": [
    "def get_all_word2vec(tokens_list, vector, k=300, sent_length=100):\n",
    "    '''\n",
    "    Get the embeddings for all words in one document\n",
    "    '''\n",
    "    vectorized = [vector[word] if word in vector else np.random.rand(k) for word in tokens_list]\n",
    "\n",
    "    for _ in range(sent_length - len(tokens_list)):\n",
    "        vectorized.append(np.zeros(k))\n",
    "        \n",
    "    return np.array(vectorized[:sent_length])\n",
    "\n",
    "\n",
    "def get_word2vec_embeddings(vectors, clean_questions, k=300, sent_length=100):\n",
    "    '''\n",
    "    Get list of all embeddings for all documents\n",
    "    '''\n",
    "    embeddings = df['tokens'].apply(lambda x: get_all_word2vec(x, vectors, k=k, sent_length=sent_length))\n",
    "    return list(embeddings)"
   ]
  },
  {
   "cell_type": "markdown",
   "metadata": {},
   "source": [
    "I'll apply the functions and split the data into training and validation sets"
   ]
  },
  {
   "cell_type": "code",
   "execution_count": 7,
   "metadata": {},
   "outputs": [],
   "source": [
    "SENTENCE_LENGTH = 50\n",
    "\n",
    "embeddings = get_word2vec_embeddings(word2vec, df, 500, SENTENCE_LENGTH)\n",
    "\n",
    "X_train_word2vec, X_test_word2vec, y_train_word2vec, y_test_word2vec = train_test_split(embeddings, df.success, \n",
    "                                                                                        test_size=0.2, random_state=40)\n",
    "\n",
    "# Convert split data into a CNN-friendly format\n",
    "X_train_cnn = np.array(X_train_word2vec).reshape((-1, SENTENCE_LENGTH, 500, 1))\n",
    "X_test_cnn = np.array(X_test_word2vec).reshape((-1, SENTENCE_LENGTH, 500, 1))\n",
    "y_train_cnn = to_categorical(y_train_word2vec)\n",
    "y_test_cnn = to_categorical(y_test_word2vec)\n"
   ]
  },
  {
   "cell_type": "markdown",
   "metadata": {},
   "source": [
    "## Neural Network Implementation\n",
    "\n",
    "In the following cell I have a slightly modified function for implementing the popular [Yoon Kim model](https://arxiv.org/pdf/1408.5882.pdf) of convolutional neural network. I have taken this function written by Joyce Y in [this article](https://medium.com/@joyceye04/text-understanding-with-convolutional-neural-network-with-hands-on-coding-7c03a0782a2f) and only slightly changed it. \n",
    "\n",
    "I will be using multiple n-gram sizes, and multiple filters for each size. The network will have convolutional layers followed by fully-connected layers that are joined together by a flatten layer\n",
    "\n",
    "Also, each document will be cut down to 50 word-vectors. If the document has fewer words, it will be padded with 0-vectors. In my testing, using longer document lengths does not increase model performance."
   ]
  },
  {
   "cell_type": "code",
   "execution_count": 97,
   "metadata": {},
   "outputs": [],
   "source": [
    "def build_kum_cnn_graph(sent_len, word_vec, out_dim, filters = 128, n_grams = [2,3], num_dense_layers = 3):\n",
    "    '''\n",
    "    args:\n",
    "        sent_len: length of input sentense. if raw sentense is less than it, using zero padding, else cut down to it.\n",
    "        word_vec: dim of word vector embedding using pre-trained glove or word2vec model\n",
    "        out_dim: dim of output y\n",
    "        filters: filters for Convolutional layers\n",
    "        n_grams: list of ngram for Convolutional layers kernal. each will generate one cell output. details can be referred from paper\n",
    "        num_dense_layers: to decide how many dense layers after concatenating all Convolutional layers output\n",
    "    returns:\n",
    "        Keras Model\n",
    "    '''\n",
    "    inputs = keras.layers.Input(shape=(sent_len, word_vec, 1))\n",
    "    merged_layer = []\n",
    "    for h in n_grams:\n",
    "        conv_layer = Conv2D(filters, (h, word_vec), activation='tanh')(inputs)\n",
    "        pool_layer = MaxPooling2D(pool_size=(sent_len-h+1, 1))(conv_layer)\n",
    "        merged_layer.append(pool_layer)\n",
    "    concat_layer = concatenate(merged_layer)\n",
    "    flatten_layer = Flatten()(concat_layer)\n",
    "    in_ = flatten_layer\n",
    "    prev_units = filters * len(n_grams)\n",
    "    for _ in range(num_dense_layers - 1):\n",
    "        prev_units /= 2\n",
    "        dense_layer = Dense(int(prev_units), \n",
    "                        activation='tanh', \n",
    "                        kernel_regularizer=l2(0.01))(in_)\n",
    "        drop_layer = Dropout(.5)(dense_layer)\n",
    "        in_ = drop_layer\n",
    "        \n",
    "    outputs = Dense(out_dim, activation = 'softmax')(in_)\n",
    "    \n",
    "    model = Model(inputs=inputs, outputs = outputs)\n",
    "    return model"
   ]
  },
  {
   "cell_type": "markdown",
   "metadata": {},
   "source": [
    "Here I will compile and fit the model"
   ]
  },
  {
   "cell_type": "code",
   "execution_count": 98,
   "metadata": {},
   "outputs": [
    {
     "name": "stdout",
     "output_type": "stream",
     "text": [
      "Train on 4399 samples, validate on 1100 samples\n",
      "Epoch 1/15\n",
      "4399/4399 [==============================] - 9s 2ms/step - loss: 3.4113 - acc: 0.3717 - val_loss: 2.2944 - val_acc: 0.4718\n",
      "Epoch 2/15\n",
      "4399/4399 [==============================] - 9s 2ms/step - loss: 2.0626 - acc: 0.4565 - val_loss: 1.7549 - val_acc: 0.4955\n",
      "Epoch 3/15\n",
      "4399/4399 [==============================] - 9s 2ms/step - loss: 1.5780 - acc: 0.5585 - val_loss: 1.5090 - val_acc: 0.5273\n",
      "Epoch 4/15\n",
      "4399/4399 [==============================] - 9s 2ms/step - loss: 1.2425 - acc: 0.6829 - val_loss: 1.3538 - val_acc: 0.5536\n",
      "Epoch 5/15\n",
      "4399/4399 [==============================] - 9s 2ms/step - loss: 1.0153 - acc: 0.7586 - val_loss: 1.2448 - val_acc: 0.6255\n",
      "Epoch 6/15\n",
      "4399/4399 [==============================] - 9s 2ms/step - loss: 0.8264 - acc: 0.8291 - val_loss: 1.1744 - val_acc: 0.6536\n",
      "Epoch 7/15\n",
      "4399/4399 [==============================] - 9s 2ms/step - loss: 0.7289 - acc: 0.8466 - val_loss: 1.1420 - val_acc: 0.6655\n",
      "Epoch 8/15\n",
      "4399/4399 [==============================] - 9s 2ms/step - loss: 0.6084 - acc: 0.8779 - val_loss: 1.1280 - val_acc: 0.6545\n",
      "Epoch 9/15\n",
      "4399/4399 [==============================] - 9s 2ms/step - loss: 0.5451 - acc: 0.8936 - val_loss: 1.1076 - val_acc: 0.6509\n",
      "Epoch 10/15\n",
      "4399/4399 [==============================] - 9s 2ms/step - loss: 0.4876 - acc: 0.8984 - val_loss: 1.1013 - val_acc: 0.6373\n",
      "Epoch 11/15\n",
      "4399/4399 [==============================] - 9s 2ms/step - loss: 0.4450 - acc: 0.9075 - val_loss: 1.0824 - val_acc: 0.6418\n",
      "Epoch 12/15\n",
      "4399/4399 [==============================] - 9s 2ms/step - loss: 0.4138 - acc: 0.9102 - val_loss: 1.1565 - val_acc: 0.6282\n",
      "Epoch 13/15\n",
      "4399/4399 [==============================] - 9s 2ms/step - loss: 0.3891 - acc: 0.9161 - val_loss: 1.0570 - val_acc: 0.6673\n",
      "Epoch 14/15\n",
      "4399/4399 [==============================] - 9s 2ms/step - loss: 0.3516 - acc: 0.9223 - val_loss: 1.1022 - val_acc: 0.6573\n",
      "Epoch 15/15\n",
      "4399/4399 [==============================] - 9s 2ms/step - loss: 0.3307 - acc: 0.9223 - val_loss: 1.0736 - val_acc: 0.6427\n"
     ]
    },
    {
     "data": {
      "text/plain": [
       "<keras.callbacks.callbacks.History at 0x267b79a7518>"
      ]
     },
     "execution_count": 98,
     "metadata": {},
     "output_type": "execute_result"
    }
   ],
   "source": [
    "model = build_kum_cnn_graph(SENTENCE_LENGTH, 500, 3, n_grams=[2,3,4])\n",
    "\n",
    "model.compile(loss='categorical_crossentropy',\n",
    "                  optimizer='adam',\n",
    "                  metrics=['acc'])\n",
    "\n",
    "model.fit(X_train_cnn, y_train_cnn, epochs=15,\n",
    "          batch_size=50, validation_data=(X_test_cnn, y_test_cnn));"
   ]
  },
  {
   "cell_type": "markdown",
   "metadata": {},
   "source": [
    "As you can see, I'm getting some pretty interesting results from this, but I think there is a lot of further tuning that can be done on this model to squeeze more performance out of it. Regularization maybe?\n",
    "\n",
    "Here's the summary of this crazy complex model:"
   ]
  },
  {
   "cell_type": "code",
   "execution_count": 84,
   "metadata": {},
   "outputs": [
    {
     "name": "stdout",
     "output_type": "stream",
     "text": [
      "Model: \"model_11\"\n",
      "__________________________________________________________________________________________________\n",
      "Layer (type)                    Output Shape         Param #     Connected to                     \n",
      "==================================================================================================\n",
      "input_13 (InputLayer)           (None, 50, 500, 1)   0                                            \n",
      "__________________________________________________________________________________________________\n",
      "conv2d_34 (Conv2D)              (None, 49, 1, 128)   128128      input_13[0][0]                   \n",
      "__________________________________________________________________________________________________\n",
      "conv2d_35 (Conv2D)              (None, 48, 1, 128)   192128      input_13[0][0]                   \n",
      "__________________________________________________________________________________________________\n",
      "conv2d_36 (Conv2D)              (None, 47, 1, 128)   256128      input_13[0][0]                   \n",
      "__________________________________________________________________________________________________\n",
      "max_pooling2d_33 (MaxPooling2D) (None, 1, 1, 128)    0           conv2d_34[0][0]                  \n",
      "__________________________________________________________________________________________________\n",
      "max_pooling2d_34 (MaxPooling2D) (None, 1, 1, 128)    0           conv2d_35[0][0]                  \n",
      "__________________________________________________________________________________________________\n",
      "max_pooling2d_35 (MaxPooling2D) (None, 1, 1, 128)    0           conv2d_36[0][0]                  \n",
      "__________________________________________________________________________________________________\n",
      "concatenate_12 (Concatenate)    (None, 1, 1, 384)    0           max_pooling2d_33[0][0]           \n",
      "                                                                 max_pooling2d_34[0][0]           \n",
      "                                                                 max_pooling2d_35[0][0]           \n",
      "__________________________________________________________________________________________________\n",
      "flatten_11 (Flatten)            (None, 384)          0           concatenate_12[0][0]             \n",
      "__________________________________________________________________________________________________\n",
      "dense_31 (Dense)                (None, 192)          73920       flatten_11[0][0]                 \n",
      "__________________________________________________________________________________________________\n",
      "dropout_21 (Dropout)            (None, 192)          0           dense_31[0][0]                   \n",
      "__________________________________________________________________________________________________\n",
      "dense_32 (Dense)                (None, 96)           18528       dropout_21[0][0]                 \n",
      "__________________________________________________________________________________________________\n",
      "dropout_22 (Dropout)            (None, 96)           0           dense_32[0][0]                   \n",
      "__________________________________________________________________________________________________\n",
      "dense_33 (Dense)                (None, 3)            291         dropout_22[0][0]                 \n",
      "==================================================================================================\n",
      "Total params: 669,123\n",
      "Trainable params: 669,123\n",
      "Non-trainable params: 0\n",
      "__________________________________________________________________________________________________\n"
     ]
    }
   ],
   "source": [
    "model.summary()"
   ]
  },
  {
   "cell_type": "markdown",
   "metadata": {},
   "source": [
    "### Visualizing the Results\n",
    "\n",
    "Here I'll just make a little graph about accuracy over time"
   ]
  },
  {
   "cell_type": "code",
   "execution_count": 29,
   "metadata": {},
   "outputs": [],
   "source": [
    "acc = np.array(model.history.history['acc']) *100\n",
    "valacc = np.array(model.history.history['val_acc']) *100"
   ]
  },
  {
   "cell_type": "code",
   "execution_count": 30,
   "metadata": {},
   "outputs": [],
   "source": [
    "import matplotlib.pyplot as plt"
   ]
  },
  {
   "cell_type": "code",
   "execution_count": 104,
   "metadata": {},
   "outputs": [
    {
     "data": {
      "image/png": "[encoded data removed]",
      "text/plain": [
       "<Figure size 576x576 with 1 Axes>"
      ]
     },
     "metadata": {},
     "output_type": "display_data"
    }
   ],
   "source": [
    "fig, ax = plt.subplots(figsize=(8,8))\n",
    "epochs = range(1,16)\n",
    "ax.plot(epochs, acc[:15], linewidth=10, label='Training')\n",
    "ax.plot(epochs, valacc[:15], linewidth=10, label='Testing')\n",
    "ax.set_title('Neural Net Accuracy over Time',fontsize=24)\n",
    "ax.set_xlabel('Epoch', fontsize=22)\n",
    "ax.set_ylabel('Percent Accuracy', fontsize=22)\n",
    "ax.legend(fontsize=22)\n",
    "plt.rcParams['font.size'] = 36\n",
    "plt.tight_layout(1.15)"
   ]
  }
 ],
 "metadata": {
  "kernelspec": {
   "display_name": "learn-env",
   "language": "python",
   "name": "learn-env"
  },
  "language_info": {
   "codemirror_mode": {
    "name": "ipython",
    "version": 3
   },
   "file_extension": ".py",
   "mimetype": "text/x-python",
   "name": "python",
   "nbconvert_exporter": "python",
   "pygments_lexer": "ipython3",
   "version": "3.6.10"
  }
 },
 "nbformat": 4,
 "nbformat_minor": 4
}
