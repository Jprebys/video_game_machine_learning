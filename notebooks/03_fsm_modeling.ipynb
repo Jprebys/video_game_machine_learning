{
 "cells": [
  {
   "cell_type": "markdown",
   "metadata": {},
   "source": [
    "# First Modeling\n",
    "\n",
    "Here I'll take my work from the two previous notebooks, and I'll try some simple modeling"
   ]
  },
  {
   "cell_type": "code",
   "execution_count": 28,
   "metadata": {},
   "outputs": [],
   "source": [
    "import pandas as pd\n",
    "pd.options.mode.chained_assignment = None\n",
    "\n",
    "import numpy as np\n",
    "import wikipedia\n",
    "from sklearn.model_selection import train_test_split\n",
    "from sklearn.feature_extraction.text import TfidfVectorizer\n",
    "from sklearn.linear_model import SGDClassifier\n",
    "from sklearn.naive_bayes import GaussianNB\n",
    "from sklearn.ensemble import RandomForestRegressor\n",
    "from sklearn.metrics import confusion_matrix"
   ]
  },
  {
   "cell_type": "markdown",
   "metadata": {},
   "source": [
    "### Tidying up\n",
    "\n",
    "Let's take our data from the 'games_with_plots.csv' file that we exported from the [wikiscraping](./02_wikiscraping.ipynb) notebook"
   ]
  },
  {
   "cell_type": "code",
   "execution_count": 3,
   "metadata": {},
   "outputs": [
    {
     "data": {
      "text/plain": [
       "(4196, 19)"
      ]
     },
     "execution_count": 3,
     "metadata": {},
     "output_type": "execute_result"
    }
   ],
   "source": [
    "games_with_plots = pd.read_csv('../data/games_with_plots.csv')\n",
    "games_with_plots.shape"
   ]
  },
  {
   "cell_type": "markdown",
   "metadata": {},
   "source": [
    "Grab just the columns we're interested in for now"
   ]
  },
  {
   "cell_type": "code",
   "execution_count": 4,
   "metadata": {},
   "outputs": [],
   "source": [
    "important_columns = ['game', 'console', 'publisher', 'developer',\n",
    "                     'critic_score', 'release_date', 'plots']\n",
    "gdf = games_with_plots[important_columns]"
   ]
  },
  {
   "cell_type": "markdown",
   "metadata": {},
   "source": [
    "Put a little text cleaner here for now, i'm not really sure if this is necessary but w/e \n",
    "\n",
    "\\***move to src folder soon**\\*"
   ]
  },
  {
   "cell_type": "code",
   "execution_count": 5,
   "metadata": {},
   "outputs": [],
   "source": [
    "def clean_text(text):\n",
    "    import string\n",
    "    words = [''.join(ch for ch in s if ch not in string.punctuation) for s in text.split()]\n",
    "    return ' '.join(words).lower()"
   ]
  },
  {
   "cell_type": "markdown",
   "metadata": {},
   "source": [
    "Let's do some minor data cleaning"
   ]
  },
  {
   "cell_type": "code",
   "execution_count": 6,
   "metadata": {},
   "outputs": [
    {
     "data": {
      "text/html": [
       "<div>\n",
       "<style scoped>\n",
       "    .dataframe tbody tr th:only-of-type {\n",
       "        vertical-align: middle;\n",
       "    }\n",
       "\n",
       "    .dataframe tbody tr th {\n",
       "        vertical-align: top;\n",
       "    }\n",
       "\n",
       "    .dataframe thead th {\n",
       "        text-align: right;\n",
       "    }\n",
       "</style>\n",
       "<table border=\"1\" class=\"dataframe\">\n",
       "  <thead>\n",
       "    <tr style=\"text-align: right;\">\n",
       "      <th></th>\n",
       "      <th>game</th>\n",
       "      <th>console</th>\n",
       "      <th>publisher</th>\n",
       "      <th>developer</th>\n",
       "      <th>critic_score</th>\n",
       "      <th>release_date</th>\n",
       "      <th>plots</th>\n",
       "    </tr>\n",
       "  </thead>\n",
       "  <tbody>\n",
       "    <tr>\n",
       "      <th>3791</th>\n",
       "      <td>Murder in the Abbey</td>\n",
       "      <td>PC</td>\n",
       "      <td>DreamCatcher Interactive</td>\n",
       "      <td>Alcachofa Soft</td>\n",
       "      <td>7.0</td>\n",
       "      <td>2008-08-26</td>\n",
       "      <td>the game is set in the middle ages and its sto...</td>\n",
       "    </tr>\n",
       "    <tr>\n",
       "      <th>2429</th>\n",
       "      <td>Class of Heroes</td>\n",
       "      <td>PSP</td>\n",
       "      <td>Atlus</td>\n",
       "      <td>ZeroDiv</td>\n",
       "      <td>5.4</td>\n",
       "      <td>2009-06-09</td>\n",
       "      <td>players begin the game by selecting characters...</td>\n",
       "    </tr>\n",
       "    <tr>\n",
       "      <th>419</th>\n",
       "      <td>Madden NFL 10</td>\n",
       "      <td>PS3</td>\n",
       "      <td>EA Sports</td>\n",
       "      <td>EA Tiburon</td>\n",
       "      <td>8.5</td>\n",
       "      <td>2009-08-14</td>\n",
       "      <td>all of the features apply to the ps3 and xbox ...</td>\n",
       "    </tr>\n",
       "    <tr>\n",
       "      <th>1233</th>\n",
       "      <td>Disney Infinity</td>\n",
       "      <td>WiiU</td>\n",
       "      <td>Disney Interactive Studios</td>\n",
       "      <td>Avalanche Software</td>\n",
       "      <td>7.6</td>\n",
       "      <td>2013-08-18</td>\n",
       "      <td>disney infinity games are actionadventure game...</td>\n",
       "    </tr>\n",
       "    <tr>\n",
       "      <th>2687</th>\n",
       "      <td>Bomberman Max 2: Blue Advance</td>\n",
       "      <td>GBA</td>\n",
       "      <td>Majesco</td>\n",
       "      <td>Hudson Soft</td>\n",
       "      <td>7.3</td>\n",
       "      <td>2002-05-30</td>\n",
       "      <td>bomberman and max have been shrunk by the evil...</td>\n",
       "    </tr>\n",
       "  </tbody>\n",
       "</table>\n",
       "</div>"
      ],
      "text/plain": [
       "                               game console                     publisher  \\\n",
       "3791            Murder in the Abbey      PC    DreamCatcher Interactive     \n",
       "2429                Class of Heroes     PSP                       Atlus     \n",
       "419                   Madden NFL 10     PS3                   EA Sports     \n",
       "1233                Disney Infinity    WiiU  Disney Interactive Studios     \n",
       "2687  Bomberman Max 2: Blue Advance     GBA                     Majesco     \n",
       "\n",
       "                 developer  critic_score release_date  \\\n",
       "3791      Alcachofa Soft             7.0   2008-08-26   \n",
       "2429             ZeroDiv             5.4   2009-06-09   \n",
       "419           EA Tiburon             8.5   2009-08-14   \n",
       "1233  Avalanche Software             7.6   2013-08-18   \n",
       "2687         Hudson Soft             7.3   2002-05-30   \n",
       "\n",
       "                                                  plots  \n",
       "3791  the game is set in the middle ages and its sto...  \n",
       "2429  players begin the game by selecting characters...  \n",
       "419   all of the features apply to the ps3 and xbox ...  \n",
       "1233  disney infinity games are actionadventure game...  \n",
       "2687  bomberman and max have been shrunk by the evil...  "
      ]
     },
     "execution_count": 6,
     "metadata": {},
     "output_type": "execute_result"
    }
   ],
   "source": [
    "gdf.plots = gdf.plots.apply(clean_text)\n",
    "gdf.release_date = pd.to_datetime(gdf.release_date, errors='coerce')\n",
    "gdf.critic_score = gdf.critic_score.astype(float)\n",
    "gdf.sample(5)"
   ]
  },
  {
   "cell_type": "markdown",
   "metadata": {},
   "source": [
    "Looking pretty clean, let's go ahead\n",
    "\n",
    "### Modeling\n",
    "\n",
    "We'll get our main data split up here"
   ]
  },
  {
   "cell_type": "code",
   "execution_count": 7,
   "metadata": {},
   "outputs": [],
   "source": [
    "y = gdf[['critic_score']]\n",
    "X = gdf[['developer', 'plots']]\n",
    "X_train, X_test, y_train, y_test = train_test_split(X, y)"
   ]
  },
  {
   "cell_type": "markdown",
   "metadata": {},
   "source": [
    "Let's vectorize our plots for our first simple model, and let's just start with 1000 features"
   ]
  },
  {
   "cell_type": "code",
   "execution_count": 21,
   "metadata": {},
   "outputs": [],
   "source": [
    "tf = TfidfVectorizer(stop_words='english', max_features=1000)\n",
    "X_train_tf = tf.fit_transform(X_train.plots)\n",
    "X_test_tf = tf.transform(X_test.plots)"
   ]
  },
  {
   "cell_type": "markdown",
   "metadata": {},
   "source": [
    "First model we'll try is just a vanilla Random Forest Regressor"
   ]
  },
  {
   "cell_type": "code",
   "execution_count": 22,
   "metadata": {},
   "outputs": [
    {
     "data": {
      "text/plain": [
       "RandomForestRegressor()"
      ]
     },
     "execution_count": 22,
     "metadata": {},
     "output_type": "execute_result"
    }
   ],
   "source": [
    "rf = RandomForestRegressor()\n",
    "rf.fit(X_train_tf, y_train.values.ravel())"
   ]
  },
  {
   "cell_type": "code",
   "execution_count": 23,
   "metadata": {},
   "outputs": [
    {
     "data": {
      "text/plain": [
       "0.3136357461345066"
      ]
     },
     "execution_count": 23,
     "metadata": {},
     "output_type": "execute_result"
    }
   ],
   "source": [
    "rf.score(X_test_tf, y_test.values.ravel())"
   ]
  },
  {
   "cell_type": "markdown",
   "metadata": {},
   "source": [
    "Looks like an FSM score to me...."
   ]
  },
  {
   "cell_type": "markdown",
   "metadata": {},
   "source": [
    "## New idea: Binning our target\n",
    "\n",
    "I'm interested in trying to make a simpler model by binning our target variable. First I would like to try just two classifications of critical success, successful or unsuccessful"
   ]
  },
  {
   "cell_type": "code",
   "execution_count": 24,
   "metadata": {},
   "outputs": [
    {
     "data": {
      "image/png": "[encoded data removed]",
      "text/plain": [
       "<Figure size 432x288 with 1 Axes>"
      ]
     },
     "metadata": {
      "needs_background": "light"
     },
     "output_type": "display_data"
    }
   ],
   "source": [
    "gdf.critic_score.hist();"
   ]
  },
  {
   "cell_type": "markdown",
   "metadata": {},
   "source": [
    "This left-skewed distribution is typical of reviews, so maybe we should make our first split at 7"
   ]
  },
  {
   "cell_type": "code",
   "execution_count": 8,
   "metadata": {},
   "outputs": [
    {
     "data": {
      "text/html": [
       "<div>\n",
       "<style scoped>\n",
       "    .dataframe tbody tr th:only-of-type {\n",
       "        vertical-align: middle;\n",
       "    }\n",
       "\n",
       "    .dataframe tbody tr th {\n",
       "        vertical-align: top;\n",
       "    }\n",
       "\n",
       "    .dataframe thead th {\n",
       "        text-align: right;\n",
       "    }\n",
       "</style>\n",
       "<table border=\"1\" class=\"dataframe\">\n",
       "  <thead>\n",
       "    <tr style=\"text-align: right;\">\n",
       "      <th></th>\n",
       "      <th>game</th>\n",
       "      <th>console</th>\n",
       "      <th>publisher</th>\n",
       "      <th>developer</th>\n",
       "      <th>critic_score</th>\n",
       "      <th>release_date</th>\n",
       "      <th>plots</th>\n",
       "      <th>success</th>\n",
       "    </tr>\n",
       "  </thead>\n",
       "  <tbody>\n",
       "    <tr>\n",
       "      <th>0</th>\n",
       "      <td>Wii Sports</td>\n",
       "      <td>Wii</td>\n",
       "      <td>Nintendo</td>\n",
       "      <td>Nintendo EAD</td>\n",
       "      <td>7.7</td>\n",
       "      <td>2006-11-19</td>\n",
       "      <td>wii sports consists of five separate sports ga...</td>\n",
       "      <td>1</td>\n",
       "    </tr>\n",
       "    <tr>\n",
       "      <th>1</th>\n",
       "      <td>Super Mario Bros.</td>\n",
       "      <td>NES</td>\n",
       "      <td>Nintendo</td>\n",
       "      <td>Nintendo EAD</td>\n",
       "      <td>10.0</td>\n",
       "      <td>1985-10-18</td>\n",
       "      <td>in the fantasy setting of the mushroom kingdom...</td>\n",
       "      <td>1</td>\n",
       "    </tr>\n",
       "    <tr>\n",
       "      <th>2</th>\n",
       "      <td>Mario Kart Wii</td>\n",
       "      <td>Wii</td>\n",
       "      <td>Nintendo</td>\n",
       "      <td>Nintendo EAD</td>\n",
       "      <td>8.2</td>\n",
       "      <td>2008-04-27</td>\n",
       "      <td>mario kart wii is a kart racing game featuring...</td>\n",
       "      <td>1</td>\n",
       "    </tr>\n",
       "    <tr>\n",
       "      <th>3</th>\n",
       "      <td>Minecraft</td>\n",
       "      <td>PC</td>\n",
       "      <td>Mojang</td>\n",
       "      <td>Mojang AB</td>\n",
       "      <td>10.0</td>\n",
       "      <td>2010-05-10</td>\n",
       "      <td>minecraft is a 3d sandbox game that has no spe...</td>\n",
       "      <td>1</td>\n",
       "    </tr>\n",
       "    <tr>\n",
       "      <th>4</th>\n",
       "      <td>Wii Sports Resort</td>\n",
       "      <td>Wii</td>\n",
       "      <td>Nintendo</td>\n",
       "      <td>Nintendo EAD</td>\n",
       "      <td>8.0</td>\n",
       "      <td>2009-07-26</td>\n",
       "      <td>wii sports resort is a sports video game set i...</td>\n",
       "      <td>1</td>\n",
       "    </tr>\n",
       "  </tbody>\n",
       "</table>\n",
       "</div>"
      ],
      "text/plain": [
       "                game console   publisher       developer  critic_score  \\\n",
       "0         Wii Sports     Wii  Nintendo    Nintendo EAD             7.7   \n",
       "1  Super Mario Bros.     NES  Nintendo    Nintendo EAD            10.0   \n",
       "2     Mario Kart Wii     Wii  Nintendo    Nintendo EAD             8.2   \n",
       "3          Minecraft      PC    Mojang       Mojang AB            10.0   \n",
       "4  Wii Sports Resort     Wii  Nintendo    Nintendo EAD             8.0   \n",
       "\n",
       "  release_date                                              plots  success  \n",
       "0   2006-11-19  wii sports consists of five separate sports ga...        1  \n",
       "1   1985-10-18  in the fantasy setting of the mushroom kingdom...        1  \n",
       "2   2008-04-27  mario kart wii is a kart racing game featuring...        1  \n",
       "3   2010-05-10  minecraft is a 3d sandbox game that has no spe...        1  \n",
       "4   2009-07-26  wii sports resort is a sports video game set i...        1  "
      ]
     },
     "execution_count": 8,
     "metadata": {},
     "output_type": "execute_result"
    }
   ],
   "source": [
    "gdf['success'] = (gdf['critic_score'] > 7).astype(int)\n",
    "gdf.head()"
   ]
  },
  {
   "cell_type": "code",
   "execution_count": 9,
   "metadata": {},
   "outputs": [
    {
     "data": {
      "text/plain": [
       "1    2636\n",
       "0    1560\n",
       "Name: success, dtype: int64"
      ]
     },
     "execution_count": 9,
     "metadata": {},
     "output_type": "execute_result"
    }
   ],
   "source": [
    "gdf.success.value_counts()"
   ]
  },
  {
   "cell_type": "markdown",
   "metadata": {},
   "source": [
    "### Modeling again\n",
    "\n",
    "Let's get going with a classifier model\n",
    "\n",
    "I'll use SVM as it tends to work well for these text-based things"
   ]
  },
  {
   "cell_type": "code",
   "execution_count": 10,
   "metadata": {},
   "outputs": [],
   "source": [
    "y = gdf[['success']]\n",
    "X = gdf[['developer', 'plots']]\n",
    "X_train, X_test, y_train, y_test = train_test_split(X, y)"
   ]
  },
  {
   "cell_type": "code",
   "execution_count": 11,
   "metadata": {},
   "outputs": [],
   "source": [
    "tf = TfidfVectorizer(stop_words='english', max_features=1000)\n",
    "X_train_tf = tf.fit_transform(X_train.plots)\n",
    "X_test_tf = tf.transform(X_test.plots)"
   ]
  },
  {
   "cell_type": "code",
   "execution_count": 24,
   "metadata": {},
   "outputs": [
    {
     "data": {
      "text/plain": [
       "SGDClassifier()"
      ]
     },
     "execution_count": 24,
     "metadata": {},
     "output_type": "execute_result"
    }
   ],
   "source": [
    "svm = SGDClassifier()\n",
    "svm.fit(X_train_tf, y_train.values.ravel())"
   ]
  },
  {
   "cell_type": "markdown",
   "metadata": {},
   "source": [
    "Let's see how our accuracy for our base classifier model does"
   ]
  },
  {
   "cell_type": "code",
   "execution_count": 27,
   "metadata": {},
   "outputs": [
    {
     "data": {
      "text/plain": [
       "0.6949475691134414"
      ]
     },
     "execution_count": 27,
     "metadata": {},
     "output_type": "execute_result"
    }
   ],
   "source": [
    "svm.score(X_test_tf, y_test)"
   ]
  },
  {
   "cell_type": "code",
   "execution_count": 29,
   "metadata": {},
   "outputs": [
    {
     "data": {
      "text/plain": [
       "array([[205, 189],\n",
       "       [131, 524]], dtype=int64)"
      ]
     },
     "execution_count": 29,
     "metadata": {},
     "output_type": "execute_result"
    }
   ],
   "source": [
    "confusion_matrix(y_test, svm.predict(X_test_tf))"
   ]
  },
  {
   "cell_type": "markdown",
   "metadata": {},
   "source": [
    "**Not a bad place to start**,  but not great either\n",
    "\n",
    "Last thing I want to try is a tertiary classification"
   ]
  }
 ],
 "metadata": {
  "kernelspec": {
   "display_name": "learn-env",
   "language": "python",
   "name": "learn-env"
  },
  "language_info": {
   "codemirror_mode": {
    "name": "ipython",
    "version": 3
   },
   "file_extension": ".py",
   "mimetype": "text/x-python",
   "name": "python",
   "nbconvert_exporter": "python",
   "pygments_lexer": "ipython3",
   "version": "3.6.10"
  }
 },
 "nbformat": 4,
 "nbformat_minor": 4
}
