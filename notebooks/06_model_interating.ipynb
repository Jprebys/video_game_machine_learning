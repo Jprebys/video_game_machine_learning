{
 "cells": [
  {
   "cell_type": "code",
   "execution_count": 1,
   "metadata": {},
   "outputs": [],
   "source": [
    "import pandas as pd\n",
    "pd.options.mode.chained_assignment = None\n",
    "\n",
    "import numpy as np\n",
    "import wikipedia\n",
    "from sklearn.model_selection import train_test_split, GridSearchCV\n",
    "from sklearn.feature_extraction.text import TfidfVectorizer, CountVectorizer\n",
    "from sklearn.linear_model import SGDClassifier\n",
    "from sklearn.linear_model import LinearRegression\n",
    "from sklearn.naive_bayes import GaussianNB\n",
    "from sklearn.tree import DecisionTreeClassifier\n",
    "from sklearn.ensemble import RandomForestRegressor, RandomForestClassifier\n",
    "from sklearn.metrics import confusion_matrix\n",
    "from nltk.stem import WordNetLemmatizer \n",
    "from sklearn.naive_bayes import MultinomialNB, ComplementNB\n",
    "from sklearn.svm import SVC"
   ]
  },
  {
   "cell_type": "markdown",
   "metadata": {},
   "source": [
    "Let's try to get some model iterations going on, and let's improve that accuracy!\n",
    "\n",
    "We left off with a decision tree classifier"
   ]
  },
  {
   "cell_type": "code",
   "execution_count": 30,
   "metadata": {},
   "outputs": [
    {
     "data": {
      "text/html": [
       "<div>\n",
       "<style scoped>\n",
       "    .dataframe tbody tr th:only-of-type {\n",
       "        vertical-align: middle;\n",
       "    }\n",
       "\n",
       "    .dataframe tbody tr th {\n",
       "        vertical-align: top;\n",
       "    }\n",
       "\n",
       "    .dataframe thead th {\n",
       "        text-align: right;\n",
       "    }\n",
       "</style>\n",
       "<table border=\"1\" class=\"dataframe\">\n",
       "  <thead>\n",
       "    <tr style=\"text-align: right;\">\n",
       "      <th></th>\n",
       "      <th>Name</th>\n",
       "      <th>Platform</th>\n",
       "      <th>Year_of_Release</th>\n",
       "      <th>Genre</th>\n",
       "      <th>Publisher</th>\n",
       "      <th>NA_Sales</th>\n",
       "      <th>EU_Sales</th>\n",
       "      <th>JP_Sales</th>\n",
       "      <th>Other_Sales</th>\n",
       "      <th>Global_Sales</th>\n",
       "      <th>Critic_Score</th>\n",
       "      <th>Critic_Count</th>\n",
       "      <th>User_Score</th>\n",
       "      <th>User_Count</th>\n",
       "      <th>Developer</th>\n",
       "      <th>Rating</th>\n",
       "      <th>plots</th>\n",
       "    </tr>\n",
       "  </thead>\n",
       "  <tbody>\n",
       "    <tr>\n",
       "      <th>3121</th>\n",
       "      <td>Mega Man X: Command Mission</td>\n",
       "      <td>PS2</td>\n",
       "      <td>2004.0</td>\n",
       "      <td>Role-Playing</td>\n",
       "      <td>Capcom</td>\n",
       "      <td>0.09</td>\n",
       "      <td>0.07</td>\n",
       "      <td>0.00</td>\n",
       "      <td>0.02</td>\n",
       "      <td>0.18</td>\n",
       "      <td>69.0</td>\n",
       "      <td>27.0</td>\n",
       "      <td>7.1</td>\n",
       "      <td>18.0</td>\n",
       "      <td>Valuewave Co.,Ltd.</td>\n",
       "      <td>E</td>\n",
       "      <td>Mega Man X Command Mission takes place during ...</td>\n",
       "    </tr>\n",
       "    <tr>\n",
       "      <th>3610</th>\n",
       "      <td>Killer is Dead</td>\n",
       "      <td>X360</td>\n",
       "      <td>2013.0</td>\n",
       "      <td>Action</td>\n",
       "      <td>Deep Silver</td>\n",
       "      <td>0.08</td>\n",
       "      <td>0.02</td>\n",
       "      <td>0.01</td>\n",
       "      <td>0.01</td>\n",
       "      <td>0.12</td>\n",
       "      <td>64.0</td>\n",
       "      <td>38.0</td>\n",
       "      <td>7.2</td>\n",
       "      <td>144.0</td>\n",
       "      <td>Grasshopper Manufacture</td>\n",
       "      <td>M</td>\n",
       "      <td>The game opens with an unhinged former assassi...</td>\n",
       "    </tr>\n",
       "    <tr>\n",
       "      <th>2071</th>\n",
       "      <td>Sega Superstars Tennis</td>\n",
       "      <td>PS2</td>\n",
       "      <td>2008.0</td>\n",
       "      <td>Sports</td>\n",
       "      <td>Sega</td>\n",
       "      <td>0.10</td>\n",
       "      <td>0.00</td>\n",
       "      <td>0.00</td>\n",
       "      <td>0.28</td>\n",
       "      <td>0.38</td>\n",
       "      <td>70.0</td>\n",
       "      <td>9.0</td>\n",
       "      <td>8.3</td>\n",
       "      <td>4.0</td>\n",
       "      <td>Sumo Digital</td>\n",
       "      <td>E10+</td>\n",
       "      <td>Superstar Mode allows the player to complete m...</td>\n",
       "    </tr>\n",
       "    <tr>\n",
       "      <th>2587</th>\n",
       "      <td>Knockout Kings 2002</td>\n",
       "      <td>XB</td>\n",
       "      <td>2002.0</td>\n",
       "      <td>Sports</td>\n",
       "      <td>Electronic Arts</td>\n",
       "      <td>0.20</td>\n",
       "      <td>0.06</td>\n",
       "      <td>0.00</td>\n",
       "      <td>0.01</td>\n",
       "      <td>0.27</td>\n",
       "      <td>78.0</td>\n",
       "      <td>20.0</td>\n",
       "      <td>7.9</td>\n",
       "      <td>7.0</td>\n",
       "      <td>Electronic Arts</td>\n",
       "      <td>T</td>\n",
       "      <td>Knockout Kings 2002 features a different engin...</td>\n",
       "    </tr>\n",
       "    <tr>\n",
       "      <th>4688</th>\n",
       "      <td>Worms: Ultimate Mayhem</td>\n",
       "      <td>PC</td>\n",
       "      <td>2011.0</td>\n",
       "      <td>Strategy</td>\n",
       "      <td>Unknown</td>\n",
       "      <td>0.00</td>\n",
       "      <td>0.03</td>\n",
       "      <td>0.00</td>\n",
       "      <td>0.00</td>\n",
       "      <td>0.04</td>\n",
       "      <td>66.0</td>\n",
       "      <td>4.0</td>\n",
       "      <td>7.8</td>\n",
       "      <td>48.0</td>\n",
       "      <td>Team 17</td>\n",
       "      <td>E10+</td>\n",
       "      <td>Unlike most of the previous 2D Worms games, Wo...</td>\n",
       "    </tr>\n",
       "  </tbody>\n",
       "</table>\n",
       "</div>"
      ],
      "text/plain": [
       "                             Name Platform  Year_of_Release         Genre  \\\n",
       "3121  Mega Man X: Command Mission      PS2           2004.0  Role-Playing   \n",
       "3610               Killer is Dead     X360           2013.0        Action   \n",
       "2071       Sega Superstars Tennis      PS2           2008.0        Sports   \n",
       "2587          Knockout Kings 2002       XB           2002.0        Sports   \n",
       "4688       Worms: Ultimate Mayhem       PC           2011.0      Strategy   \n",
       "\n",
       "            Publisher  NA_Sales  EU_Sales  JP_Sales  Other_Sales  \\\n",
       "3121           Capcom      0.09      0.07      0.00         0.02   \n",
       "3610      Deep Silver      0.08      0.02      0.01         0.01   \n",
       "2071             Sega      0.10      0.00      0.00         0.28   \n",
       "2587  Electronic Arts      0.20      0.06      0.00         0.01   \n",
       "4688          Unknown      0.00      0.03      0.00         0.00   \n",
       "\n",
       "      Global_Sales  Critic_Score  Critic_Count User_Score  User_Count  \\\n",
       "3121          0.18          69.0          27.0        7.1        18.0   \n",
       "3610          0.12          64.0          38.0        7.2       144.0   \n",
       "2071          0.38          70.0           9.0        8.3         4.0   \n",
       "2587          0.27          78.0          20.0        7.9         7.0   \n",
       "4688          0.04          66.0           4.0        7.8        48.0   \n",
       "\n",
       "                    Developer Rating  \\\n",
       "3121       Valuewave Co.,Ltd.      E   \n",
       "3610  Grasshopper Manufacture      M   \n",
       "2071             Sumo Digital   E10+   \n",
       "2587          Electronic Arts      T   \n",
       "4688                  Team 17   E10+   \n",
       "\n",
       "                                                  plots  \n",
       "3121  Mega Man X Command Mission takes place during ...  \n",
       "3610  The game opens with an unhinged former assassi...  \n",
       "2071  Superstar Mode allows the player to complete m...  \n",
       "2587  Knockout Kings 2002 features a different engin...  \n",
       "4688  Unlike most of the previous 2D Worms games, Wo...  "
      ]
     },
     "execution_count": 30,
     "metadata": {},
     "output_type": "execute_result"
    }
   ],
   "source": [
    "df = pd.read_csv('../data/final_plots.csv').drop('Unnamed: 0', axis=1)\n",
    "df.sample(5)"
   ]
  },
  {
   "cell_type": "code",
   "execution_count": 31,
   "metadata": {},
   "outputs": [],
   "source": [
    "def success(value):\n",
    "    '''\n",
    "    function for binning the critic scores\n",
    "    '''\n",
    "    \n",
    "    if value > 60:\n",
    "        if value > 75:\n",
    "            return 2\n",
    "        return 1\n",
    "    return 0"
   ]
  },
  {
   "cell_type": "code",
   "execution_count": 32,
   "metadata": {},
   "outputs": [],
   "source": [
    "df['success'] = df.Critic_Score.apply(success)"
   ]
  },
  {
   "cell_type": "code",
   "execution_count": 34,
   "metadata": {},
   "outputs": [
    {
     "data": {
      "text/plain": [
       "1    1949\n",
       "2    1919\n",
       "0    1275\n",
       "Name: success, dtype: int64"
      ]
     },
     "execution_count": 34,
     "metadata": {},
     "output_type": "execute_result"
    }
   ],
   "source": [
    "df.success.value_counts()"
   ]
  },
  {
   "cell_type": "code",
   "execution_count": 6,
   "metadata": {},
   "outputs": [],
   "source": [
    "y = df[['success']]\n",
    "X = df[['plots']]\n",
    "X_train, X_test, y_train, y_test = train_test_split(X, y)"
   ]
  },
  {
   "cell_type": "code",
   "execution_count": 7,
   "metadata": {},
   "outputs": [],
   "source": [
    "tf = TfidfVectorizer(stop_words='english', max_features=1000)\n",
    "X_train_tf = tf.fit_transform(X_train.plots)\n",
    "X_test_tf = tf.transform(X_test.plots)"
   ]
  },
  {
   "cell_type": "code",
   "execution_count": 8,
   "metadata": {},
   "outputs": [
    {
     "data": {
      "text/plain": [
       "DecisionTreeClassifier()"
      ]
     },
     "execution_count": 8,
     "metadata": {},
     "output_type": "execute_result"
    }
   ],
   "source": [
    "dt = DecisionTreeClassifier()\n",
    "dt.fit(X_train_tf, y_train)"
   ]
  },
  {
   "cell_type": "code",
   "execution_count": 9,
   "metadata": {},
   "outputs": [
    {
     "name": "stdout",
     "output_type": "stream",
     "text": [
      "train acc:  0.9261083743842364\n",
      "test acc:  0.6111975116640747\n"
     ]
    }
   ],
   "source": [
    "print('train acc: ', dt.score(X_train_tf, y_train))\n",
    "print('test acc: ', dt.score(X_test_tf, y_test))"
   ]
  },
  {
   "cell_type": "markdown",
   "metadata": {},
   "source": [
    "Alright so we've got our decision tree classifier, and surprise! we're way overfit\n",
    "\n",
    "It's not a bad place to start though, almost 60% accuracy with a 3-class classifier\n",
    "\n",
    "### Model 2\n",
    "\n",
    "What I'd like to do next is to lemmatize the words before vectorizing. Undoubtedly we're getting some different conjugations and word tenses muddying up our data. We'll modify our clean_text function to lemmatize the words as well"
   ]
  },
  {
   "cell_type": "code",
   "execution_count": 10,
   "metadata": {},
   "outputs": [],
   "source": [
    "def clean_text(text):\n",
    "    import string\n",
    "    wnl = WordNetLemmatizer()\n",
    "    words = [''.join(ch for ch in s if ch not in string.punctuation) for s in text.split()]\n",
    "    words = [wnl.lemmatize(word) for word in words]\n",
    "    return ' '.join(words).lower()"
   ]
  },
  {
   "cell_type": "code",
   "execution_count": 11,
   "metadata": {},
   "outputs": [
    {
     "data": {
      "text/plain": [
       "'princess peach is held captive in her castle by bowser bowser jr and the koopalings who invade and use a giant mechanical arm to throw mario luigi and two toads far away mario and friend must now travel across this new land returning to peachs castle in order to save her on the way they encounter seven koopalings each controlling their own world plus kamek nabbit bowser jr and many minor monster like goomba by conquering them they get closer to peachs castle which ha been transformed into an evil reflection of bowser by defeating bowser the castle return to normal as the hero celebrate bowser jr and the koopalings attempt to escape almost leaving bowser behind he manages to jump up onto the airship but his weight cause it to crash and they are forced to flee on bowser jrs koopa clown car'"
      ]
     },
     "execution_count": 11,
     "metadata": {},
     "output_type": "execute_result"
    }
   ],
   "source": [
    "df.plots = df.plots.apply(clean_text)\n",
    "df.plots[100]"
   ]
  },
  {
   "cell_type": "markdown",
   "metadata": {},
   "source": [
    "Now there's no punctuation, and the words have been slightly lemmatized...? \n",
    "\n",
    "**note** I'm not too happy with the lemmatizer, words like 'conquering' 'returning' 'held', I thought it would deal with those\n",
    "\n",
    "Let's try our decision tree again"
   ]
  },
  {
   "cell_type": "code",
   "execution_count": 12,
   "metadata": {},
   "outputs": [],
   "source": [
    "y = df[['success']]\n",
    "X = df[['plots']]\n",
    "X_train, X_test, y_train, y_test = train_test_split(X, y)"
   ]
  },
  {
   "cell_type": "code",
   "execution_count": 13,
   "metadata": {},
   "outputs": [
    {
     "data": {
      "text/plain": [
       "DecisionTreeClassifier(class_weight='balanced')"
      ]
     },
     "execution_count": 13,
     "metadata": {},
     "output_type": "execute_result"
    }
   ],
   "source": [
    "tf = TfidfVectorizer(stop_words='english', max_features=2000)\n",
    "X_train_tf = tf.fit_transform(X_train.plots)\n",
    "X_test_tf = tf.transform(X_test.plots)\n",
    "dt = DecisionTreeClassifier(class_weight='balanced')\n",
    "dt.fit(X_train_tf, y_train)"
   ]
  },
  {
   "cell_type": "code",
   "execution_count": 14,
   "metadata": {},
   "outputs": [
    {
     "name": "stdout",
     "output_type": "stream",
     "text": [
      "train acc:  0.925589836660617\n",
      "test acc:  0.5746500777604977\n"
     ]
    }
   ],
   "source": [
    "print('train acc: ', dt.score(X_train_tf, y_train))\n",
    "print('test acc: ', dt.score(X_test_tf, y_test))"
   ]
  },
  {
   "cell_type": "markdown",
   "metadata": {},
   "source": [
    "Grabbing that one percent, alright\n",
    "\n",
    "### Model 3\n",
    "\n",
    "Let's try a naive bayes classifier...the big guns"
   ]
  },
  {
   "cell_type": "code",
   "execution_count": 15,
   "metadata": {},
   "outputs": [],
   "source": [
    "nb = MultinomialNB()"
   ]
  },
  {
   "cell_type": "code",
   "execution_count": 16,
   "metadata": {},
   "outputs": [
    {
     "data": {
      "text/plain": [
       "MultinomialNB()"
      ]
     },
     "execution_count": 16,
     "metadata": {},
     "output_type": "execute_result"
    }
   ],
   "source": [
    "nb.fit(X_train_tf, y_train.values.ravel())"
   ]
  },
  {
   "cell_type": "code",
   "execution_count": 17,
   "metadata": {},
   "outputs": [
    {
     "name": "stdout",
     "output_type": "stream",
     "text": [
      "train acc:  0.6543946072076744\n",
      "test acc:  0.5139968895800933\n"
     ]
    }
   ],
   "source": [
    "print('train acc: ', nb.score(X_train_tf, y_train))\n",
    "print('test acc: ', nb.score(X_test_tf, y_test))"
   ]
  },
  {
   "cell_type": "markdown",
   "metadata": {},
   "source": [
    "So that's worse, I think because the multinomial naive Bayes algorithm is best suited to deal with the integer features of count-vectorized language.\n",
    "\n",
    "let's just see if that helps"
   ]
  },
  {
   "cell_type": "code",
   "execution_count": 18,
   "metadata": {},
   "outputs": [],
   "source": [
    "cv = CountVectorizer(max_features=2000)\n",
    "X_train_cv = cv.fit_transform(X_train.plots)\n",
    "X_test_cv = cv.transform(X_test.plots)"
   ]
  },
  {
   "cell_type": "code",
   "execution_count": 19,
   "metadata": {},
   "outputs": [
    {
     "data": {
      "text/plain": [
       "MultinomialNB()"
      ]
     },
     "execution_count": 19,
     "metadata": {},
     "output_type": "execute_result"
    }
   ],
   "source": [
    "nb.fit(X_train_cv, y_train.values.ravel())"
   ]
  },
  {
   "cell_type": "code",
   "execution_count": 20,
   "metadata": {},
   "outputs": [
    {
     "name": "stdout",
     "output_type": "stream",
     "text": [
      "train acc:  0.5644283121597096\n",
      "test acc:  0.4821150855365474\n"
     ]
    }
   ],
   "source": [
    "print('train acc: ', nb.score(X_train_cv, y_train))\n",
    "print('test acc: ', nb.score(X_test_cv, y_test))"
   ]
  },
  {
   "cell_type": "markdown",
   "metadata": {},
   "source": [
    "*It was worth a shot, alright!?*\n",
    "\n",
    "### Model 4\n",
    "\n",
    "Now I'd like to try a random forest classifier....the *really* big guns\n",
    "\n",
    "First we'll just see what the vanilla classifier can do here"
   ]
  },
  {
   "cell_type": "code",
   "execution_count": 21,
   "metadata": {},
   "outputs": [
    {
     "data": {
      "text/plain": [
       "RandomForestClassifier(class_weight='balanced')"
      ]
     },
     "execution_count": 21,
     "metadata": {},
     "output_type": "execute_result"
    }
   ],
   "source": [
    "tf = TfidfVectorizer(stop_words='english', max_features=3000, ngram_range=(1,2))\n",
    "X_train_tf = tf.fit_transform(X_train.plots)\n",
    "X_test_tf = tf.transform(X_test.plots)\n",
    "rf = RandomForestClassifier(class_weight='balanced')\n",
    "rf.fit(X_train_tf, y_train.values.ravel())"
   ]
  },
  {
   "cell_type": "code",
   "execution_count": 22,
   "metadata": {},
   "outputs": [
    {
     "name": "stdout",
     "output_type": "stream",
     "text": [
      "train acc:  0.9261083743842364\n",
      "test acc:  0.6314152410575428\n"
     ]
    }
   ],
   "source": [
    "print('train acc: ', rf.score(X_train_tf, y_train))\n",
    "print('test acc: ', rf.score(X_test_tf, y_test))"
   ]
  },
  {
   "cell_type": "markdown",
   "metadata": {},
   "source": [
    "Eeking out those percentages once again\n"
   ]
  },
  {
   "cell_type": "code",
   "execution_count": 23,
   "metadata": {},
   "outputs": [
    {
     "data": {
      "text/plain": [
       "SVC()"
      ]
     },
     "execution_count": 23,
     "metadata": {},
     "output_type": "execute_result"
    }
   ],
   "source": [
    "svc = SVC()\n",
    "svc.fit(X_train_tf, y_train.values.ravel())"
   ]
  },
  {
   "cell_type": "code",
   "execution_count": 24,
   "metadata": {},
   "outputs": [
    {
     "name": "stdout",
     "output_type": "stream",
     "text": [
      "train acc:  0.9261083743842364\n",
      "test acc:  0.6314152410575428\n"
     ]
    }
   ],
   "source": [
    "print('train acc: ', rf.score(X_train_tf, y_train))\n",
    "print('test acc: ', rf.score(X_test_tf, y_test))"
   ]
  },
  {
   "cell_type": "markdown",
   "metadata": {},
   "source": [
    "### Time to blow it up with a *mean* grid search"
   ]
  },
  {
   "cell_type": "code",
   "execution_count": 25,
   "metadata": {},
   "outputs": [],
   "source": [
    "params = {'C': [.2, .5, 1],\n",
    "          'kernel': ['poly', 'linear'],\n",
    "          'class_weight': ['balanced', None]}\n",
    "svc = SVC()\n",
    "gs = GridSearchCV(svc, params)\n"
   ]
  },
  {
   "cell_type": "code",
   "execution_count": 26,
   "metadata": {},
   "outputs": [],
   "source": [
    "# gs.fit(X_train_tf, y_train.values.ravel())"
   ]
  },
  {
   "cell_type": "code",
   "execution_count": 27,
   "metadata": {},
   "outputs": [
    {
     "ename": "AttributeError",
     "evalue": "'GridSearchCV' object has no attribute 'best_params_'",
     "output_type": "error",
     "traceback": [
      "\u001b[1;31m---------------------------------------------------------------------------\u001b[0m",
      "\u001b[1;31mAttributeError\u001b[0m                            Traceback (most recent call last)",
      "\u001b[1;32m<ipython-input-27-df2c2bd0f67e>\u001b[0m in \u001b[0;36m<module>\u001b[1;34m\u001b[0m\n\u001b[1;32m----> 1\u001b[1;33m \u001b[0mgs\u001b[0m\u001b[1;33m.\u001b[0m\u001b[0mbest_params_\u001b[0m\u001b[1;33m\u001b[0m\u001b[1;33m\u001b[0m\u001b[0m\n\u001b[0m",
      "\u001b[1;31mAttributeError\u001b[0m: 'GridSearchCV' object has no attribute 'best_params_'"
     ]
    }
   ],
   "source": [
    "gs.best_params_"
   ]
  },
  {
   "cell_type": "code",
   "execution_count": null,
   "metadata": {},
   "outputs": [],
   "source": [
    "gs.best_estimator_.score(X_test_tf, y_test)"
   ]
  },
  {
   "cell_type": "code",
   "execution_count": 28,
   "metadata": {},
   "outputs": [],
   "source": [
    "feature_array = np.array(tf.get_feature_names())\n",
    "tfidf_sorting = np.argsort(X_train_tf.toarray()).flatten()[::-1]\n",
    "\n",
    "n = 100\n",
    "top_n = feature_array[tfidf_sorting][:n]"
   ]
  },
  {
   "cell_type": "code",
   "execution_count": 29,
   "metadata": {},
   "outputs": [
    {
     "data": {
      "text/plain": [
       "array(['heroes', 'moon', 'empire', 'character', 'red', 'silver',\n",
       "       'original', 'golden', 'super', 'yellow', 'fifth', 'named',\n",
       "       'exception', 'male', 'bear', 'resurrected', 'treasure', 'creation',\n",
       "       'female', 'legendary', 'blue', 'storyline', 'eye', 'stone',\n",
       "       'unlike', 'chosen', 'ruin', 'god', 'explosion', 'difficulty',\n",
       "       'year later', 'organization', 'warrior', 'previous game', 'bos',\n",
       "       'destruction', 'unknown', 'combat', 'playing', 'earth', 'created',\n",
       "       'taking', 'based', 'previous', 'game', 'travel', 'plan', 'final',\n",
       "       'stop', 'different', 'story', 'known', 'year', 'reveals', 'called',\n",
       "       'place', 'later', 'end', 'power', 'new', 'wa', 'player', 'ha',\n",
       "       'fighting way', 'featuring', 'figure', 'file', 'feature',\n",
       "       'featured', 'fighting', 'federation', 'feng', 'fighter',\n",
       "       'fight way', 'feel', 'fight', 'feeling', 'fellow', 'fictional',\n",
       "       'fend', 'field', 'zoo', 'fear', 'fact', 'failure', 'fails',\n",
       "       'failing', 'failed', 'fail', 'factory', 'factor', 'faction',\n",
       "       'facing', 'faith', 'facility', 'face', 'ezio', 'extract', 'extra',\n",
       "       'expose'], dtype='<U23')"
      ]
     },
     "execution_count": 29,
     "metadata": {},
     "output_type": "execute_result"
    }
   ],
   "source": [
    "top_n"
   ]
  },
  {
   "cell_type": "code",
   "execution_count": 35,
   "metadata": {},
   "outputs": [
    {
     "data": {
      "text/plain": [
       "array([1275, 1744,  872, ..., 1993, 1992,    0], dtype=int64)"
      ]
     },
     "execution_count": 35,
     "metadata": {},
     "output_type": "execute_result"
    }
   ],
   "source": [
    "tfidf_sorting"
   ]
  },
  {
   "cell_type": "code",
   "execution_count": 38,
   "metadata": {},
   "outputs": [
    {
     "data": {
      "text/plain": [
       "array([[   0, 1992, 1993, ...,  557, 2852, 2851],\n",
       "       [   0, 1975, 1976, ..., 2883,  237, 1704],\n",
       "       [   0, 1961, 1962, ..., 2060, 1740, 2648],\n",
       "       ...,\n",
       "       [   0, 1988, 1989, ..., 1396, 2114, 2676],\n",
       "       [   0, 1985, 1986, ..., 1414,  904,  258],\n",
       "       [   0, 1983, 1984, ...,  872, 1744, 1275]], dtype=int64)"
      ]
     },
     "execution_count": 38,
     "metadata": {},
     "output_type": "execute_result"
    }
   ],
   "source": [
    "np.argsort(X_train_tf.toarray())"
   ]
  },
  {
   "cell_type": "code",
   "execution_count": 68,
   "metadata": {},
   "outputs": [
    {
     "data": {
      "image/png": "[encoded data removed]",
      "text/plain": [
       "<Figure size 864x864 with 2 Axes>"
      ]
     },
     "metadata": {},
     "output_type": "display_data"
    }
   ],
   "source": [
    "from sklearn.metrics import plot_confusion_matrix\n",
    "import matplotlib.pyplot as plt\n",
    "plt.style.use('fivethirtyeight')\n",
    "plt.rcParams['font.size'] = 24\n",
    "plt.rc_context({ 'xtick.color':'#F59899', 'ytick.color':'#F59899', 'figure.facecolor':'white'})\n",
    "fig, ax = plt.subplots(figsize=(12,12))\n",
    "plot_confusion_matrix(rf, X_test_tf, y_test, cmap='Blues', ax=ax);\n",
    "ax.set_ylabel('True Value', color='#F59899')\n",
    "ax.set_title('Model Results', color='#F59899')\n",
    "\n",
    "ax.set_xlabel('Predicted Value', color='#F59899')\n",
    "ax.grid(False)\n",
    "plt.savefig('../src/figures/confusion.png', transparent=True)"
   ]
  },
  {
   "cell_type": "code",
   "execution_count": null,
   "metadata": {},
   "outputs": [],
   "source": []
  }
 ],
 "metadata": {
  "kernelspec": {
   "display_name": "learn-env",
   "language": "python",
   "name": "learn-env"
  },
  "language_info": {
   "codemirror_mode": {
    "name": "ipython",
    "version": 3
   },
   "file_extension": ".py",
   "mimetype": "text/x-python",
   "name": "python",
   "nbconvert_exporter": "python",
   "pygments_lexer": "ipython3",
   "version": "3.6.10"
  }
 },
 "nbformat": 4,
 "nbformat_minor": 4
}
