{
 "cells": [
  {
   "cell_type": "code",
   "execution_count": 1,
   "metadata": {},
   "outputs": [],
   "source": [
    "import pandas as pd\n",
    "pd.options.mode.chained_assignment = None\n",
    "\n",
    "import numpy as np\n",
    "import wikipedia\n",
    "from sklearn.model_selection import train_test_split, GridSearchCV\n",
    "from sklearn.feature_extraction.text import TfidfVectorizer, CountVectorizer\n",
    "from sklearn.linear_model import SGDClassifier\n",
    "from sklearn.linear_model import LinearRegression\n",
    "from sklearn.naive_bayes import GaussianNB\n",
    "from sklearn.tree import DecisionTreeClassifier\n",
    "from sklearn.ensemble import RandomForestRegressor, RandomForestClassifier\n",
    "from sklearn.metrics import confusion_matrix\n",
    "from nltk.stem import WordNetLemmatizer \n",
    "from nltk.corpus import stopwords\n",
    "from sklearn.naive_bayes import MultinomialNB, ComplementNB\n",
    "from sklearn.svm import SVC"
   ]
  },
  {
   "cell_type": "markdown",
   "metadata": {},
   "source": [
    "Let's try to get some model iterations going on, and let's improve that accuracy!\n",
    "\n",
    "We left off with a decision tree classifier"
   ]
  },
  {
   "cell_type": "code",
   "execution_count": 2,
   "metadata": {},
   "outputs": [
    {
     "data": {
      "text/html": [
       "<div>\n",
       "<style scoped>\n",
       "    .dataframe tbody tr th:only-of-type {\n",
       "        vertical-align: middle;\n",
       "    }\n",
       "\n",
       "    .dataframe tbody tr th {\n",
       "        vertical-align: top;\n",
       "    }\n",
       "\n",
       "    .dataframe thead th {\n",
       "        text-align: right;\n",
       "    }\n",
       "</style>\n",
       "<table border=\"1\" class=\"dataframe\">\n",
       "  <thead>\n",
       "    <tr style=\"text-align: right;\">\n",
       "      <th></th>\n",
       "      <th>Name</th>\n",
       "      <th>Platform</th>\n",
       "      <th>Year_of_Release</th>\n",
       "      <th>Genre</th>\n",
       "      <th>Publisher</th>\n",
       "      <th>NA_Sales</th>\n",
       "      <th>EU_Sales</th>\n",
       "      <th>JP_Sales</th>\n",
       "      <th>Other_Sales</th>\n",
       "      <th>Global_Sales</th>\n",
       "      <th>Critic_Score</th>\n",
       "      <th>Critic_Count</th>\n",
       "      <th>User_Score</th>\n",
       "      <th>User_Count</th>\n",
       "      <th>Developer</th>\n",
       "      <th>Rating</th>\n",
       "      <th>plots</th>\n",
       "    </tr>\n",
       "  </thead>\n",
       "  <tbody>\n",
       "    <tr>\n",
       "      <th>2551</th>\n",
       "      <td>Frogger's Adventures: The Rescue</td>\n",
       "      <td>PS2</td>\n",
       "      <td>2003.0</td>\n",
       "      <td>Platform</td>\n",
       "      <td>Konami Digital Entertainment</td>\n",
       "      <td>0.16</td>\n",
       "      <td>0.12</td>\n",
       "      <td>0.00</td>\n",
       "      <td>0.04</td>\n",
       "      <td>0.32</td>\n",
       "      <td>59.0</td>\n",
       "      <td>12.0</td>\n",
       "      <td>8.5</td>\n",
       "      <td>6.0</td>\n",
       "      <td>Konami</td>\n",
       "      <td>E</td>\n",
       "      <td>The game contains hop-and-dodge style gameplay...</td>\n",
       "    </tr>\n",
       "    <tr>\n",
       "      <th>4630</th>\n",
       "      <td>Age of Empires III: The Asian Dynasties</td>\n",
       "      <td>PC</td>\n",
       "      <td>2007.0</td>\n",
       "      <td>Strategy</td>\n",
       "      <td>Microsoft Game Studios</td>\n",
       "      <td>0.00</td>\n",
       "      <td>0.05</td>\n",
       "      <td>0.00</td>\n",
       "      <td>0.01</td>\n",
       "      <td>0.06</td>\n",
       "      <td>81.0</td>\n",
       "      <td>19.0</td>\n",
       "      <td>8.5</td>\n",
       "      <td>71.0</td>\n",
       "      <td>Big Huge Games</td>\n",
       "      <td>T</td>\n",
       "      <td>The gameplay of Age of Empires III: The Asian ...</td>\n",
       "    </tr>\n",
       "    <tr>\n",
       "      <th>3356</th>\n",
       "      <td>Blood Omen 2</td>\n",
       "      <td>XB</td>\n",
       "      <td>2002.0</td>\n",
       "      <td>Action</td>\n",
       "      <td>Eidos Interactive</td>\n",
       "      <td>0.14</td>\n",
       "      <td>0.04</td>\n",
       "      <td>0.00</td>\n",
       "      <td>0.01</td>\n",
       "      <td>0.19</td>\n",
       "      <td>76.0</td>\n",
       "      <td>22.0</td>\n",
       "      <td>9</td>\n",
       "      <td>9.0</td>\n",
       "      <td>Crystal Dynamics</td>\n",
       "      <td>M</td>\n",
       "      <td>Gameplay is presented in 3D and is a combinati...</td>\n",
       "    </tr>\n",
       "    <tr>\n",
       "      <th>3125</th>\n",
       "      <td>The Dukes of Hazzard: Return of the General Lee</td>\n",
       "      <td>PS2</td>\n",
       "      <td>2004.0</td>\n",
       "      <td>Racing</td>\n",
       "      <td>Ubisoft</td>\n",
       "      <td>0.11</td>\n",
       "      <td>0.08</td>\n",
       "      <td>0.00</td>\n",
       "      <td>0.03</td>\n",
       "      <td>0.21</td>\n",
       "      <td>52.0</td>\n",
       "      <td>17.0</td>\n",
       "      <td>6.8</td>\n",
       "      <td>8.0</td>\n",
       "      <td>Ratbag</td>\n",
       "      <td>E</td>\n",
       "      <td>The Duke cousins must help Hazzard Countys loc...</td>\n",
       "    </tr>\n",
       "    <tr>\n",
       "      <th>1785</th>\n",
       "      <td>Metro 2033</td>\n",
       "      <td>X360</td>\n",
       "      <td>2010.0</td>\n",
       "      <td>Shooter</td>\n",
       "      <td>THQ</td>\n",
       "      <td>0.22</td>\n",
       "      <td>0.23</td>\n",
       "      <td>0.03</td>\n",
       "      <td>0.05</td>\n",
       "      <td>0.54</td>\n",
       "      <td>77.0</td>\n",
       "      <td>83.0</td>\n",
       "      <td>7.9</td>\n",
       "      <td>351.0</td>\n",
       "      <td>4A Games</td>\n",
       "      <td>M</td>\n",
       "      <td>The protagonist of the novel is a 20-year-old ...</td>\n",
       "    </tr>\n",
       "  </tbody>\n",
       "</table>\n",
       "</div>"
      ],
      "text/plain": [
       "                                                 Name Platform  \\\n",
       "2551                 Frogger's Adventures: The Rescue      PS2   \n",
       "4630          Age of Empires III: The Asian Dynasties       PC   \n",
       "3356                                     Blood Omen 2       XB   \n",
       "3125  The Dukes of Hazzard: Return of the General Lee      PS2   \n",
       "1785                                       Metro 2033     X360   \n",
       "\n",
       "      Year_of_Release     Genre                     Publisher  NA_Sales  \\\n",
       "2551           2003.0  Platform  Konami Digital Entertainment      0.16   \n",
       "4630           2007.0  Strategy        Microsoft Game Studios      0.00   \n",
       "3356           2002.0    Action             Eidos Interactive      0.14   \n",
       "3125           2004.0    Racing                       Ubisoft      0.11   \n",
       "1785           2010.0   Shooter                           THQ      0.22   \n",
       "\n",
       "      EU_Sales  JP_Sales  Other_Sales  Global_Sales  Critic_Score  \\\n",
       "2551      0.12      0.00         0.04          0.32          59.0   \n",
       "4630      0.05      0.00         0.01          0.06          81.0   \n",
       "3356      0.04      0.00         0.01          0.19          76.0   \n",
       "3125      0.08      0.00         0.03          0.21          52.0   \n",
       "1785      0.23      0.03         0.05          0.54          77.0   \n",
       "\n",
       "      Critic_Count User_Score  User_Count         Developer Rating  \\\n",
       "2551          12.0        8.5         6.0            Konami      E   \n",
       "4630          19.0        8.5        71.0    Big Huge Games      T   \n",
       "3356          22.0          9         9.0  Crystal Dynamics      M   \n",
       "3125          17.0        6.8         8.0            Ratbag      E   \n",
       "1785          83.0        7.9       351.0          4A Games      M   \n",
       "\n",
       "                                                  plots  \n",
       "2551  The game contains hop-and-dodge style gameplay...  \n",
       "4630  The gameplay of Age of Empires III: The Asian ...  \n",
       "3356  Gameplay is presented in 3D and is a combinati...  \n",
       "3125  The Duke cousins must help Hazzard Countys loc...  \n",
       "1785  The protagonist of the novel is a 20-year-old ...  "
      ]
     },
     "execution_count": 2,
     "metadata": {},
     "output_type": "execute_result"
    }
   ],
   "source": [
    "df = pd.read_csv('../data/WEEK_2_DESCRIPTIONS.csv').drop('Unnamed: 0', axis=1)\n",
    "df.sample(5)"
   ]
  },
  {
   "cell_type": "code",
   "execution_count": 3,
   "metadata": {},
   "outputs": [],
   "source": [
    "def success(value):\n",
    "    '''\n",
    "    function for binning the critic scores\n",
    "    '''\n",
    "    \n",
    "    if value > 60:\n",
    "        if value > 75:\n",
    "            return 2\n",
    "        return 1\n",
    "    return 0"
   ]
  },
  {
   "cell_type": "code",
   "execution_count": 4,
   "metadata": {},
   "outputs": [],
   "source": [
    "df['success'] = df.Critic_Score.apply(success)"
   ]
  },
  {
   "cell_type": "code",
   "execution_count": 5,
   "metadata": {},
   "outputs": [
    {
     "data": {
      "text/plain": [
       "2    2121\n",
       "1    2077\n",
       "0    1301\n",
       "Name: success, dtype: int64"
      ]
     },
     "execution_count": 5,
     "metadata": {},
     "output_type": "execute_result"
    }
   ],
   "source": [
    "df.success.value_counts()"
   ]
  },
  {
   "cell_type": "code",
   "execution_count": 6,
   "metadata": {},
   "outputs": [],
   "source": [
    "y = df[['success']]\n",
    "X = df[['plots']]\n",
    "X_train, X_test, y_train, y_test = train_test_split(X, y)"
   ]
  },
  {
   "cell_type": "code",
   "execution_count": 7,
   "metadata": {},
   "outputs": [],
   "source": [
    "tf = TfidfVectorizer(stop_words='english', max_features=1000)\n",
    "X_train_tf = tf.fit_transform(X_train.plots)\n",
    "X_test_tf = tf.transform(X_test.plots)"
   ]
  },
  {
   "cell_type": "code",
   "execution_count": 8,
   "metadata": {},
   "outputs": [
    {
     "data": {
      "text/plain": [
       "DecisionTreeClassifier()"
      ]
     },
     "execution_count": 8,
     "metadata": {},
     "output_type": "execute_result"
    }
   ],
   "source": [
    "dt = DecisionTreeClassifier()\n",
    "dt.fit(X_train_tf, y_train)"
   ]
  },
  {
   "cell_type": "code",
   "execution_count": 9,
   "metadata": {},
   "outputs": [
    {
     "name": "stdout",
     "output_type": "stream",
     "text": [
      "train acc:  0.9209505334626577\n",
      "test acc:  0.5963636363636363\n"
     ]
    }
   ],
   "source": [
    "print('train acc: ', dt.score(X_train_tf, y_train))\n",
    "print('test acc: ', dt.score(X_test_tf, y_test))"
   ]
  },
  {
   "cell_type": "markdown",
   "metadata": {},
   "source": [
    "Alright so we've got our decision tree classifier, and surprise! we're way overfit\n",
    "\n",
    "It's not a bad place to start though, almost 60% accuracy with a 3-class classifier\n",
    "\n",
    "### Model 2\n",
    "\n",
    "What I'd like to do next is to lemmatize the words before vectorizing. Undoubtedly we're getting some different conjugations and word tenses muddying up our data. We'll modify our clean_text function to lemmatize the words as well"
   ]
  },
  {
   "cell_type": "code",
   "execution_count": 10,
   "metadata": {},
   "outputs": [],
   "source": [
    "def clean_text(text):\n",
    "    import string\n",
    "    wnl = WordNetLemmatizer()\n",
    "    words = [''.join(ch for ch in s if ch not in string.punctuation) for s in text.split()]\n",
    "    words = [wnl.lemmatize(word) for word in words]\n",
    "    return ' '.join(words).lower()"
   ]
  },
  {
   "cell_type": "code",
   "execution_count": 11,
   "metadata": {},
   "outputs": [
    {
     "data": {
      "text/plain": [
       "'new addition to the game include an incar driving view one button assisted driving vehicle rollover with detailed undercarriage drifting drag racing and suvs mostly crossovers also new to the series is the addition of stock car albeit generic furthermore the game also provides the ability to paint and upgrade all car whereas forza motorsport 2 only allowed for production and tuner car to be painted or upgraded although one downloadable peugeot lmp could be painted also included is the ability to upgrade certain production and tuner car to the raceclass level represented by the performance rating r3 r2 and r1 whereas forza motorsport 2 did not a well a the ability to create ingame video and upload them to the forza motorsport website forza motorsport 3 is shipped on two disc but only utilizes one for gameplay the second disc serf a the installation disc which contains extra vehicle and track content 19gb in total forza motorsport 3 support only two force feedback racing wheel the microsoft wireless racing wheel and the porsche 911 turbo s wheel made by fanateca new singleplayer season mode put the player through a completely personalized racing calendar that includes more than 200 different event including circuit oval drag drift and timed event personalized to the player taste new to the series are circuit de la sarthe and circuit de catalunya these track join road atlanta road america twin ring motegi silverstone laguna seca tsukuba mugello circuit sebring international raceway suzuka circuit and nürburgring nordschleife a the licensed realworld track included in the gamein addition the online multiplayer mode gain an allnew game rule editor new xbox live scoreboard display not only the greatest racer but also the most prolific car tuner and painter in the community forza motorsport 3 received great recognition for it accessibility feature most notably an assist mode allowing acceleration and braking to be automatically controlled reducing the number of input required to just two—left and right for steering this allows compatibility with a wide range of assistive technology device via switch access opening up the game to player with multiple and profound disability that prevent them from operating a standard controller the game includes a large variety of xbox live content and option available to online gamers this is based around a completely redesigned storefront it allows gamers to create car design setup file logo and sell them via the storefront to other gamers further flexibility is available allowing player to select how many of each car design or logo will be available the storefront feature is not available to xbox live silver member xbox live user are also able to buy and sell car via the auction house cars are put up for a certain amount of time and for a certain amount of ingame currency players can choose to outbid each other in order to buy a car players can also buy and sell their personalized paint job for car'"
      ]
     },
     "execution_count": 11,
     "metadata": {},
     "output_type": "execute_result"
    }
   ],
   "source": [
    "df.plots = df.plots.apply(clean_text)\n",
    "df.plots[100]"
   ]
  },
  {
   "cell_type": "markdown",
   "metadata": {},
   "source": [
    "Now there's no punctuation, and the words have been slightly lemmatized...? \n",
    "\n",
    "**note** I'm not too happy with the lemmatizer, words like 'conquering' 'returning' 'held', I thought it would deal with those\n",
    "\n",
    "Let's try our decision tree again"
   ]
  },
  {
   "cell_type": "code",
   "execution_count": 12,
   "metadata": {},
   "outputs": [],
   "source": [
    "y = df[['success']]\n",
    "X = df[['plots']]\n",
    "X_train, X_test, y_train, y_test = train_test_split(X, y)"
   ]
  },
  {
   "cell_type": "code",
   "execution_count": 13,
   "metadata": {},
   "outputs": [
    {
     "data": {
      "text/plain": [
       "DecisionTreeClassifier(class_weight='balanced')"
      ]
     },
     "execution_count": 13,
     "metadata": {},
     "output_type": "execute_result"
    }
   ],
   "source": [
    "tf = TfidfVectorizer(stop_words='english', max_features=2000)\n",
    "X_train_tf = tf.fit_transform(X_train.plots)\n",
    "X_test_tf = tf.transform(X_test.plots)\n",
    "dt = DecisionTreeClassifier(class_weight='balanced')\n",
    "dt.fit(X_train_tf, y_train)"
   ]
  },
  {
   "cell_type": "code",
   "execution_count": 14,
   "metadata": {},
   "outputs": [
    {
     "name": "stdout",
     "output_type": "stream",
     "text": [
      "train acc:  0.9170708050436469\n",
      "test acc:  0.5949090909090909\n"
     ]
    }
   ],
   "source": [
    "print('train acc: ', dt.score(X_train_tf, y_train))\n",
    "print('test acc: ', dt.score(X_test_tf, y_test))"
   ]
  },
  {
   "cell_type": "markdown",
   "metadata": {},
   "source": [
    "Grabbing that one percent, alright\n",
    "\n",
    "### Model 3\n",
    "\n",
    "Let's try a naive bayes classifier...the big guns"
   ]
  },
  {
   "cell_type": "code",
   "execution_count": 15,
   "metadata": {},
   "outputs": [],
   "source": [
    "nb = MultinomialNB()"
   ]
  },
  {
   "cell_type": "code",
   "execution_count": 16,
   "metadata": {},
   "outputs": [
    {
     "data": {
      "text/plain": [
       "MultinomialNB()"
      ]
     },
     "execution_count": 16,
     "metadata": {},
     "output_type": "execute_result"
    }
   ],
   "source": [
    "nb.fit(X_train_tf, y_train.values.ravel())"
   ]
  },
  {
   "cell_type": "code",
   "execution_count": 17,
   "metadata": {},
   "outputs": [
    {
     "name": "stdout",
     "output_type": "stream",
     "text": [
      "train acc:  0.6205140640155189\n",
      "test acc:  0.5294545454545454\n"
     ]
    }
   ],
   "source": [
    "print('train acc: ', nb.score(X_train_tf, y_train))\n",
    "print('test acc: ', nb.score(X_test_tf, y_test))"
   ]
  },
  {
   "cell_type": "markdown",
   "metadata": {},
   "source": [
    "So that's worse, I think because the multinomial naive Bayes algorithm is best suited to deal with the integer features of count-vectorized language.\n",
    "\n",
    "let's just see if that helps"
   ]
  },
  {
   "cell_type": "code",
   "execution_count": 18,
   "metadata": {},
   "outputs": [],
   "source": [
    "cv = CountVectorizer(max_features=2000)\n",
    "X_train_cv = cv.fit_transform(X_train.plots)\n",
    "X_test_cv = cv.transform(X_test.plots)"
   ]
  },
  {
   "cell_type": "code",
   "execution_count": 19,
   "metadata": {},
   "outputs": [
    {
     "data": {
      "text/plain": [
       "MultinomialNB()"
      ]
     },
     "execution_count": 19,
     "metadata": {},
     "output_type": "execute_result"
    }
   ],
   "source": [
    "nb.fit(X_train_cv, y_train.values.ravel())"
   ]
  },
  {
   "cell_type": "code",
   "execution_count": 20,
   "metadata": {},
   "outputs": [
    {
     "name": "stdout",
     "output_type": "stream",
     "text": [
      "train acc:  0.5482541222114452\n",
      "test acc:  0.49527272727272725\n"
     ]
    }
   ],
   "source": [
    "print('train acc: ', nb.score(X_train_cv, y_train))\n",
    "print('test acc: ', nb.score(X_test_cv, y_test))"
   ]
  },
  {
   "cell_type": "markdown",
   "metadata": {},
   "source": [
    "*It was worth a shot, alright!?*\n",
    "\n",
    "### Model 4\n",
    "\n",
    "Now I'd like to try a random forest classifier....the *really* big guns\n",
    "\n",
    "First we'll just see what the vanilla classifier can do here"
   ]
  },
  {
   "cell_type": "code",
   "execution_count": 21,
   "metadata": {},
   "outputs": [
    {
     "data": {
      "text/plain": [
       "RandomForestClassifier(class_weight='balanced')"
      ]
     },
     "execution_count": 21,
     "metadata": {},
     "output_type": "execute_result"
    }
   ],
   "source": [
    "tf = TfidfVectorizer(stop_words='english', max_features=3000, ngram_range=(1,2))\n",
    "X_train_tf = tf.fit_transform(X_train.plots)\n",
    "X_test_tf = tf.transform(X_test.plots)\n",
    "rf = RandomForestClassifier(class_weight='balanced')\n",
    "rf.fit(X_train_tf, y_train.values.ravel())"
   ]
  },
  {
   "cell_type": "code",
   "execution_count": 22,
   "metadata": {},
   "outputs": [
    {
     "name": "stdout",
     "output_type": "stream",
     "text": [
      "train acc:  0.9175557710960233\n",
      "test acc:  0.645090909090909\n"
     ]
    }
   ],
   "source": [
    "print('train acc: ', rf.score(X_train_tf, y_train))\n",
    "print('test acc: ', rf.score(X_test_tf, y_test))"
   ]
  },
  {
   "cell_type": "markdown",
   "metadata": {},
   "source": [
    "Eeking out those percentages once again\n"
   ]
  },
  {
   "cell_type": "code",
   "execution_count": 23,
   "metadata": {},
   "outputs": [
    {
     "data": {
      "text/plain": [
       "SVC()"
      ]
     },
     "execution_count": 23,
     "metadata": {},
     "output_type": "execute_result"
    }
   ],
   "source": [
    "svc = SVC()\n",
    "svc.fit(X_train_tf, y_train.values.ravel())"
   ]
  },
  {
   "cell_type": "code",
   "execution_count": 24,
   "metadata": {},
   "outputs": [
    {
     "name": "stdout",
     "output_type": "stream",
     "text": [
      "train acc:  0.9175557710960233\n",
      "test acc:  0.645090909090909\n"
     ]
    }
   ],
   "source": [
    "print('train acc: ', rf.score(X_train_tf, y_train))\n",
    "print('test acc: ', rf.score(X_test_tf, y_test))"
   ]
  },
  {
   "cell_type": "markdown",
   "metadata": {},
   "source": [
    "### Time to blow it up with a *mean* grid search"
   ]
  },
  {
   "cell_type": "code",
   "execution_count": 25,
   "metadata": {},
   "outputs": [],
   "source": [
    "params = {'C': [.2, .5, 1],\n",
    "          'kernel': ['poly', 'linear'],\n",
    "          'class_weight': ['balanced', None]}\n",
    "svc = SVC()\n",
    "gs = GridSearchCV(svc, params)\n"
   ]
  },
  {
   "cell_type": "code",
   "execution_count": 26,
   "metadata": {},
   "outputs": [],
   "source": [
    "# gs.fit(X_train_tf, y_train.values.ravel())"
   ]
  },
  {
   "cell_type": "code",
   "execution_count": 27,
   "metadata": {},
   "outputs": [],
   "source": [
    "# gs.best_params_"
   ]
  },
  {
   "cell_type": "code",
   "execution_count": 28,
   "metadata": {},
   "outputs": [],
   "source": [
    "# gs.best_estimator_.score(X_test_tf, y_test)"
   ]
  },
  {
   "cell_type": "code",
   "execution_count": 29,
   "metadata": {},
   "outputs": [],
   "source": [
    "feature_array = np.array(tf.get_feature_names())\n",
    "tfidf_sorting = np.argsort(X_train_tf.toarray()).flatten()[::-1]\n",
    "\n",
    "n = 100\n",
    "top_n = feature_array[tfidf_sorting][:n]"
   ]
  },
  {
   "cell_type": "code",
   "execution_count": 30,
   "metadata": {},
   "outputs": [
    {
     "data": {
      "text/plain": [
       "array(['boat', 'city', 'god', 'entrance', 'gift', 'statue', 'win', 'gold',\n",
       "       'leave', 'ball', 'map', 'guard', 'native', 'citizen', 'hide',\n",
       "       'fall', 'losing', 'come', 'pair', 'stay', 'close', 'sacrifice',\n",
       "       'near', 'men', 'giant', 'real', 'causing', 'world', 'given',\n",
       "       'like', 'encounter', 'discovers', 'game', 'marker', 'horse',\n",
       "       'wear', 'player game', 'adding', 'peaceful', 'ritual',\n",
       "       'conversation', 'break free', 'elder', 'presumably', 'insists',\n",
       "       'desire', 'crowd', 'preparing', 'escort', 'received', 'spare',\n",
       "       'jungle', 'construction', 'thought', 'replaced', 'thrown', 'begin',\n",
       "       'round', 'golden', 'realize', 'chief', 'civilian', 'notice',\n",
       "       'succeeds', 'caught', 'clear', 'direction', 'needed', 'remain',\n",
       "       'prepare', 'relationship', 'suggests', 'block', 'knowing',\n",
       "       'legendary', 'reason', 'surface', 'believing', 'adventure',\n",
       "       'prisoner', 'rock', 'promise', 'looking', 'telling', 'cut',\n",
       "       'spirit', 'difficulty', 'stone', 'imprisoned', 'brought', 'charge',\n",
       "       'wake', 'completed', 'belief', 'realizes', 'attempting', 'manage',\n",
       "       'woman', 'speed', 'new'], dtype='<U23')"
      ]
     },
     "execution_count": 30,
     "metadata": {},
     "output_type": "execute_result"
    }
   ],
   "source": [
    "top_n"
   ]
  },
  {
   "cell_type": "code",
   "execution_count": 31,
   "metadata": {},
   "outputs": [
    {
     "data": {
      "text/plain": [
       "array([ 298,  457, 1164, ..., 1982, 1981,    0], dtype=int64)"
      ]
     },
     "execution_count": 31,
     "metadata": {},
     "output_type": "execute_result"
    }
   ],
   "source": [
    "tfidf_sorting"
   ]
  },
  {
   "cell_type": "code",
   "execution_count": 32,
   "metadata": {},
   "outputs": [
    {
     "data": {
      "text/plain": [
       "array([[   0, 1981, 1982, ...,  437,  950, 2743],\n",
       "       [   0, 1988, 1989, ..., 2678,  489, 1512],\n",
       "       [   0, 1989, 1990, ..., 2772,  658, 1226],\n",
       "       ...,\n",
       "       [   0, 1975, 1976, ...,  146, 2545,  828],\n",
       "       [   0, 1990, 1991, ...,  373, 2118, 2114],\n",
       "       [   0, 1971, 1972, ..., 1164,  457,  298]], dtype=int64)"
      ]
     },
     "execution_count": 32,
     "metadata": {},
     "output_type": "execute_result"
    }
   ],
   "source": [
    "np.argsort(X_train_tf.toarray())"
   ]
  },
  {
   "cell_type": "code",
   "execution_count": 33,
   "metadata": {},
   "outputs": [
    {
     "data": {
      "image/png": "[encoded data removed]",
      "text/plain": [
       "<Figure size 864x864 with 2 Axes>"
      ]
     },
     "metadata": {},
     "output_type": "display_data"
    }
   ],
   "source": [
    "from sklearn.metrics import plot_confusion_matrix\n",
    "import matplotlib.pyplot as plt\n",
    "plt.style.use('fivethirtyeight')\n",
    "plt.rcParams['font.size'] = 24\n",
    "plt.rc_context({ 'xtick.color':'#F59899', 'ytick.color':'#F59899', 'figure.facecolor':'white'})\n",
    "fig, ax = plt.subplots(figsize=(12,12))\n",
    "plot_confusion_matrix(rf, X_test_tf, y_test, cmap='Blues', ax=ax);\n",
    "ax.set_ylabel('True Value', color='#F59899')\n",
    "ax.set_title('Model Results', color='#F59899')\n",
    "\n",
    "ax.set_xlabel('Predicted Value', color='#F59899')\n",
    "ax.grid(False)\n",
    "plt.savefig('../src/figures/confusion.png', transparent=True)"
   ]
  },
  {
   "cell_type": "markdown",
   "metadata": {},
   "source": [
    "## Exploration Tangent\n",
    "\n",
    "I would like to explore document normalization. This is the idea that when you have multiple documents in your corpus of varying lengths, it can affect your vectorization by making the vectors of longest documents have a higher magnitude. I think I got that right. \n",
    "\n",
    "Let's see how long our documents are"
   ]
  },
  {
   "cell_type": "code",
   "execution_count": 34,
   "metadata": {},
   "outputs": [
    {
     "data": {
      "text/plain": [
       "count    5143.000000\n",
       "mean      419.355240\n",
       "std       321.381298\n",
       "min         7.000000\n",
       "25%       157.000000\n",
       "50%       348.000000\n",
       "75%       633.000000\n",
       "max      3085.000000\n",
       "Name: plots, dtype: float64"
      ]
     },
     "execution_count": 34,
     "metadata": {},
     "output_type": "execute_result"
    }
   ],
   "source": [
    "df.plots.apply(lambda x: len(x.split())).describe()"
   ]
  },
  {
   "cell_type": "markdown",
   "metadata": {},
   "source": [
    "**God dang,** we have one that is 7 words long and one that is over 3000 words long... that could be a problem"
   ]
  },
  {
   "cell_type": "code",
   "execution_count": 35,
   "metadata": {},
   "outputs": [
    {
     "data": {
      "text/plain": [
       "7.422719667810072"
      ]
     },
     "execution_count": 35,
     "metadata": {},
     "output_type": "execute_result"
    }
   ],
   "source": [
    "X_train_tf[0].sum()"
   ]
  },
  {
   "cell_type": "code",
   "execution_count": 45,
   "metadata": {},
   "outputs": [],
   "source": [
    "from sklearn.preprocessing import normalize\n",
    "normed = normalize(X_train_tf, norm='l1', axis=1)\n",
    "normed_test = normalize(X_test_tf, norm='l1', axis=1)"
   ]
  },
  {
   "cell_type": "code",
   "execution_count": 46,
   "metadata": {},
   "outputs": [
    {
     "data": {
      "text/plain": [
       "0.9999999999999998"
      ]
     },
     "execution_count": 46,
     "metadata": {},
     "output_type": "execute_result"
    }
   ],
   "source": [
    "normed[0].sum()"
   ]
  },
  {
   "cell_type": "code",
   "execution_count": 47,
   "metadata": {},
   "outputs": [
    {
     "data": {
      "text/plain": [
       "SVC()"
      ]
     },
     "execution_count": 47,
     "metadata": {},
     "output_type": "execute_result"
    }
   ],
   "source": [
    "svc = SVC()\n",
    "svc.fit(normed, y_train.values.ravel())"
   ]
  },
  {
   "cell_type": "code",
   "execution_count": 48,
   "metadata": {},
   "outputs": [
    {
     "name": "stdout",
     "output_type": "stream",
     "text": [
      "train acc:  0.8711433756805808\n",
      "test acc:  0.6088646967340591\n"
     ]
    }
   ],
   "source": [
    "print('train acc: ', svc.score(normed, y_train))\n",
    "print('test acc: ', svc.score(normed_test, y_test))"
   ]
  },
  {
   "cell_type": "code",
   "execution_count": 25,
   "metadata": {},
   "outputs": [],
   "source": [
    "stops = stopwords.words('english')\n",
    "more_stops = ['game', 'gameplay', 'players', 'win', 'battle']\n",
    "stops += more_stops"
   ]
  },
  {
   "cell_type": "code",
   "execution_count": null,
   "metadata": {},
   "outputs": [],
   "source": []
  },
  {
   "cell_type": "code",
   "execution_count": 26,
   "metadata": {},
   "outputs": [
    {
     "data": {
      "text/plain": [
       "RandomForestClassifier(class_weight='balanced')"
      ]
     },
     "execution_count": 26,
     "metadata": {},
     "output_type": "execute_result"
    }
   ],
   "source": [
    "tf = TfidfVectorizer(stop_words=stops, max_features=3000, ngram_range=(1,2))\n",
    "X_train_tf = tf.fit_transform(X_train.plots)\n",
    "X_test_tf = tf.transform(X_test.plots)\n",
    "rf = RandomForestClassifier(class_weight='balanced')\n",
    "rf.fit(X_train_tf, y_train.values.ravel())"
   ]
  },
  {
   "cell_type": "code",
   "execution_count": 27,
   "metadata": {},
   "outputs": [
    {
     "name": "stdout",
     "output_type": "stream",
     "text": [
      "train acc:  0.9180407371483996\n",
      "test acc:  0.6538181818181819\n"
     ]
    }
   ],
   "source": [
    "print('train acc: ', rf.score(X_train_tf, y_train))\n",
    "print('test acc: ', rf.score(X_test_tf, y_test))"
   ]
  },
  {
   "cell_type": "markdown",
   "metadata": {},
   "source": [
    "### Pipeline\n",
    "\n",
    "So I realize that I was doing something wrong earlier when I was grid-searching and cross-validating. I was preprocessing the data outside of the cross-validation folds, and I was therefore not getting a good picture of what the scores were."
   ]
  },
  {
   "cell_type": "code",
   "execution_count": 52,
   "metadata": {},
   "outputs": [],
   "source": [
    "from sklearn.pipeline import Pipeline\n",
    "\n",
    "pipe = Pipeline"
   ]
  },
  {
   "cell_type": "code",
   "execution_count": null,
   "metadata": {},
   "outputs": [],
   "source": []
  }
 ],
 "metadata": {
  "kernelspec": {
   "display_name": "learn-env",
   "language": "python",
   "name": "learn-env"
  },
  "language_info": {
   "codemirror_mode": {
    "name": "ipython",
    "version": 3
   },
   "file_extension": ".py",
   "mimetype": "text/x-python",
   "name": "python",
   "nbconvert_exporter": "python",
   "pygments_lexer": "ipython3",
   "version": "3.6.10"
  }
 },
 "nbformat": 4,
 "nbformat_minor": 4
}
