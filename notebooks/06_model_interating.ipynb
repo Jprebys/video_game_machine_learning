{
 "cells": [
  {
   "cell_type": "code",
   "execution_count": 149,
   "metadata": {},
   "outputs": [],
   "source": [
    "import pandas as pd\n",
    "pd.options.mode.chained_assignment = None\n",
    "\n",
    "import numpy as np\n",
    "import wikipedia\n",
    "from sklearn.model_selection import train_test_split, GridSearchCV\n",
    "from sklearn.feature_extraction.text import TfidfVectorizer, CountVectorizer\n",
    "from sklearn.linear_model import SGDClassifier\n",
    "from sklearn.linear_model import LinearRegression\n",
    "from sklearn.naive_bayes import GaussianNB\n",
    "from sklearn.tree import DecisionTreeClassifier\n",
    "from sklearn.ensemble import RandomForestRegressor, RandomForestClassifier\n",
    "from sklearn.metrics import confusion_matrix\n",
    "from nltk.stem import WordNetLemmatizer \n",
    "from sklearn.naive_bayes import MultinomialNB, ComplementNB\n",
    "from sklearn.svm import SVC"
   ]
  },
  {
   "cell_type": "markdown",
   "metadata": {},
   "source": [
    "Let's try to get some model iterations going on, and let's improve that accuracy!\n",
    "\n",
    "We left off with a decision tree classifier"
   ]
  },
  {
   "cell_type": "code",
   "execution_count": 61,
   "metadata": {},
   "outputs": [
    {
     "data": {
      "text/html": [
       "<div>\n",
       "<style scoped>\n",
       "    .dataframe tbody tr th:only-of-type {\n",
       "        vertical-align: middle;\n",
       "    }\n",
       "\n",
       "    .dataframe tbody tr th {\n",
       "        vertical-align: top;\n",
       "    }\n",
       "\n",
       "    .dataframe thead th {\n",
       "        text-align: right;\n",
       "    }\n",
       "</style>\n",
       "<table border=\"1\" class=\"dataframe\">\n",
       "  <thead>\n",
       "    <tr style=\"text-align: right;\">\n",
       "      <th></th>\n",
       "      <th>Unnamed: 0</th>\n",
       "      <th>Name</th>\n",
       "      <th>Platform</th>\n",
       "      <th>Year_of_Release</th>\n",
       "      <th>Genre</th>\n",
       "      <th>Publisher</th>\n",
       "      <th>NA_Sales</th>\n",
       "      <th>EU_Sales</th>\n",
       "      <th>JP_Sales</th>\n",
       "      <th>Other_Sales</th>\n",
       "      <th>Global_Sales</th>\n",
       "      <th>Critic_Score</th>\n",
       "      <th>Critic_Count</th>\n",
       "      <th>User_Score</th>\n",
       "      <th>User_Count</th>\n",
       "      <th>Developer</th>\n",
       "      <th>Rating</th>\n",
       "      <th>plots</th>\n",
       "    </tr>\n",
       "  </thead>\n",
       "  <tbody>\n",
       "    <tr>\n",
       "      <th>963</th>\n",
       "      <td>2130</td>\n",
       "      <td>Skylanders: Spyro's Adventure</td>\n",
       "      <td>X360</td>\n",
       "      <td>2011.0</td>\n",
       "      <td>Action</td>\n",
       "      <td>Activision</td>\n",
       "      <td>0.53</td>\n",
       "      <td>0.34</td>\n",
       "      <td>0.00</td>\n",
       "      <td>0.10</td>\n",
       "      <td>0.97</td>\n",
       "      <td>78.0</td>\n",
       "      <td>35.0</td>\n",
       "      <td>5.2</td>\n",
       "      <td>53.0</td>\n",
       "      <td>Toys for Bob</td>\n",
       "      <td>E10+</td>\n",
       "      <td>The game begins with a village in Skylands bei...</td>\n",
       "    </tr>\n",
       "    <tr>\n",
       "      <th>2155</th>\n",
       "      <td>5186</td>\n",
       "      <td>Monster Rancher 3</td>\n",
       "      <td>PS2</td>\n",
       "      <td>2001.0</td>\n",
       "      <td>Simulation</td>\n",
       "      <td>Tecmo Koei</td>\n",
       "      <td>0.11</td>\n",
       "      <td>0.09</td>\n",
       "      <td>0.14</td>\n",
       "      <td>0.03</td>\n",
       "      <td>0.36</td>\n",
       "      <td>77.0</td>\n",
       "      <td>13.0</td>\n",
       "      <td>8.5</td>\n",
       "      <td>23.0</td>\n",
       "      <td>Tecmo</td>\n",
       "      <td>E</td>\n",
       "      <td>This game uses cel-shaded graphics to give the...</td>\n",
       "    </tr>\n",
       "    <tr>\n",
       "      <th>2853</th>\n",
       "      <td>7260</td>\n",
       "      <td>Tropico 3</td>\n",
       "      <td>X360</td>\n",
       "      <td>2009.0</td>\n",
       "      <td>Strategy</td>\n",
       "      <td>Kalypso Media</td>\n",
       "      <td>0.15</td>\n",
       "      <td>0.02</td>\n",
       "      <td>0.03</td>\n",
       "      <td>0.01</td>\n",
       "      <td>0.22</td>\n",
       "      <td>75.0</td>\n",
       "      <td>33.0</td>\n",
       "      <td>6.6</td>\n",
       "      <td>22.0</td>\n",
       "      <td>Haemimont</td>\n",
       "      <td>T</td>\n",
       "      <td>Players begin having seized power of the Carib...</td>\n",
       "    </tr>\n",
       "    <tr>\n",
       "      <th>4056</th>\n",
       "      <td>11335</td>\n",
       "      <td>How to Train Your Dragon 2</td>\n",
       "      <td>WiiU</td>\n",
       "      <td>2014.0</td>\n",
       "      <td>Adventure</td>\n",
       "      <td>Little Orbit</td>\n",
       "      <td>0.03</td>\n",
       "      <td>0.05</td>\n",
       "      <td>0.00</td>\n",
       "      <td>0.01</td>\n",
       "      <td>0.08</td>\n",
       "      <td>47.0</td>\n",
       "      <td>4.0</td>\n",
       "      <td>4.9</td>\n",
       "      <td>7.0</td>\n",
       "      <td>Torus Games</td>\n",
       "      <td>E10+</td>\n",
       "      <td>Five years after the Viking villagers of Berk ...</td>\n",
       "    </tr>\n",
       "    <tr>\n",
       "      <th>50</th>\n",
       "      <td>106</td>\n",
       "      <td>Tekken 3</td>\n",
       "      <td>PS</td>\n",
       "      <td>1998.0</td>\n",
       "      <td>Fighting</td>\n",
       "      <td>Sony Computer Entertainment</td>\n",
       "      <td>3.27</td>\n",
       "      <td>2.22</td>\n",
       "      <td>1.40</td>\n",
       "      <td>0.29</td>\n",
       "      <td>7.16</td>\n",
       "      <td>96.0</td>\n",
       "      <td>15.0</td>\n",
       "      <td>9.1</td>\n",
       "      <td>367.0</td>\n",
       "      <td>Namco</td>\n",
       "      <td>T</td>\n",
       "      <td>Fifteen years after the King of the Iron Fist ...</td>\n",
       "    </tr>\n",
       "  </tbody>\n",
       "</table>\n",
       "</div>"
      ],
      "text/plain": [
       "      Unnamed: 0                           Name Platform  Year_of_Release  \\\n",
       "963         2130  Skylanders: Spyro's Adventure     X360           2011.0   \n",
       "2155        5186              Monster Rancher 3      PS2           2001.0   \n",
       "2853        7260                      Tropico 3     X360           2009.0   \n",
       "4056       11335     How to Train Your Dragon 2     WiiU           2014.0   \n",
       "50           106                       Tekken 3       PS           1998.0   \n",
       "\n",
       "           Genre                    Publisher  NA_Sales  EU_Sales  JP_Sales  \\\n",
       "963       Action                   Activision      0.53      0.34      0.00   \n",
       "2155  Simulation                   Tecmo Koei      0.11      0.09      0.14   \n",
       "2853    Strategy                Kalypso Media      0.15      0.02      0.03   \n",
       "4056   Adventure                 Little Orbit      0.03      0.05      0.00   \n",
       "50      Fighting  Sony Computer Entertainment      3.27      2.22      1.40   \n",
       "\n",
       "      Other_Sales  Global_Sales  Critic_Score  Critic_Count User_Score  \\\n",
       "963          0.10          0.97          78.0          35.0        5.2   \n",
       "2155         0.03          0.36          77.0          13.0        8.5   \n",
       "2853         0.01          0.22          75.0          33.0        6.6   \n",
       "4056         0.01          0.08          47.0           4.0        4.9   \n",
       "50           0.29          7.16          96.0          15.0        9.1   \n",
       "\n",
       "      User_Count     Developer Rating  \\\n",
       "963         53.0  Toys for Bob   E10+   \n",
       "2155        23.0         Tecmo      E   \n",
       "2853        22.0     Haemimont      T   \n",
       "4056         7.0   Torus Games   E10+   \n",
       "50         367.0         Namco      T   \n",
       "\n",
       "                                                  plots  \n",
       "963   The game begins with a village in Skylands bei...  \n",
       "2155  This game uses cel-shaded graphics to give the...  \n",
       "2853  Players begin having seized power of the Carib...  \n",
       "4056  Five years after the Viking villagers of Berk ...  \n",
       "50    Fifteen years after the King of the Iron Fist ...  "
      ]
     },
     "execution_count": 61,
     "metadata": {},
     "output_type": "execute_result"
    }
   ],
   "source": [
    "df = pd.read_csv('../data/final_plots.csv')\n",
    "df.sample(5)"
   ]
  },
  {
   "cell_type": "code",
   "execution_count": 69,
   "metadata": {},
   "outputs": [],
   "source": [
    "def success(value):\n",
    "    '''\n",
    "    function for binning the critic scores\n",
    "    '''\n",
    "    \n",
    "    if value > 60:\n",
    "        if value > 75:\n",
    "            return 2\n",
    "        return 1\n",
    "    return 0"
   ]
  },
  {
   "cell_type": "code",
   "execution_count": 70,
   "metadata": {},
   "outputs": [],
   "source": [
    "df['success'] = df.Critic_Score.apply(success)"
   ]
  },
  {
   "cell_type": "code",
   "execution_count": 35,
   "metadata": {},
   "outputs": [
    {
     "data": {
      "text/plain": [
       "<matplotlib.axes._subplots.AxesSubplot at 0x1889d712f28>"
      ]
     },
     "execution_count": 35,
     "metadata": {},
     "output_type": "execute_result"
    },
    {
     "data": {
      "image/png": "[encoded data removed]",
      "text/plain": [
       "<Figure size 432x288 with 1 Axes>"
      ]
     },
     "metadata": {
      "needs_background": "light"
     },
     "output_type": "display_data"
    }
   ],
   "source": [
    "df.success.hist()"
   ]
  },
  {
   "cell_type": "code",
   "execution_count": 36,
   "metadata": {},
   "outputs": [],
   "source": [
    "y = df[['success']]\n",
    "X = df[['plots']]\n",
    "X_train, X_test, y_train, y_test = train_test_split(X, y)"
   ]
  },
  {
   "cell_type": "code",
   "execution_count": 39,
   "metadata": {},
   "outputs": [],
   "source": [
    "tf = TfidfVectorizer(stop_words='english', max_features=1000)\n",
    "X_train_tf = tf.fit_transform(X_train.plots)\n",
    "X_test_tf = tf.transform(X_test.plots)"
   ]
  },
  {
   "cell_type": "code",
   "execution_count": 40,
   "metadata": {},
   "outputs": [
    {
     "data": {
      "text/plain": [
       "DecisionTreeClassifier()"
      ]
     },
     "execution_count": 40,
     "metadata": {},
     "output_type": "execute_result"
    }
   ],
   "source": [
    "dt = DecisionTreeClassifier()\n",
    "dt.fit(X_train_tf, y_train)"
   ]
  },
  {
   "cell_type": "code",
   "execution_count": 44,
   "metadata": {},
   "outputs": [
    {
     "name": "stdout",
     "output_type": "stream",
     "text": [
      "train acc:  0.9258491055224267\n",
      "test acc:  0.5917573872472783\n"
     ]
    }
   ],
   "source": [
    "print('train acc: ', dt.score(X_train_tf, y_train))\n",
    "print('test acc: ', dt.score(X_test_tf, y_test))"
   ]
  },
  {
   "cell_type": "markdown",
   "metadata": {},
   "source": [
    "Alright so we've got our decision tree classifier, and surprise! we're way overfit\n",
    "\n",
    "It's not a bad place to start though, almost 60% accuracy with a 3-class classifier\n",
    "\n",
    "### Model 2\n",
    "\n",
    "What I'd like to do next is to lemmatize the words before vectorizing. Undoubtedly we're getting some different conjugations and word tenses muddying up our data. We'll modify our clean_text function to lemmatize the words as well"
   ]
  },
  {
   "cell_type": "code",
   "execution_count": 52,
   "metadata": {},
   "outputs": [],
   "source": [
    "def clean_text(text):\n",
    "    import string\n",
    "    wnl = WordNetLemmatizer()\n",
    "    words = [''.join(ch for ch in s if ch not in string.punctuation) for s in text.split()]\n",
    "    words = [wnl.lemmatize(word) for word in words]\n",
    "    return ' '.join(words).lower()"
   ]
  },
  {
   "cell_type": "code",
   "execution_count": 62,
   "metadata": {},
   "outputs": [
    {
     "data": {
      "text/plain": [
       "'princess peach is held captive in her castle by bowser bowser jr and the koopalings who invade and use a giant mechanical arm to throw mario luigi and two toads far away mario and friend must now travel across this new land returning to peachs castle in order to save her on the way they encounter seven koopalings each controlling their own world plus kamek nabbit bowser jr and many minor monster like goomba by conquering them they get closer to peachs castle which ha been transformed into an evil reflection of bowser by defeating bowser the castle return to normal as the hero celebrate bowser jr and the koopalings attempt to escape almost leaving bowser behind he manages to jump up onto the airship but his weight cause it to crash and they are forced to flee on bowser jrs koopa clown car'"
      ]
     },
     "execution_count": 62,
     "metadata": {},
     "output_type": "execute_result"
    }
   ],
   "source": [
    "df.plots = df.plots.apply(clean_text)\n",
    "df.plots[100]"
   ]
  },
  {
   "cell_type": "markdown",
   "metadata": {},
   "source": [
    "Now there's no punctuation, and the words have been slightly lemmatized...? \n",
    "\n",
    "**note** I'm not too happy with the lemmatizer, words like 'conquering' 'returning' 'held', I thought it would deal with those\n",
    "\n",
    "Let's try our decision tree again"
   ]
  },
  {
   "cell_type": "code",
   "execution_count": 75,
   "metadata": {},
   "outputs": [],
   "source": [
    "y = df[['success']]\n",
    "X = df[['plots']]\n",
    "X_train, X_test, y_train, y_test = train_test_split(X, y)"
   ]
  },
  {
   "cell_type": "code",
   "execution_count": 97,
   "metadata": {},
   "outputs": [
    {
     "data": {
      "text/plain": [
       "DecisionTreeClassifier(class_weight='balanced')"
      ]
     },
     "execution_count": 97,
     "metadata": {},
     "output_type": "execute_result"
    }
   ],
   "source": [
    "tf = TfidfVectorizer(stop_words='english', max_features=2000)\n",
    "X_train_tf = tf.fit_transform(X_train.plots)\n",
    "X_test_tf = tf.transform(X_test.plots)\n",
    "dt = DecisionTreeClassifier(class_weight='balanced')\n",
    "dt.fit(X_train_tf, y_train)"
   ]
  },
  {
   "cell_type": "code",
   "execution_count": 98,
   "metadata": {},
   "outputs": [
    {
     "name": "stdout",
     "output_type": "stream",
     "text": [
      "train acc:  0.9211822660098522\n",
      "test acc:  0.6049766718506998\n"
     ]
    }
   ],
   "source": [
    "print('train acc: ', dt.score(X_train_tf, y_train))\n",
    "print('test acc: ', dt.score(X_test_tf, y_test))"
   ]
  },
  {
   "cell_type": "markdown",
   "metadata": {},
   "source": [
    "Grabbing that one percent, alright\n",
    "\n",
    "### Model 3\n",
    "\n",
    "Let's try a naive bayes classifier...the big guns"
   ]
  },
  {
   "cell_type": "code",
   "execution_count": 111,
   "metadata": {},
   "outputs": [],
   "source": [
    "nb = MultinomialNB()"
   ]
  },
  {
   "cell_type": "code",
   "execution_count": 112,
   "metadata": {},
   "outputs": [
    {
     "data": {
      "text/plain": [
       "MultinomialNB()"
      ]
     },
     "execution_count": 112,
     "metadata": {},
     "output_type": "execute_result"
    }
   ],
   "source": [
    "nb.fit(X_train_tf, y_train.values.ravel())"
   ]
  },
  {
   "cell_type": "code",
   "execution_count": 113,
   "metadata": {},
   "outputs": [
    {
     "name": "stdout",
     "output_type": "stream",
     "text": [
      "train acc:  0.6585429089966295\n",
      "test acc:  0.5505443234836703\n"
     ]
    }
   ],
   "source": [
    "print('train acc: ', nb.score(X_train_tf, y_train))\n",
    "print('test acc: ', nb.score(X_test_tf, y_test))"
   ]
  },
  {
   "cell_type": "markdown",
   "metadata": {},
   "source": [
    "So that's worse, I think because the multinomial naive Bayes algorithm is best suited to deal with the integer features of count-vectorized language.\n",
    "\n",
    "let's just see if that helps"
   ]
  },
  {
   "cell_type": "code",
   "execution_count": 120,
   "metadata": {},
   "outputs": [],
   "source": [
    "cv = CountVectorizer(max_features=2000)\n",
    "X_train_cv = cv.fit_transform(X_train.plots)\n",
    "X_test_cv = cv.transform(X_test.plots)"
   ]
  },
  {
   "cell_type": "code",
   "execution_count": 121,
   "metadata": {},
   "outputs": [
    {
     "data": {
      "text/plain": [
       "MultinomialNB()"
      ]
     },
     "execution_count": 121,
     "metadata": {},
     "output_type": "execute_result"
    }
   ],
   "source": [
    "nb.fit(X_train_cv, y_train.values.ravel())"
   ]
  },
  {
   "cell_type": "code",
   "execution_count": 122,
   "metadata": {},
   "outputs": [
    {
     "name": "stdout",
     "output_type": "stream",
     "text": [
      "train acc:  0.5421311900440757\n",
      "test acc:  0.4665629860031104\n"
     ]
    }
   ],
   "source": [
    "print('train acc: ', nb.score(X_train_cv, y_train))\n",
    "print('test acc: ', nb.score(X_test_cv, y_test))"
   ]
  },
  {
   "cell_type": "markdown",
   "metadata": {},
   "source": [
    "*It was worth a shot, alright!?*\n",
    "\n",
    "### Model 4\n",
    "\n",
    "Now I'd like to try a random forest classifier....the *really* big guns\n",
    "\n",
    "First we'll just see what the vanilla classifier can do here"
   ]
  },
  {
   "cell_type": "code",
   "execution_count": 141,
   "metadata": {},
   "outputs": [
    {
     "data": {
      "text/plain": [
       "RandomForestClassifier(class_weight='balanced')"
      ]
     },
     "execution_count": 141,
     "metadata": {},
     "output_type": "execute_result"
    }
   ],
   "source": [
    "tf = TfidfVectorizer(stop_words='english', max_features=3000, ngram_range=(1,2))\n",
    "X_train_tf = tf.fit_transform(X_train.plots)\n",
    "X_test_tf = tf.transform(X_test.plots)\n",
    "rf = RandomForestClassifier(class_weight='balanced')\n",
    "rf.fit(X_train_tf, y_train.values.ravel())"
   ]
  },
  {
   "cell_type": "code",
   "execution_count": 142,
   "metadata": {},
   "outputs": [
    {
     "name": "stdout",
     "output_type": "stream",
     "text": [
      "train acc:  0.9211822660098522\n",
      "test acc:  0.6158631415241057\n"
     ]
    }
   ],
   "source": [
    "print('train acc: ', rf.score(X_train_tf, y_train))\n",
    "print('test acc: ', rf.score(X_test_tf, y_test))"
   ]
  },
  {
   "cell_type": "markdown",
   "metadata": {},
   "source": [
    "Eeking out those percentages once again\n"
   ]
  },
  {
   "cell_type": "code",
   "execution_count": 147,
   "metadata": {},
   "outputs": [
    {
     "data": {
      "text/plain": [
       "SVC()"
      ]
     },
     "execution_count": 147,
     "metadata": {},
     "output_type": "execute_result"
    }
   ],
   "source": [
    "svc = SVC()\n",
    "svc.fit(X_train_tf, y_train.values.ravel())"
   ]
  },
  {
   "cell_type": "code",
   "execution_count": 148,
   "metadata": {},
   "outputs": [
    {
     "name": "stdout",
     "output_type": "stream",
     "text": [
      "train acc:  0.9211822660098522\n",
      "test acc:  0.6158631415241057\n"
     ]
    }
   ],
   "source": [
    "print('train acc: ', rf.score(X_train_tf, y_train))\n",
    "print('test acc: ', rf.score(X_test_tf, y_test))"
   ]
  },
  {
   "cell_type": "markdown",
   "metadata": {},
   "source": [
    "### Time to blow it up with a *mean* grid search"
   ]
  },
  {
   "cell_type": "code",
   "execution_count": 150,
   "metadata": {},
   "outputs": [],
   "source": [
    "params = {'C': [.2, .5, 1],\n",
    "          'kernel': ['poly', 'linear'],\n",
    "          'class_weight': ['balanced', None]}\n",
    "svc = SVC()\n",
    "gs = GridSearchCV(svc, params)\n"
   ]
  },
  {
   "cell_type": "code",
   "execution_count": 151,
   "metadata": {},
   "outputs": [
    {
     "data": {
      "text/plain": [
       "GridSearchCV(estimator=SVC(),\n",
       "             param_grid={'C': [0.2, 0.5, 1], 'class_weight': ['balanced', None],\n",
       "                         'kernel': ['poly', 'linear']})"
      ]
     },
     "execution_count": 151,
     "metadata": {},
     "output_type": "execute_result"
    }
   ],
   "source": [
    "gs.fit(X_train_tf, y_train.values.ravel())"
   ]
  },
  {
   "cell_type": "code",
   "execution_count": 156,
   "metadata": {},
   "outputs": [
    {
     "data": {
      "text/plain": [
       "{'C': 1, 'class_weight': None, 'kernel': 'poly'}"
      ]
     },
     "execution_count": 156,
     "metadata": {},
     "output_type": "execute_result"
    }
   ],
   "source": [
    "gs.best_params_"
   ]
  },
  {
   "cell_type": "code",
   "execution_count": 161,
   "metadata": {},
   "outputs": [
    {
     "data": {
      "text/plain": [
       "0.6181959564541213"
      ]
     },
     "execution_count": 161,
     "metadata": {},
     "output_type": "execute_result"
    }
   ],
   "source": [
    "gs.best_estimator_.score(X_test_tf, y_test)"
   ]
  },
  {
   "cell_type": "code",
   "execution_count": 173,
   "metadata": {},
   "outputs": [],
   "source": [
    "feature_array = np.array(tf.get_feature_names())\n",
    "tfidf_sorting = np.argsort(X_train_tf.toarray()).flatten()[::-1]\n",
    "\n",
    "n = 100\n",
    "top_n = feature_array[tfidf_sorting][:n]"
   ]
  },
  {
   "cell_type": "code",
   "execution_count": 174,
   "metadata": {},
   "outputs": [
    {
     "data": {
      "text/plain": [
       "array(['jones', 'character', 'indiana', 'lego', 'movie', 'custom',\n",
       "       'creation', 'player', 'story', 'mode', 'playable', 'ability',\n",
       "       'game', 'college', 'played', 'interact', 'star wars',\n",
       "       'playable character', 'story mode', 'wars', 'extra', 'environment',\n",
       "       'added', 'film', 'new', 'option', 'access', 'allows player',\n",
       "       'star', 'scene', 'like', 'gameplay', 'level', 'library', 'mission',\n",
       "       'ark', 'allows', 'solo', 'hub', 'henry', 'holy', 'mix', 'showdown',\n",
       "       'different', 'spider', 'frozen', 'play', 'snake', 'play mode',\n",
       "       'melee', 'doom', 'unlockable', 'cutscene', 'developer',\n",
       "       'game story', 'player chooses', 'traditional', 'trip', 'choosing',\n",
       "       'chapter', 'puzzle', 'art', 'serf', 'make', 'colonel', 'use',\n",
       "       'fear', 'ride', 'limited', 'section', 'storyline', 'range',\n",
       "       'required', 'featured', 'animal', 'chooses', 'player use',\n",
       "       'game ha', 'figure', 'movement', 'total', 'divided', 'standard',\n",
       "       'wall', 'content', 'bridge', 'temple', 'introduces', 'player play',\n",
       "       'bonus', 'ingame', 'test', 'gun', 'earlier', 'sword', 'girl',\n",
       "       'example', 'map', 'unlocked', 'vehicle'], dtype='<U23')"
      ]
     },
     "execution_count": 174,
     "metadata": {},
     "output_type": "execute_result"
    }
   ],
   "source": [
    "top_n"
   ]
  },
  {
   "cell_type": "code",
   "execution_count": null,
   "metadata": {},
   "outputs": [],
   "source": []
  }
 ],
 "metadata": {
  "kernelspec": {
   "display_name": "learn-env",
   "language": "python",
   "name": "learn-env"
  },
  "language_info": {
   "codemirror_mode": {
    "name": "ipython",
    "version": 3
   },
   "file_extension": ".py",
   "mimetype": "text/x-python",
   "name": "python",
   "nbconvert_exporter": "python",
   "pygments_lexer": "ipython3",
   "version": "3.6.10"
  }
 },
 "nbformat": 4,
 "nbformat_minor": 4
}
